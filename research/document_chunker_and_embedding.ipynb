{
 "cells": [
  {
   "cell_type": "code",
   "execution_count": 1,
   "metadata": {},
   "outputs": [
    {
     "name": "stderr",
     "output_type": "stream",
     "text": [
      "C:\\Users\\atriy\\AppData\\Local\\Temp/ipykernel_6880/581249992.py:1: DeprecationWarning: \n",
      "Pyarrow will become a required dependency of pandas in the next major release of pandas (pandas 3.0),\n",
      "(to allow more performant data types, such as the Arrow string type, and better interoperability with other libraries)\n",
      "but was not found to be installed on your system.\n",
      "If this would cause problems for you,\n",
      "please provide us feedback at https://github.com/pandas-dev/pandas/issues/54466\n",
      "        \n",
      "  import pandas as pd\n"
     ]
    }
   ],
   "source": [
    "import pandas as pd\n",
    "import re"
   ]
  },
  {
   "cell_type": "code",
   "execution_count": 2,
   "metadata": {},
   "outputs": [
    {
     "data": {
      "text/html": [
       "<div>\n",
       "<style scoped>\n",
       "    .dataframe tbody tr th:only-of-type {\n",
       "        vertical-align: middle;\n",
       "    }\n",
       "\n",
       "    .dataframe tbody tr th {\n",
       "        vertical-align: top;\n",
       "    }\n",
       "\n",
       "    .dataframe thead th {\n",
       "        text-align: right;\n",
       "    }\n",
       "</style>\n",
       "<table border=\"1\" class=\"dataframe\">\n",
       "  <thead>\n",
       "    <tr style=\"text-align: right;\">\n",
       "      <th></th>\n",
       "      <th>name</th>\n",
       "      <th>decoded_content</th>\n",
       "      <th>index</th>\n",
       "    </tr>\n",
       "  </thead>\n",
       "  <tbody>\n",
       "    <tr>\n",
       "      <th>0</th>\n",
       "      <td>the.message.(1976).eng.1cd</td>\n",
       "      <td>watch any video online with open-subtitlesfree...</td>\n",
       "      <td>0</td>\n",
       "    </tr>\n",
       "    <tr>\n",
       "      <th>1</th>\n",
       "      <td>here.comes.the.grump.s01.e09.joltin.jack.in.bo...</td>\n",
       "      <td>ah! there's princessdawn and terry with theblo...</td>\n",
       "      <td>1</td>\n",
       "    </tr>\n",
       "    <tr>\n",
       "      <th>2</th>\n",
       "      <td>yumis.cells.s02.e13.episode.2.13.(2022).eng.1cd</td>\n",
       "      <td>yumi's cells 2episode extremely polite yumiyum...</td>\n",
       "      <td>2</td>\n",
       "    </tr>\n",
       "    <tr>\n",
       "      <th>3</th>\n",
       "      <td>yumis.cells.s02.e14.episode.2.14.(2022).eng.1cd</td>\n",
       "      <td>watch any video online with open-subtitlesfree...</td>\n",
       "      <td>3</td>\n",
       "    </tr>\n",
       "    <tr>\n",
       "      <th>4</th>\n",
       "      <td>broker.(2022).eng.1cd</td>\n",
       "      <td>watch any video online with open-subtitlesfree...</td>\n",
       "      <td>4</td>\n",
       "    </tr>\n",
       "  </tbody>\n",
       "</table>\n",
       "</div>"
      ],
      "text/plain": [
       "                                                name  \\\n",
       "0                         the.message.(1976).eng.1cd   \n",
       "1  here.comes.the.grump.s01.e09.joltin.jack.in.bo...   \n",
       "2    yumis.cells.s02.e13.episode.2.13.(2022).eng.1cd   \n",
       "3    yumis.cells.s02.e14.episode.2.14.(2022).eng.1cd   \n",
       "4                              broker.(2022).eng.1cd   \n",
       "\n",
       "                                     decoded_content  index  \n",
       "0  watch any video online with open-subtitlesfree...      0  \n",
       "1  ah! there's princessdawn and terry with theblo...      1  \n",
       "2  yumi's cells 2episode extremely polite yumiyum...      2  \n",
       "3  watch any video online with open-subtitlesfree...      3  \n",
       "4  watch any video online with open-subtitlesfree...      4  "
      ]
     },
     "execution_count": 2,
     "metadata": {},
     "output_type": "execute_result"
    }
   ],
   "source": [
    "df = pd.read_pickle(\"df_0.pkl\")\n",
    "df.head()"
   ]
  },
  {
   "cell_type": "code",
   "execution_count": 3,
   "metadata": {},
   "outputs": [
    {
     "name": "stdout",
     "output_type": "stream",
     "text": [
      "<class 'pandas.core.frame.DataFrame'>\n",
      "RangeIndex: 2001 entries, 0 to 2000\n",
      "Data columns (total 3 columns):\n",
      " #   Column           Non-Null Count  Dtype \n",
      "---  ------           --------------  ----- \n",
      " 0   name             2001 non-null   object\n",
      " 1   decoded_content  2001 non-null   object\n",
      " 2   index            2001 non-null   int64 \n",
      "dtypes: int64(1), object(2)\n",
      "memory usage: 47.0+ KB\n"
     ]
    }
   ],
   "source": [
    "df1 = df.loc[:2000,:]\n",
    "df1.info()"
   ]
  },
  {
   "cell_type": "code",
   "execution_count": 4,
   "metadata": {},
   "outputs": [
    {
     "data": {
      "text/html": [
       "<div>\n",
       "<style scoped>\n",
       "    .dataframe tbody tr th:only-of-type {\n",
       "        vertical-align: middle;\n",
       "    }\n",
       "\n",
       "    .dataframe tbody tr th {\n",
       "        vertical-align: top;\n",
       "    }\n",
       "\n",
       "    .dataframe thead th {\n",
       "        text-align: right;\n",
       "    }\n",
       "</style>\n",
       "<table border=\"1\" class=\"dataframe\">\n",
       "  <thead>\n",
       "    <tr style=\"text-align: right;\">\n",
       "      <th></th>\n",
       "      <th>name</th>\n",
       "      <th>decoded_content</th>\n",
       "      <th>index</th>\n",
       "    </tr>\n",
       "  </thead>\n",
       "  <tbody>\n",
       "    <tr>\n",
       "      <th>1996</th>\n",
       "      <td>extraordinary.attorney.woo.s01.e10.holding.han...</td>\n",
       "      <td>is deprecated, pleaseimplement rest api from ...</td>\n",
       "      <td>1996</td>\n",
       "    </tr>\n",
       "    <tr>\n",
       "      <th>1997</th>\n",
       "      <td>who.is.christmas.eve.(2021).eng.1cd</td>\n",
       "      <td>[piano intro to \"silent night\"][choir] * silen...</td>\n",
       "      <td>1997</td>\n",
       "    </tr>\n",
       "    <tr>\n",
       "      <th>1998</th>\n",
       "      <td>erins.erotic.nights.(2006).eng.1cd</td>\n",
       "      <td>(upbeat dramatic music) is deprecated, pleasei...</td>\n",
       "      <td>1998</td>\n",
       "    </tr>\n",
       "    <tr>\n",
       "      <th>1999</th>\n",
       "      <td>girls.for.mercenaries.(1970).eng.1cd</td>\n",
       "      <td>[wind howling][wind whooshing][bats squeaking]...</td>\n",
       "      <td>1999</td>\n",
       "    </tr>\n",
       "    <tr>\n",
       "      <th>2000</th>\n",
       "      <td>the.passion.chronicles.(2018).eng.1cd</td>\n",
       "      <td>[title music]mel, i knew you'd come.was there ...</td>\n",
       "      <td>2000</td>\n",
       "    </tr>\n",
       "  </tbody>\n",
       "</table>\n",
       "</div>"
      ],
      "text/plain": [
       "                                                   name  \\\n",
       "1996  extraordinary.attorney.woo.s01.e10.holding.han...   \n",
       "1997                who.is.christmas.eve.(2021).eng.1cd   \n",
       "1998                 erins.erotic.nights.(2006).eng.1cd   \n",
       "1999               girls.for.mercenaries.(1970).eng.1cd   \n",
       "2000              the.passion.chronicles.(2018).eng.1cd   \n",
       "\n",
       "                                        decoded_content  index  \n",
       "1996   is deprecated, pleaseimplement rest api from ...   1996  \n",
       "1997  [piano intro to \"silent night\"][choir] * silen...   1997  \n",
       "1998  (upbeat dramatic music) is deprecated, pleasei...   1998  \n",
       "1999  [wind howling][wind whooshing][bats squeaking]...   1999  \n",
       "2000  [title music]mel, i knew you'd come.was there ...   2000  "
      ]
     },
     "execution_count": 4,
     "metadata": {},
     "output_type": "execute_result"
    }
   ],
   "source": [
    "df1.tail()"
   ]
  },
  {
   "cell_type": "code",
   "execution_count": 5,
   "metadata": {},
   "outputs": [],
   "source": [
    "from langchain_community.document_loaders import DataFrameLoader\n",
    "\n",
    "loader = DataFrameLoader(df1, page_content_column='decoded_content')\n",
    "data  = loader.load()"
   ]
  },
  {
   "cell_type": "code",
   "execution_count": 6,
   "metadata": {},
   "outputs": [],
   "source": [
    "# print(data)"
   ]
  },
  {
   "cell_type": "code",
   "execution_count": 7,
   "metadata": {},
   "outputs": [],
   "source": [
    "# data = df['decoded_content'][0]\n",
    "doc_contents = [doc.page_content for doc in data]\n",
    "meta_datas = [doc.metadata for doc in data]\n",
    "\n",
    "# print(doc_contents)\n",
    "# print(meta_datas)"
   ]
  },
  {
   "cell_type": "code",
   "execution_count": 8,
   "metadata": {},
   "outputs": [],
   "source": [
    "# print(doc_contents)\n",
    "# print(meta_datas)"
   ]
  },
  {
   "cell_type": "code",
   "execution_count": 9,
   "metadata": {},
   "outputs": [],
   "source": [
    "from langchain_text_splitters import RecursiveCharacterTextSplitter\n",
    "\n",
    "text_splitter = RecursiveCharacterTextSplitter(\n",
    "    separators=[\"\\n\\n\", \"\\n\", \" \", \"\"],\n",
    "    chunk_size=200,\n",
    "    chunk_overlap=50,\n",
    ")\n",
    "\n",
    "chunks = text_splitter.create_documents(doc_contents, meta_datas)\n"
   ]
  },
  {
   "cell_type": "code",
   "execution_count": 10,
   "metadata": {},
   "outputs": [
    {
     "name": "stdout",
     "output_type": "stream",
     "text": [
      "Type of variable: <class 'list'>\n",
      "\n",
      "Type of each object inside the list: <class 'langchain_core.documents.base.Document'>\n",
      "\n",
      "Total number of documents inside list: 349499\n",
      "\n",
      "* Content of first chunk: page_content='watch any video online with open-subtitlesfree browser extension: in the name of god, the most gracious, the most merciful.from muhammad, the messenger of godto heraclius, the emperor of' metadata={'name': 'the.message.(1976).eng.1cd', 'index': 0}\n",
      "\n",
      "* Content of second chunk: page_content='the messenger of godto heraclius, the emperor of byzantium.greetings to him who is thefollower of righteous guidance.i bid you to hear the divine call.i am the messenger of god to the people;accept' metadata={'name': 'the.message.(1976).eng.1cd', 'index': 0}\n"
     ]
    }
   ],
   "source": [
    "print(\"Type of variable:\", type(chunks))\n",
    "print()\n",
    "print(\"Type of each object inside the list:\", type(chunks[0]))\n",
    "print()\n",
    "print(\"Total number of documents inside list:\", len(chunks))\n",
    "print()\n",
    "print(\"* Content of first chunk:\", chunks[0])\n",
    "print()\n",
    "print(\"* Content of second chunk:\", chunks[1])"
   ]
  },
  {
   "cell_type": "code",
   "execution_count": null,
   "metadata": {},
   "outputs": [],
   "source": []
  },
  {
   "cell_type": "code",
   "execution_count": null,
   "metadata": {},
   "outputs": [],
   "source": []
  }
 ],
 "metadata": {
  "kernelspec": {
   "display_name": "subtitleSearch",
   "language": "python",
   "name": "python3"
  },
  "language_info": {
   "codemirror_mode": {
    "name": "ipython",
    "version": 3
   },
   "file_extension": ".py",
   "mimetype": "text/x-python",
   "name": "python",
   "nbconvert_exporter": "python",
   "pygments_lexer": "ipython3",
   "version": "3.10.15"
  }
 },
 "nbformat": 4,
 "nbformat_minor": 2
}
