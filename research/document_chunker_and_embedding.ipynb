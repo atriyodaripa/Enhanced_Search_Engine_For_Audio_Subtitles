{
 "cells": [
  {
   "cell_type": "code",
   "execution_count": 41,
   "metadata": {},
   "outputs": [],
   "source": [
    "import pandas as pd\n",
    "import re"
   ]
  },
  {
   "cell_type": "code",
   "execution_count": 111,
   "metadata": {},
   "outputs": [
    {
     "data": {
      "text/html": [
       "<div>\n",
       "<style scoped>\n",
       "    .dataframe tbody tr th:only-of-type {\n",
       "        vertical-align: middle;\n",
       "    }\n",
       "\n",
       "    .dataframe tbody tr th {\n",
       "        vertical-align: top;\n",
       "    }\n",
       "\n",
       "    .dataframe thead th {\n",
       "        text-align: right;\n",
       "    }\n",
       "</style>\n",
       "<table border=\"1\" class=\"dataframe\">\n",
       "  <thead>\n",
       "    <tr style=\"text-align: right;\">\n",
       "      <th></th>\n",
       "      <th>name</th>\n",
       "      <th>decoded_content</th>\n",
       "      <th>index</th>\n",
       "    </tr>\n",
       "  </thead>\n",
       "  <tbody>\n",
       "    <tr>\n",
       "      <th>0</th>\n",
       "      <td>the.message.(1976).eng.1cd</td>\n",
       "      <td>watch any video online with open-subtitlesfree...</td>\n",
       "      <td>0</td>\n",
       "    </tr>\n",
       "    <tr>\n",
       "      <th>1</th>\n",
       "      <td>here.comes.the.grump.s01.e09.joltin.jack.in.bo...</td>\n",
       "      <td>ah! there's princessdawn and terry with theblo...</td>\n",
       "      <td>1</td>\n",
       "    </tr>\n",
       "    <tr>\n",
       "      <th>2</th>\n",
       "      <td>yumis.cells.s02.e13.episode.2.13.(2022).eng.1cd</td>\n",
       "      <td>yumi's cells 2episode extremely polite yumiyum...</td>\n",
       "      <td>2</td>\n",
       "    </tr>\n",
       "    <tr>\n",
       "      <th>3</th>\n",
       "      <td>yumis.cells.s02.e14.episode.2.14.(2022).eng.1cd</td>\n",
       "      <td>watch any video online with open-subtitlesfree...</td>\n",
       "      <td>3</td>\n",
       "    </tr>\n",
       "    <tr>\n",
       "      <th>4</th>\n",
       "      <td>broker.(2022).eng.1cd</td>\n",
       "      <td>watch any video online with open-subtitlesfree...</td>\n",
       "      <td>4</td>\n",
       "    </tr>\n",
       "  </tbody>\n",
       "</table>\n",
       "</div>"
      ],
      "text/plain": [
       "                                                name  \\\n",
       "0                         the.message.(1976).eng.1cd   \n",
       "1  here.comes.the.grump.s01.e09.joltin.jack.in.bo...   \n",
       "2    yumis.cells.s02.e13.episode.2.13.(2022).eng.1cd   \n",
       "3    yumis.cells.s02.e14.episode.2.14.(2022).eng.1cd   \n",
       "4                              broker.(2022).eng.1cd   \n",
       "\n",
       "                                     decoded_content  index  \n",
       "0  watch any video online with open-subtitlesfree...      0  \n",
       "1  ah! there's princessdawn and terry with theblo...      1  \n",
       "2  yumi's cells 2episode extremely polite yumiyum...      2  \n",
       "3  watch any video online with open-subtitlesfree...      3  \n",
       "4  watch any video online with open-subtitlesfree...      4  "
      ]
     },
     "execution_count": 111,
     "metadata": {},
     "output_type": "execute_result"
    }
   ],
   "source": [
    "df5 = pd.read_pickle(\"/root/Enhanced_Search_Engine_For_Audio_Subtitles/research/dataframe_pickle_files/df_0.pkl\")\n",
    "df5.head()"
   ]
  },
  {
   "cell_type": "code",
   "execution_count": null,
   "metadata": {},
   "outputs": [],
   "source": [
    "# print(df5['decoded_content'][3])"
   ]
  },
  {
   "cell_type": "code",
   "execution_count": 44,
   "metadata": {},
   "outputs": [],
   "source": [
    "# print(df['name'][3])"
   ]
  },
  {
   "cell_type": "code",
   "execution_count": 112,
   "metadata": {},
   "outputs": [
    {
     "name": "stdout",
     "output_type": "stream",
     "text": [
      "<class 'pandas.core.frame.DataFrame'>\n",
      "RangeIndex: 3 entries, 0 to 2\n",
      "Data columns (total 3 columns):\n",
      " #   Column           Non-Null Count  Dtype \n",
      "---  ------           --------------  ----- \n",
      " 0   name             3 non-null      object\n",
      " 1   decoded_content  3 non-null      object\n",
      " 2   index            3 non-null      int64 \n",
      "dtypes: int64(1), object(2)\n",
      "memory usage: 200.0+ bytes\n"
     ]
    }
   ],
   "source": [
    "df6 = df5.loc[:2,:]\n",
    "df6.info()"
   ]
  },
  {
   "cell_type": "code",
   "execution_count": 46,
   "metadata": {},
   "outputs": [],
   "source": [
    "# df1.tail()"
   ]
  },
  {
   "cell_type": "code",
   "execution_count": null,
   "metadata": {},
   "outputs": [],
   "source": [
    "from langchain_community.document_loaders import DataFrameLoader\n",
    "\n",
    "\n",
    "loader = DataFrameLoader(df6, page_content_column='decoded_content')\n",
    "data  = loader.load()\n",
    "doc_contents = [doc.page_content for doc in data]\n",
    "meta_datas = [doc.metadata for doc in data]\n",
    "\n",
    "\n"
   ]
  },
  {
   "cell_type": "code",
   "execution_count": 115,
   "metadata": {},
   "outputs": [
    {
     "name": "stdout",
     "output_type": "stream",
     "text": [
      "[{'name': 'the.message.(1976).eng.1cd', 'index': 0}, {'name': 'here.comes.the.grump.s01.e09.joltin.jack.in.boxia.(1969).eng.1cd', 'index': 1}, {'name': 'yumis.cells.s02.e13.episode.2.13.(2022).eng.1cd', 'index': 2}]\n"
     ]
    }
   ],
   "source": [
    "print(meta_datas)"
   ]
  },
  {
   "cell_type": "code",
   "execution_count": 118,
   "metadata": {},
   "outputs": [],
   "source": [
    "from langchain_text_splitters import RecursiveCharacterTextSplitter\n",
    "text_splitter = RecursiveCharacterTextSplitter(\n",
    "    separators=[\"\\n\\n\", \"\\n\", \" \", \"\"],\n",
    "    chunk_size=200,\n",
    "    chunk_overlap=50,\n",
    ")\n",
    "\n",
    "chunks = text_splitter.create_documents(doc_contents, meta_datas)\n"
   ]
  },
  {
   "cell_type": "code",
   "execution_count": 119,
   "metadata": {},
   "outputs": [
    {
     "name": "stdout",
     "output_type": "stream",
     "text": [
      "[Document(metadata={'name': 'the.message.(1976).eng.1cd', 'index': 0}, page_content='watch any video online with open-subtitlesfree browser extension: in the name of god, the most gracious, the most merciful.from muhammad, the messenger of godto heraclius, the emperor of'), Document(metadata={'name': 'the.message.(1976).eng.1cd', 'index': 0}, page_content='the messenger of godto heraclius, the emperor of byzantium.greetings to him who is thefollower of righteous guidance.i bid you to hear the divine call.i am the messenger of god to the people;accept'), Document(metadata={'name': 'the.message.(1976).eng.1cd', 'index': 0}, page_content='am the messenger of god to the people;accept islam for your salvation.he speaks of a new prophet in arabia.was it like this when john, the baptistcame to king herodout of the desert, crying about'), Document(metadata={'name': 'the.message.(1976).eng.1cd', 'index': 0}, page_content='to king herodout of the desert, crying about salvation?to muqawqis, patriarch of alexandria.kisra, emperor of persia.muhammad calls you with the call of god.accept islam for your salvation...embrace'), Document(metadata={'name': 'the.message.(1976).eng.1cd', 'index': 0}, page_content='of god.accept islam for your salvation...embrace islam.you come out of the desert,smelling of camel and goat.to tell persia where he should kneel?muhammad, messenger of god.who gave him this'), Document(metadata={'name': 'the.message.(1976).eng.1cd', 'index': 0}, page_content='messenger of god.who gave him this authority?god sent muhammadas a mercy to mankind.the scholars and historians of islam -the university of al-azhar in cairothe high islamic congress of the shiat in'), Document(metadata={'name': 'the.message.(1976).eng.1cd', 'index': 0}, page_content='in cairothe high islamic congress of the shiat in lebanonthe makers of this film honour the islamic traditionwhich holds that the impersonation of the prophetoffends against the spirituality of his'), Document(metadata={'name': 'the.message.(1976).eng.1cd', 'index': 0}, page_content='prophetoffends against the spirituality of his message.therefore, the person of mohammadwill not be shown.600 years after christ died,when europe was sunk in the dark agesand everywhere the'), Document(metadata={'name': 'the.message.(1976).eng.1cd', 'index': 0}, page_content='was sunk in the dark agesand everywhere the oldcivilizations were falling,muhammad was bornin mecca, in arabia.mecca was then a rich tradingcity, ruled by its merchantswhose wealth was multipliedby a'), Document(metadata={'name': 'the.message.(1976).eng.1cd', 'index': 0}, page_content='by its merchantswhose wealth was multipliedby a unique privilege...they housed the gods.every year, at thetime of the great fair,the desert priests brought their idolsand the images of their godsinto'), Document(metadata={'name': 'the.message.(1976).eng.1cd', 'index': 0}, page_content='their idolsand the images of their godsinto the custody of the kaaba.once, the most holy shrine of abraham,the kaaba had nowbecome a house of idolotryhosting no fewer than360 different gods.mecca in'), Document(metadata={'name': 'the.message.(1976).eng.1cd', 'index': 0}, page_content=\"no fewer than360 different gods.mecca in 610 a.d.bilal!have you had today's count umaya?not yet...but this year the gods are gold.when you put the gods and prophet together,you sit very pretty\"), Document(metadata={'name': 'the.message.(1976).eng.1cd', 'index': 0}, page_content=\"the gods and prophet together,you sit very pretty between hmm?and more gods to place in the kaaba.caravan from syria.- hmm...they must have been running.- they'll be thirsty.put five more men on\"), Document(metadata={'name': 'the.message.(1976).eng.1cd', 'index': 0}, page_content=\"running.- they'll be thirsty.put five more men on north wells.how many sheep shalli have to kill for them?70?give them a hundred.mecca must keep hername for hospitality.and ten lambs for the\"), Document(metadata={'name': 'the.message.(1976).eng.1cd', 'index': 0}, page_content=\"hername for hospitality.and ten lambs for the leaders.bread and water,do the poets have in the hakim's house?where verse and prose arenightly put to slaughter.and...and the bread, i swear in there,is\"), Document(metadata={'name': 'the.message.(1976).eng.1cd', 'index': 0}, page_content='the bread, i swear in there,is thinner than the water!oh...open the space, open the space,you lovers of poetry,to abu sufian, willing and which...patron of the arts.when abu sofyan invites the poet'), Document(metadata={'name': 'the.message.(1976).eng.1cd', 'index': 0}, page_content='of the arts.when abu sofyan invites the poet in,their joy is kit and love is kin.where wines and cakes abound,the skills of abu sofyan.all revels and all songs begin,when abu sofyan invites the poet'), Document(metadata={'name': 'the.message.(1976).eng.1cd', 'index': 0}, page_content=\"all songs begin,when abu sofyan invites the poet in.from the silkworms of china, my lady.a pleasure to the limb...and as my lady can see,a ravish to the eye.yes, 7 lengths.20 dinars.abu sofyan's\"), Document(metadata={'name': 'the.message.(1976).eng.1cd', 'index': 0}, page_content=\"to the eye.yes, 7 lengths.20 dinars.abu sofyan's wife?15.oh, gold! the gods of thekaaba have their needs,their upkeeps.who is that man who stood there,who looked into my soul?carry me away from\"), Document(metadata={'name': 'the.message.(1976).eng.1cd', 'index': 0}, page_content=\"there,who looked into my soul?carry me away from here.why must muhammad come down here?why don't you stop him?he is your nephew.maybe he will change.change?he is 40 years old.it's unnatural...with a\"), Document(metadata={'name': 'the.message.(1976).eng.1cd', 'index': 0}, page_content=\"is 40 years old.it's unnatural...with a rich wife, he couldafford the best of mecca.yet he chooses to sit shivering in a cave.it is unnatural!for a man who dares torisk the anger of al-uzza,who keeps\"), Document(metadata={'name': 'the.message.(1976).eng.1cd', 'index': 0}, page_content='who dares torisk the anger of al-uzza,who keeps our health.manat, the god of our prosperity.allat, the god of ourfamily and tribes.and hubal...hubal, who starts our caravansand predicts our fate.to'), Document(metadata={'name': 'the.message.(1976).eng.1cd', 'index': 0}, page_content=\"who starts our caravansand predicts our fate.to challenge the gods within earshotof the gods is dangerous.unreasonable.rebellious, blasphemous.yes, i'm afraid muhammadwill harm himself.i am always\"), Document(metadata={'name': 'the.message.(1976).eng.1cd', 'index': 0}, page_content=\"i'm afraid muhammadwill harm himself.i am always sadwhen the great fair is over.i might not see the next one.abu talib! abu talib!catch your breath, zaid!has muhammad come downfrom mount hira\"), Document(metadata={'name': 'the.message.(1976).eng.1cd', 'index': 0}, page_content=\"zaid!has muhammad come downfrom mount hira yet?he's been up there three days.no, no, i haven't seen him.khadijah hoped he might havecome to you on his way home.then he's still up there.three days.i'm\"), Document(metadata={'name': 'the.message.(1976).eng.1cd', 'index': 0}, page_content=\"way home.then he's still up there.three days.i'm afraid for him on the mountain,because...i don't know what it means.men see the world too wellfrom a mountain.muhammad! read!in the name of thy lord\"), Document(metadata={'name': 'the.message.(1976).eng.1cd', 'index': 0}, page_content=\"a mountain.muhammad! read!in the name of thy lord who createdman from his sensitive drop of blood.who teaches man what he knows not.read!he's still trembling under the blanket...but he has\"), Document(metadata={'name': 'the.message.(1976).eng.1cd', 'index': 0}, page_content='still trembling under the blanket...but he has spoken.zaid! what happened tomy nephew on the mountain?he was alone, in the cave.suddenly, an angel came in to him.the angel said: read!muhammad'), Document(metadata={'name': 'the.message.(1976).eng.1cd', 'index': 0}, page_content='came in to him.the angel said: read!muhammad replied: i can not read.the angel commanded again: read!in the name of thy lord,who created man fromhis sensitive drop of blood,who teaches man what he'), Document(metadata={'name': 'the.message.(1976).eng.1cd', 'index': 0}, page_content='sensitive drop of blood,who teaches man what he knows not.read!who knows if it was gabriel?it could have been a dream.when muhammad was coming fromthe mountain, he saw gabriel plainly.in the shape of'), Document(metadata={'name': 'the.message.(1976).eng.1cd', 'index': 0}, page_content='mountain, he saw gabriel plainly.in the shape of a manstanding on the horizon.wherever he looked,upon every turn ofhis head he saw him.and gabriel said to him again,i am gabriel...and you'), Document(metadata={'name': 'the.message.(1976).eng.1cd', 'index': 0}, page_content='gabriel said to him again,i am gabriel...and you muhammad,are the messenger of god.who has he told about this?his wife,and ali,and, his friend abu bakr.and you?i am his adopted son.be careful to whom'), Document(metadata={'name': 'the.message.(1976).eng.1cd', 'index': 0}, page_content='you?i am his adopted son.be careful to whom you talk.tell him his uncle who protected himwhen he was a child, will protect him still.after all...they say the god of mosesspoke to him out of a burning'), Document(metadata={'name': 'the.message.(1976).eng.1cd', 'index': 0}, page_content=\"say the god of mosesspoke to him out of a burning bush.if you do not restrainyour nephew then we will.he's dividing the city,heart against house.he's dividing the generationschild against parent.the\"), Document(metadata={'name': 'the.message.(1976).eng.1cd', 'index': 0}, page_content='dividing the generationschild against parent.the young are listening to him.he attracts the young.we are arabs,we obey our fathers.our children cannot be our teachers.how can we accept that the manwe'), Document(metadata={'name': 'the.message.(1976).eng.1cd', 'index': 0}, page_content=\"be our teachers.how can we accept that the manwe met in the street yesterdaycan be some god's prophet today?dead bones can live again, he saysbecause he who created mancan also make man returnfrom\"), Document(metadata={'name': 'the.message.(1976).eng.1cd', 'index': 0}, page_content='he who created mancan also make man returnfrom the dead, he says!the gods might leave us andgive their benefits to another city.tell him...we will give himauthority, position,and keys to the'), Document(metadata={'name': 'the.message.(1976).eng.1cd', 'index': 0}, page_content='will give himauthority, position,and keys to the kaaba,and money, what money he wants.tell him, we will givehim anything he wants.muhammad, spare yourself...and me.do not put a greater burden onan'), Document(metadata={'name': 'the.message.(1976).eng.1cd', 'index': 0}, page_content='me.do not put a greater burden onan old man that he can bear.in your childhood, you were in my arms.i cannot now see you hurt.if you refuse them...they will hurt you.he said this to me:were they to'), Document(metadata={'name': 'the.message.(1976).eng.1cd', 'index': 0}, page_content='will hurt you.he said this to me:were they to put the sun in myright hand and the moon in my left,i would not renounce my message,which is from god.when i am dead,you may do as you please,but whilst'), Document(metadata={'name': 'the.message.(1976).eng.1cd', 'index': 0}, page_content=\"i am dead,you may do as you please,but whilst i'm alive,you will obey your father!why did you hurt our father?if i were drunk every dayand played dice every night,you'd call it high spirits!you will\"), Document(metadata={'name': 'the.message.(1976).eng.1cd', 'index': 0}, page_content=\"every night,you'd call it high spirits!you will be more mybrother than you are now!you are all my children.i've given you everything i could,but it seems not to be enough.muhammad gives me more,he\"), Document(metadata={'name': 'the.message.(1976).eng.1cd', 'index': 0}, page_content=\"seems not to be enough.muhammad gives me more,he give all the world more.get him out of here, father!it's not waleed or me,it's our father.you tortured him.wait hudayfa, wait!how can they sayit's an\"), Document(metadata={'name': 'the.message.(1976).eng.1cd', 'index': 0}, page_content=\"him.wait hudayfa, wait!how can they sayit's an invention, musab,when it isn't new?in mecca, it's new.yet, god has said it all before...to noah, moses, jesusto all the prophets,but people changed\"), Document(metadata={'name': 'the.message.(1976).eng.1cd', 'index': 0}, page_content=\"jesusto all the prophets,but people changed it,turned it, forgot it.now god said it to muhammad again...and it is new again.what is it?it's jafar.what have you brought with you?the very word of\"), Document(metadata={'name': 'the.message.(1976).eng.1cd', 'index': 0}, page_content='have you brought with you?the very word of god.when the sun is overthrown.when the stars fall.when the mountains vanish.when the camels big withyoung are abandoned.when the wild beasts are herded'), Document(metadata={'name': 'the.message.(1976).eng.1cd', 'index': 0}, page_content='are abandoned.when the wild beasts are herded together.when the seas rise.when the souls are sorted.when the female infantwho is buried alive,asks for what crime she was killed.when the books are'), Document(metadata={'name': 'the.message.(1976).eng.1cd', 'index': 0}, page_content='for what crime she was killed.when the books are opened.when the sky is torn away,then...every soul...will know what it has done.were you there, jafarwhen god gave him these words?dawn is coming'), Document(metadata={'name': 'the.message.(1976).eng.1cd', 'index': 0}, page_content=\"jafarwhen god gave him these words?dawn is coming up.ammar, you first,then you jaafar.ammar!you kept your mother awakeall night with worry.i'm sorry father.where were you?have you been with muhammad\"), Document(metadata={'name': 'the.message.(1976).eng.1cd', 'index': 0}, page_content='father.where were you?have you been with muhammad again?what will happen now?forgive him, it wasmy fault, i did it.that god has helped us all our lives.but it fell...it could not even help'), Document(metadata={'name': 'the.message.(1976).eng.1cd', 'index': 0}, page_content=\"our lives.but it fell...it could not even help itself.what talk have you been listening to?the real god is unseen.he's not made of clay.ammar, we see the godsin the kaaba every day.i'm afraid for\"), Document(metadata={'name': 'the.message.(1976).eng.1cd', 'index': 0}, page_content=\"see the godsin the kaaba every day.i'm afraid for you.you're listening to peoplewho will hurt you.i'm listening to muhammad, mother.muhammad is generous, yes.he gives, he shares,he'll pass no man\"), Document(metadata={'name': 'the.message.(1976).eng.1cd', 'index': 0}, page_content=\"yes.he gives, he shares,he'll pass no man without a smile,but he is spreading dangerous ideas.dangerous ideas,that no man should start?that the rich should not afloat the poor?the strong should not\"), Document(metadata={'name': 'the.message.(1976).eng.1cd', 'index': 0}, page_content='should not afloat the poor?the strong should not oppress the weak?are these dangerous ideas?girls should not be forced into marriage,but be able to choose or refuse.by only tonight, he said;stop the'), Document(metadata={'name': 'the.message.(1976).eng.1cd', 'index': 0}, page_content='or refuse.by only tonight, he said;stop the burial of new-born girls.i was fortunate, alwaysfortunate with your mother.yes, but you know that you and inearly never met, yasser.and you were nearly'), Document(metadata={'name': 'the.message.(1976).eng.1cd', 'index': 0}, page_content=\"and inearly never met, yasser.and you were nearly never born.i was to be buried,like my two sisters,but my father couldn't do it.he couldn't do it the third time.when the second girl was being...when\"), Document(metadata={'name': 'the.message.(1976).eng.1cd', 'index': 0}, page_content='third time.when the second girl was being...when my father was putting sand over her,she took hold of his finger,the way a baby does.he told my mother afterwards,that it was a minute...before the'), Document(metadata={'name': 'the.message.(1976).eng.1cd', 'index': 0}, page_content=\"afterwards,that it was a minute...before the tender little grip eased...and he dared take away his hand.when i was born,my father ran out of the housescreaming that he couldn't do it again,that he\"), Document(metadata={'name': 'the.message.(1976).eng.1cd', 'index': 0}, page_content=\"that he couldn't do it again,that he could never do it again.sumayyah, it is the custom.but it's wrong.the gods that let suchthings be are no gods.i promised to go to muhammad'shouse mama, we pray\"), Document(metadata={'name': 'the.message.(1976).eng.1cd', 'index': 0}, page_content=\"promised to go to muhammad'shouse mama, we pray there.yes! he is a good man.yes...yes, you go.two men are following him.read? muhammad canneither write nor read.but he can speak.what did you say?he\"), Document(metadata={'name': 'the.message.(1976).eng.1cd', 'index': 0}, page_content=\"nor read.but he can speak.what did you say?he can speak?well, so can you so now,you speak up young man.what does muhammad say, umm?they are god's words, not his.which god's?what words?a speaking\"), Document(metadata={'name': 'the.message.(1976).eng.1cd', 'index': 0}, page_content=\"words, not his.which god's?what words?a speaking god?your muhammadspeaks only to himself.when god reveals hismessage to muhammad,he remembers every wordthen he tells it to those who can write...this\"), Document(metadata={'name': 'the.message.(1976).eng.1cd', 'index': 0}, page_content='he tells it to those who can write...this is the quran.muhammad has starvedhimself into dreams.he hides under a blanketwith his eyes shut.his eyes are shutbut his heart is open.you! kick him for his'), Document(metadata={'name': 'the.message.(1976).eng.1cd', 'index': 0}, page_content=\"shutbut his heart is open.you! kick him for his cleverness.there is no purpose in that.doesn't muhammad realize, welive by giving housing to the gods?we own the kaaba.every year, the tribes ofarabia\"), Document(metadata={'name': 'the.message.(1976).eng.1cd', 'index': 0}, page_content='own the kaaba.every year, the tribes ofarabia come here to meccato pray and to buy from us.now, were we to replace300 gods with just one?whom we cannot even see, who issupposed to be in taif and'), Document(metadata={'name': 'the.message.(1976).eng.1cd', 'index': 0}, page_content='cannot even see, who issupposed to be in taif and medina,here in my house,in jerusalem, on the moon?where would mecca be then?the gods are both ourworship and our revenue.you cannot buy and sell'), Document(metadata={'name': 'the.message.(1976).eng.1cd', 'index': 0}, page_content='and our revenue.you cannot buy and sell god.young man, you areclose to the whip.ammar, be sensible boy.i have a question.muhammad teaches you,a slave is equal to his master.this black bilal, who'), Document(metadata={'name': 'the.message.(1976).eng.1cd', 'index': 0}, page_content='is equal to his master.this black bilal, who ipaid money for...equal to me?yes muhammad says...before god, all men are asequal as the teeth of a comb.this is a very pleasant ideato slaves and'), Document(metadata={'name': 'the.message.(1976).eng.1cd', 'index': 0}, page_content='a comb.this is a very pleasant ideato slaves and beggars.it gives them pretensions.bilal!teach this man the differencebetween the lord of mecca and a slave.take that whip.lash his face, toteach his'), Document(metadata={'name': 'the.message.(1976).eng.1cd', 'index': 0}, page_content=\"a slave.take that whip.lash his face, toteach his mouth a lesson.whip him!whip him!cut him!whip him!do it bilal!obey them!they will kill you!see what anarchy they bring!they've even infected our\"), Document(metadata={'name': 'the.message.(1976).eng.1cd', 'index': 0}, page_content=\"what anarchy they bring!they've even infected our slaves!if you're human enoughto have gods......remember!they are the gods of your owner!i bought your humanity bilalwhen i bought you.you will be\"), Document(metadata={'name': 'the.message.(1976).eng.1cd', 'index': 0}, page_content='your humanity bilalwhen i bought you.you will be corrected!one, one god.there is only one god!who is stronger now?your masteror this one god of yours?one god.there is only one god.bring the'), Document(metadata={'name': 'the.message.(1976).eng.1cd', 'index': 0}, page_content='of yours?one god.there is only one god.bring the stones!one god.one......one god.crush him!break him!have you finished with him?there is only one god!- one god!- you could swear the slave was'), Document(metadata={'name': 'the.message.(1976).eng.1cd', 'index': 0}, page_content=\"one god!- one god!- you could swear the slave was preaching!- one god!- lord umaya!abu bakr will pay a dinars for this slave.wait now!it's against our social orderto sell a slave during his\"), Document(metadata={'name': 'the.message.(1976).eng.1cd', 'index': 0}, page_content='our social orderto sell a slave during his correction.the offer is to lord umaya!200!if the price of slaves is raised,we shall have to bailourselves next year.take him!he is no use to me anymore!kill'), Document(metadata={'name': 'the.message.(1976).eng.1cd', 'index': 0}, page_content=\"year.take him!he is no use to me anymore!kill him or take him,i'm finished with him!we are declaring ourselves.god has told his messengerto declare islam to all men!open the windows!let the world\"), Document(metadata={'name': 'the.message.(1976).eng.1cd', 'index': 0}, page_content='islam to all men!open the windows!let the world hear!we are coming out of the darkness!hear well the word of god!hear well the messenger of god!there are no other gods but godand muhammad is his'), Document(metadata={'name': 'the.message.(1976).eng.1cd', 'index': 0}, page_content='are no other gods but godand muhammad is his messenger.there are no other gods but godand muhammad is his messenger.we have come into light,join us in the march to the kaaba!god is most great,god is'), Document(metadata={'name': 'the.message.(1976).eng.1cd', 'index': 0}, page_content='the march to the kaaba!god is most great,god is most great!god has no partner!we have come into light,join us in the march to the kaaba!muhammad and his rebellioncalled islam are coming out,to foul'), Document(metadata={'name': 'the.message.(1976).eng.1cd', 'index': 0}, page_content=\"his rebellioncalled islam are coming out,to foul our godsand dethrone religion.don't let them reach the kaaba!throw them back! defend your gods!!there is no god but godand muhammad is the messenger\"), Document(metadata={'name': 'the.message.(1976).eng.1cd', 'index': 0}, page_content='is no god but godand muhammad is the messenger of god.there is no god but godand muhammad is the messenger of god.there is no god but godand muhammad is the messenger of god.protect the prophet!there'), Document(metadata={'name': 'the.message.(1976).eng.1cd', 'index': 0}, page_content='is the messenger of god.protect the prophet!there is no god but godand muhammad is the messenger of god.guards!god is great!this is blasphemy you idiot!god is great!god is great!god is great!there is'), Document(metadata={'name': 'the.message.(1976).eng.1cd', 'index': 0}, page_content=\"is great!god is great!god is great!there is no god but godand muhammad is the messenger of god.now's the time to break them,there are only 30 of them.no, we've done enough.more will only create\"), Document(metadata={'name': 'the.message.(1976).eng.1cd', 'index': 0}, page_content=\"them.no, we've done enough.more will only create sympathy for them.god is great!stand down!god is great!god is great!in the name of god,most gracious, most merciful.say: o you who reject faith,i\"), Document(metadata={'name': 'the.message.(1976).eng.1cd', 'index': 0}, page_content='most merciful.say: o you who reject faith,i worship not what you worship.keep him out of the kaaba!i worship not what you worship.keep him out of the kaaba!lead them out!neither do you worship what i'), Document(metadata={'name': 'the.message.(1976).eng.1cd', 'index': 0}, page_content=\"kaaba!lead them out!neither do you worship what i worship.lead them out!neither do you worship what i worship.silence, you're a false prophet!neither do you worship what i worship.silence, you're a\"), Document(metadata={'name': 'the.message.(1976).eng.1cd', 'index': 0}, page_content=\"do you worship what i worship.silence, you're a false prophet!finish muhammad!protect the prophet!finish muhammad!protect the prophet!messenger of god,back to the corner!hamza! hamza!you are brave.he\"), Document(metadata={'name': 'the.message.(1976).eng.1cd', 'index': 0}, page_content=\"to the corner!hamza! hamza!you are brave.he is the bravest man in the desert...when he meets unarmed men.muhammad is...is a liar!liar?if you don't let him speak!where's the lie and where's the\"), Document(metadata={'name': 'the.message.(1976).eng.1cd', 'index': 0}, page_content=\"let him speak!where's the lie and where's the truth...when it hasn't been spoken yet?muhammad is a fraud!stand up! hit me back if you dare!i affirm my nephew's religionand i say what he says!whoever\"), Document(metadata={'name': 'the.message.(1976).eng.1cd', 'index': 0}, page_content=\"nephew's religionand i say what he says!whoever has the courage to fight,fight with me!muhammad, when i hunt the desert at night...i know god...is not kept in a house.who would have thought that\"), Document(metadata={'name': 'the.message.(1976).eng.1cd', 'index': 0}, page_content='not kept in a house.who would have thought that hamza,hamza above all,with his wine drinking, lion hunting...would come to join muhammad?the more we attack him,more they seem to join him.where does'), Document(metadata={'name': 'the.message.(1976).eng.1cd', 'index': 0}, page_content=\"attack him,more they seem to join him.where does he find his words?i don't know.how can an illiterate mango up on a mountainand come down three days later,blazing with poetry?if it were just\"), Document(metadata={'name': 'the.message.(1976).eng.1cd', 'index': 0}, page_content=\"days later,blazing with poetry?if it were just poetry...he says it's god.how do we fight someone whosestrength we do not understand?muhammad promises heaven,trees in the skies.so naturally he's found\"), Document(metadata={'name': 'the.message.(1976).eng.1cd', 'index': 0}, page_content=\"heaven,trees in the skies.so naturally he's found an audience.then we must make that audienceless eager to listen to him.we will begin with the weaker ones.your turn!have mercy!stretch her!who is\"), Document(metadata={'name': 'the.message.(1976).eng.1cd', 'index': 0}, page_content='ones.your turn!have mercy!stretch her!who is your god?answer me!say it!say hubal is your god!say it!there is only one godand muhammad is the messenger of god!oh my god!ammar!your father and motherare'), Document(metadata={'name': 'the.message.(1976).eng.1cd', 'index': 0}, page_content='of god!oh my god!ammar!your father and motherare the first martyrs of islam!you are promised paradise!how much are you men prepared to suffer?the prophet has said we must leave mecca.if you stay,they'), Document(metadata={'name': 'the.message.(1976).eng.1cd', 'index': 0}, page_content='has said we must leave mecca.if you stay,they will kill you...one by one.muhammad says that in abyssinia,there is a christian king.no man is wronged in his country.we must leave now, today.uthman!god'), Document(metadata={'name': 'the.message.(1976).eng.1cd', 'index': 0}, page_content='his country.we must leave now, today.uthman!god be praised!let us go.we found their tracksand followed them,but they just disappeared!they were there...in the desert, under the vulturesand you let'), Document(metadata={'name': 'the.message.(1976).eng.1cd', 'index': 0}, page_content=\"the desert, under the vulturesand you let them escape you!escape? they vanished!if muhammad has stayed,then only the weakest have gone.weak or strong,they'll blacken our name.we're honest\"), Document(metadata={'name': 'the.message.(1976).eng.1cd', 'index': 0}, page_content=\"or strong,they'll blacken our name.we're honest merchants,we buy and sell in good faith.we cannot afford scandal.abyssinia...amr!you are a friend of annajashi, the king?yes.can you use that\"), Document(metadata={'name': 'the.message.(1976).eng.1cd', 'index': 0}, page_content=\"of annajashi, the king?yes.can you use that friendship?i think i can bring them back...yes.abyssinia...rise up amr.please, nothing you may askfor that we will not give.lion of judah, i...i don't know\"), Document(metadata={'name': 'the.message.(1976).eng.1cd', 'index': 0}, page_content=\"we will not give.lion of judah, i...i don't know where to begin.you have our friendship,begin there.certain runaway slaves have escapedfrom us into your kingdom.slaves go back, as you no doubtwould\"), Document(metadata={'name': 'the.message.(1976).eng.1cd', 'index': 0}, page_content='your kingdom.slaves go back, as you no doubtwould returned our slaves to us.there are however somefree men among them...rebels.rebels?disturbance in arabia,why am i not informed?they are rebels in'), Document(metadata={'name': 'the.message.(1976).eng.1cd', 'index': 0}, page_content='arabia,why am i not informed?they are rebels in religion.at one time or another,all religions were rebellions.the bodies of slaves of the worldand beaten are disposal.but as jesus christ as our'), Document(metadata={'name': 'the.message.(1976).eng.1cd', 'index': 0}, page_content='beaten are disposal.but as jesus christ as our shepherd,the souls of men are his sheep.these are arabs who have betrayedthe religion of their fathers.they follow a lunaticthey call...a prophet.but i'), Document(metadata={'name': 'the.message.(1976).eng.1cd', 'index': 0}, page_content=\"follow a lunaticthey call...a prophet.but i cannot put souls intochains without hearing them.good, they're stiffnext we'll hang them.do you not bow to yourselfbefore your prophet?muhammad is a man,we\"), Document(metadata={'name': 'the.message.(1976).eng.1cd', 'index': 0}, page_content=\"yourselfbefore your prophet?muhammad is a man,we kneel only to god.where are muhammad's miracles, jafar?if he were a prophet,he'd light the sky with miraclesindeed, this is true.god has given his\"), Document(metadata={'name': 'the.message.(1976).eng.1cd', 'index': 0}, page_content='miraclesindeed, this is true.god has given his prophetsthe signs of miraclesthat we may recognize them.the miracle of muhammadis the holy quran.a book! a book!written by an illiterate,attributed to'), Document(metadata={'name': 'the.message.(1976).eng.1cd', 'index': 0}, page_content=\"a book!written by an illiterate,attributed to god.i think the emperor has had enough!i'm mindful of petty costs.when god set down tongues of fireupon the heads of christ's apostles,so they could\"), Document(metadata={'name': 'the.message.(1976).eng.1cd', 'index': 0}, page_content=\"the heads of christ's apostles,so they could speak themany languages of the worldthat they knew not before.but do such miracles happen in our times?i've heard enough!you've made a poor case.when we\"), Document(metadata={'name': 'the.message.(1976).eng.1cd', 'index': 0}, page_content=\"heard enough!you've made a poor case.when we suffered persecution in mecca,muhammad told us,go to abyssinia,the land of the righteous king,where no man is wronged!what they call persecutionwas fair\"), Document(metadata={'name': 'the.message.(1976).eng.1cd', 'index': 0}, page_content='man is wronged!what they call persecutionwas fair punishment,that is order, now...why did your prophet send you to me?because you believe in the bookof the one god as we do.he sent us because in your'), Document(metadata={'name': 'the.message.(1976).eng.1cd', 'index': 0}, page_content=\"the one god as we do.he sent us because in your heart,god will protect us.talking with him is likedrawing water from a mirage.but they've now belay that duty onme to listen to them, my friend.go\"), Document(metadata={'name': 'the.message.(1976).eng.1cd', 'index': 0}, page_content='that duty onme to listen to them, my friend.go on!for years, we worshipedwood and stone,images of our own manufacture.we lived in ignorance of god.we had few earthly lawsand no heavenly laws.the rich'), Document(metadata={'name': 'the.message.(1976).eng.1cd', 'index': 0}, page_content='had few earthly lawsand no heavenly laws.the rich neglect the poor.and the natural pity of man,whereby he lifts his brotherup when he has fallen...is described by them asupsetting social order!to'), Document(metadata={'name': 'the.message.(1976).eng.1cd', 'index': 0}, page_content=\"described by them asupsetting social order!to this inhumanity,has come a man...whom god chose...and in that we believe.you've overcome, i begyou to collect yourself.i speak of the messenger of\"), Document(metadata={'name': 'the.message.(1976).eng.1cd', 'index': 0}, page_content='to collect yourself.i speak of the messenger of god.muhammad teaches usto worship one god,to speak truth,to love our neighbors as ourselves,to give charity,even a smile can be charity.to protect'), Document(metadata={'name': 'the.message.(1976).eng.1cd', 'index': 0}, page_content='charity,even a smile can be charity.to protect women from misuse,to shelter orphans...and to turn away fromgods of wood and stone!i cannot keep still andhear this blasphemy!we are an ancient'), Document(metadata={'name': 'the.message.(1976).eng.1cd', 'index': 0}, page_content='still andhear this blasphemy!we are an ancient civilization...to call our gods wood and stoneis to speak ignorantly of them.the idol...the form,is not what we worship,but the spirit that resides'), Document(metadata={'name': 'the.message.(1976).eng.1cd', 'index': 0}, page_content='not what we worship,but the spirit that resides within the form.i agree that idolatry is notalways fully understood.thank you.now let me bring him back to the women.god made woman to be theproper'), Document(metadata={'name': 'the.message.(1976).eng.1cd', 'index': 0}, page_content='back to the women.god made woman to be theproper companion of man.she is different but equal.equal?!we buy them.feed them, clothe them,use them, discard them...women equal to us?god created man'), Document(metadata={'name': 'the.message.(1976).eng.1cd', 'index': 0}, page_content='discard them...women equal to us?god created man fromone male and one female.amr, you must respect in allwoman the womb that bore you.why are your guards so tongue-tied?while this only guard is'), Document(metadata={'name': 'the.message.(1976).eng.1cd', 'index': 0}, page_content='guards so tongue-tied?while this only guard is eloquent.god has spoken to us before...through abraham, noah, mosesand through jesus christ.why should we be so surprised that godspeaks to us now'), Document(metadata={'name': 'the.message.(1976).eng.1cd', 'index': 0}, page_content='we be so surprised that godspeaks to us now through muhammad?who taught you those names?they are named in the quran.i knew muhammad when hewas an orphan minding sheep!and we knew christ as a'), Document(metadata={'name': 'the.message.(1976).eng.1cd', 'index': 0}, page_content='an orphan minding sheep!and we knew christ as a carpenter.what christ saysand what your muhammad saysis like two raised from the same land.they are lying to you,they deny christ.you worship three'), Document(metadata={'name': 'the.message.(1976).eng.1cd', 'index': 0}, page_content='lying to you,they deny christ.you worship three gods, they say.father, son and holy ghost, they say.what do you say of christ?they say god cannot have a son.christ is not the son of god.speak to me'), Document(metadata={'name': 'the.message.(1976).eng.1cd', 'index': 0}, page_content='a son.christ is not the son of god.speak to me of christ.we say of christ whatour prophet has taught us...that god cast his holy spirit intothe womb of a virgin named, maryand that she'), Document(metadata={'name': 'the.message.(1976).eng.1cd', 'index': 0}, page_content='intothe womb of a virgin named, maryand that she conceivedchrist, the apostle of god.the apostle he says,not the son, not the son!what does your miracle, your quran,say of the birth of our dear lord'), Document(metadata={'name': 'the.message.(1976).eng.1cd', 'index': 0}, page_content='your quran,say of the birth of our dear lord jesus christ?may i relate the words?come closer to me.in the name of god,most gracious, most merciful.relate in the book, the story of mary.how she'), Document(metadata={'name': 'the.message.(1976).eng.1cd', 'index': 0}, page_content='in the book, the story of mary.how she withdrew from herfamily to a place in the east.how we sent to her ourangel, gabriel, who said:\\'\\'i am a messenger from your god\"\"to announce the birthof a holy'), Document(metadata={'name': 'the.message.(1976).eng.1cd', 'index': 0}, page_content='from your god\"\"to announce the birthof a holy son to you.\"she said: \"how shall i, mary, have a sonwhen no man has touched me?\\'\\'and gabriel replied:\"for your lord says, it will happen.\"we appoint him'), Document(metadata={'name': 'the.message.(1976).eng.1cd', 'index': 0}, page_content='your lord says, it will happen.\"we appoint him as a sign onto man...and a mercy from us.it is a thing ordained.the difference between us and you,is not bigger than this line.not for a mountain of'), Document(metadata={'name': 'the.message.(1976).eng.1cd', 'index': 0}, page_content=\"not bigger than this line.not for a mountain of goldwill i give them up to you.you may live in abyssinia, in peace,for as long as you wish.may god's blessings be upon you,when you\"), Document(metadata={'name': 'the.message.(1976).eng.1cd', 'index': 0}, page_content=\"you wish.may god's blessings be upon you,when you return.lntolerable!mohamed disturbs evenour foreign alliances!very well!we will make a foreigner of him!abu talib,has his arms around him.very\"), Document(metadata={'name': 'the.message.(1976).eng.1cd', 'index': 0}, page_content='of him!abu talib,has his arms around him.very well!we will throw uncleand nephew out.in one bundle, his whole family out.we will expel them from ourselves.no merchant may trade with them.no land'), Document(metadata={'name': 'the.message.(1976).eng.1cd', 'index': 0}, page_content=\"ourselves.no merchant may trade with them.no land remain to them.no roof shelter them.no beggar beg for them.no woman marry them.until they renounce, they can't.these were the worstyears of\"), Document(metadata={'name': 'the.message.(1976).eng.1cd', 'index': 0}, page_content=\"renounce, they can't.these were the worstyears of muhammad's life.for three years they suffered the hunger,thirst, cruelty of the open desert.but the year of grief was still to come,when khadija,\"), Document(metadata={'name': 'the.message.(1976).eng.1cd', 'index': 0}, page_content=\"the year of grief was still to come,when khadija, muhammad'swife for 24 years, died.when abu talib,his old protector, died...with his last breath, abu talib,tried again to reconcilemecca and\"), Document(metadata={'name': 'the.message.(1976).eng.1cd', 'index': 0}, page_content='abu talib,tried again to reconcilemecca and muhammad.he never asked more from you......than one word.one...one god.if it were only a question of one word,we would have given him ten words.but the'), Document(metadata={'name': 'the.message.(1976).eng.1cd', 'index': 0}, page_content='word,we would have given him ten words.but the word he wants,would dethrone all the gods.you were afraid even to hear him.with the death of his uncle,muhammad has now lost all protection.he was no'), Document(metadata={'name': 'the.message.(1976).eng.1cd', 'index': 0}, page_content='has now lost all protection.he was no longer safe in mecca.alone with zaid, his adopted son,he went to the hillside town of taif.he asked to be taken in,to be allowed to preach.but the children'), Document(metadata={'name': 'the.message.(1976).eng.1cd', 'index': 0}, page_content='taken in,to be allowed to preach.but the children oftaif were turned loose,to stone him back into the desert.what are you doing?!stop! stop!leave him alone! go away!muhammad called this,the bitterest'), Document(metadata={'name': 'the.message.(1976).eng.1cd', 'index': 0}, page_content=\"alone! go away!muhammad called this,the bitterest day of his life.then miraculously,when muhammad's missionseemed to have failed,his entire situation changed.a deputation from the rich,but\"), Document(metadata={'name': 'the.message.(1976).eng.1cd', 'index': 0}, page_content='situation changed.a deputation from the rich,but self-destroying city of medina,met him by night atthe rocks of aqaba,asking him to come to them,to stand between their factions,to mediate their'), Document(metadata={'name': 'the.message.(1976).eng.1cd', 'index': 0}, page_content='stand between their factions,to mediate their continualquarrels and civil wars.muhammad agreed...provided they gave him a pledgethat they worship the one god only.wait!when we take this pledge we'), Document(metadata={'name': 'the.message.(1976).eng.1cd', 'index': 0}, page_content='the one god only.wait!when we take this pledge we expelourselves from the rest of arabia.so, wait!war is in this pledge.we are to makeenemies of brothers.we are to makefirewood of our gods!that is'), Document(metadata={'name': 'the.message.(1976).eng.1cd', 'index': 0}, page_content='are to makefirewood of our gods!that is the meaning of the pledge.if we take it, there canbe no turning back...for muhammad is indeedthe messenger of god,foretold to us bythe jews in our city.so if'), Document(metadata={'name': 'the.message.(1976).eng.1cd', 'index': 0}, page_content='god,foretold to us bythe jews in our city.so if anyone has doubtin this pledge, go now.and if you have no doubts,then you do as i do.i pledge myself tothe one and only god,and to you muhammad,the'), Document(metadata={'name': 'the.message.(1976).eng.1cd', 'index': 0}, page_content='tothe one and only god,and to you muhammad,the messenger of god.he is of us and we are of him.let him bring his followers,our brothers, to us, to medina. sync, corrections by  pocong@ltti this was a'), Document(metadata={'name': 'the.message.(1976).eng.1cd', 'index': 0}, page_content='sync, corrections by  pocong@ltti this was a journeythat changed the world.the hijra, or flight to medina.only 70 peoplesplit up into small groups,walking 250 miles of desert.yet, so profound were'), Document(metadata={'name': 'the.message.(1976).eng.1cd', 'index': 0}, page_content=\"250 miles of desert.yet, so profound were the consequences,so lasting were the effects of this walkthat from it the muslimsdate their calendar.in this moment, islam found it's future.muhammad himself\"), Document(metadata={'name': 'the.message.(1976).eng.1cd', 'index': 0}, page_content=\"moment, islam found it's future.muhammad himself stayed inmecca, in the greatest dangeruntil all his followers had left safely.muhammad has become a nation,he has received a city,entering into\"), Document(metadata={'name': 'the.message.(1976).eng.1cd', 'index': 0}, page_content='a nation,he has received a city,entering into pledges and treatiesand you, salool, who claimto be king of medinalost the kingdom last nightwhile you were in bed!you should worry aboutyourself, abu'), Document(metadata={'name': 'the.message.(1976).eng.1cd', 'index': 0}, page_content='were in bed!you should worry aboutyourself, abu sufian.every time you trade awhiff of perfume out the city,you must creep pastthat man in medina.he is across yourmercantile throat so to speak.and'), Document(metadata={'name': 'the.message.(1976).eng.1cd', 'index': 0}, page_content='is across yourmercantile throat so to speak.and what do you intend to do?l intend to wait.and how long will you wait?till you and the rest of arabia remove him,to save your way of life.and while you'), Document(metadata={'name': 'the.message.(1976).eng.1cd', 'index': 0}, page_content='remove him,to save your way of life.and while you wait?i should accept his call of course.does he think i willgive him my birthright?i will not.medina is worth the conversion.hypocrisy.of course'), Document(metadata={'name': 'the.message.(1976).eng.1cd', 'index': 0}, page_content=\"is worth the conversion.hypocrisy.of course it's...a healthy hypocrisy.king salool,wiping his face on the floor5 times a day praying?i don't believe you.he may not have to.we'll do know what weshould\"), Document(metadata={'name': 'the.message.(1976).eng.1cd', 'index': 0}, page_content=\"may not have to.we'll do know what weshould have done before:kill muhammad.come, come and see.they say that practiceleads to perfection.7 young men eachfrom a different family,my own son ikrima is\"), Document(metadata={'name': 'the.message.(1976).eng.1cd', 'index': 0}, page_content=\"eachfrom a different family,my own son ikrima is with them.they will stab him together.if the responsibility for his deathis shared, where lies the guilt?my idea.i'm not sure i'm part of\"), Document(metadata={'name': 'the.message.(1976).eng.1cd', 'index': 0}, page_content=\"lies the guilt?my idea.i'm not sure i'm part of it.muhammad's body contains too much...his mind, his words...but it is an ingenious solution.and a final one.no!ali, his cousin, laid there to die for\"), Document(metadata={'name': 'the.message.(1976).eng.1cd', 'index': 0}, page_content='one.no!ali, his cousin, laid there to die for him?who are we fighting?they cannot go far, allthe tracks are watched.he must take to the desert.bakkah will give100 camels to the manwho brings back'), Document(metadata={'name': 'the.message.(1976).eng.1cd', 'index': 0}, page_content=\"will give100 camels to the manwho brings back muhammad......or his head!look for 3 of them:muhammad,abu bakr,and uriqat, his bedouin guide.what is it?they're not grazing camel.maybe two days, that\"), Document(metadata={'name': 'the.message.(1976).eng.1cd', 'index': 0}, page_content=\"it?they're not grazing camel.maybe two days, that from the city.why are you here?medina is to the north.they make the tracks, not i.nomads? travelling west?i know my art.they say that you can tracka\"), Document(metadata={'name': 'the.message.(1976).eng.1cd', 'index': 0}, page_content='west?i know my art.they say that you can tracka bird by smelling the air.we go with them.he may be in that cave over there.muhammad, if you come out,we will take you to mecca alive.muhammad, come'), Document(metadata={'name': 'the.message.(1976).eng.1cd', 'index': 0}, page_content=\"will take you to mecca alive.muhammad, come out!they can't be in there,this...this web is unbroken.and these pigeons,they would not build.we were wrong to follow themwe should have gone north.let's\"), Document(metadata={'name': 'the.message.(1976).eng.1cd', 'index': 0}, page_content=\"to follow themwe should have gone north.let's move then.we still have time to head them off.a few threads of a spider's webwere all that was then betweenmuhammad and murder.but he was a man not to be\"), Document(metadata={'name': 'the.message.(1976).eng.1cd', 'index': 0}, page_content='and murder.but he was a man not to be killed.the bedouin guide led him and hiscompanion, abu bakr, in their escapethrough untracked spaces of the desertand the heat of the june days.at medina, his'), Document(metadata={'name': 'the.message.(1976).eng.1cd', 'index': 0}, page_content='the heat of the june days.at medina, his followerswaited with their welcome readybut in great fear for his journey.anything?no, nothing.he himself says he is only a man.no man can survive that heat.-'), Document(metadata={'name': 'the.message.(1976).eng.1cd', 'index': 0}, page_content='he is only a man.no man can survive that heat.- there! i see them!- look!run and hide.i may be obligedto free you as a gesture.welcome to the cityof medina, the blessed.your city, messenger of'), Document(metadata={'name': 'the.message.(1976).eng.1cd', 'index': 0}, page_content='medina, the blessed.your city, messenger of god.you will stay with me,messenger of god.i have the best house in medina.you will give me thehonor of keeping you.stay with me!please! please! please!how'), Document(metadata={'name': 'the.message.(1976).eng.1cd', 'index': 0}, page_content='you.stay with me!please! please! please!how can the prophet choosebetween so many welcomes?where god guides his camel to stop,there he will build his house.all agreed?we turn quaswa, his camel'), Document(metadata={'name': 'the.message.(1976).eng.1cd', 'index': 0}, page_content='his house.all agreed?we turn quaswa, his camel looseand where quaswa sits, the prophet stays.clever man.a choice made by acamel can offend no one.here we will buildthe house of the prophet.and our'), Document(metadata={'name': 'the.message.(1976).eng.1cd', 'index': 0}, page_content='we will buildthe house of the prophet.and our first meetingplace, a prayer house!the first mosque of islam, here!god is great! god is great!what is the prophet of god doing?carrying bricks?give me'), Document(metadata={'name': 'the.message.(1976).eng.1cd', 'index': 0}, page_content='the prophet of god doing?carrying bricks?give me that.look, you are doing too much.please, go and sit down...we\\'ll do it.look! he went for more.\"work is a worship\" he says.he\\'s 53 years old.how old'), Document(metadata={'name': 'the.message.(1976).eng.1cd', 'index': 0}, page_content='is a worship\" he says.he\\'s 53 years old.how old are you?there is something missing.maybe a bell to call the people in.- the christians use a bell?- mmm (yes).what about a horn, like the jews?a'), Document(metadata={'name': 'the.message.(1976).eng.1cd', 'index': 0}, page_content=\"mmm (yes).what about a horn, like the jews?a drum?there's too much blood in a drum.why not the human voice...as in umar ibn khattab's vision?the prophet agrees?he means you, bilal.me?you have a good\"), Document(metadata={'name': 'the.message.(1976).eng.1cd', 'index': 0}, page_content='agrees?he means you, bilal.me?you have a good voice, use it.climb up there.brothers!today, a man of medina,will embrace a man of mecca.each will share half and half.reach out, embrace yourneighbor'), Document(metadata={'name': 'the.message.(1976).eng.1cd', 'index': 0}, page_content=\"half and half.reach out, embrace yourneighbor and brother.i'm tired of the politics ofkissing slaves, read this!the prophet should concernhimself with the after-world.how is my son?praying like a\"), Document(metadata={'name': 'the.message.(1976).eng.1cd', 'index': 0}, page_content=\"with the after-world.how is my son?praying like a horse.does it burn your hands?if it's not torn up,it will burn down the house.he's making laws like a king.he has declared that loyalty to islamis\"), Document(metadata={'name': 'the.message.(1976).eng.1cd', 'index': 0}, page_content=\"a king.he has declared that loyalty to islamis more than loyalty to tribal family.what?all muslims are next of kin to one-another?don't be mislead by that.they must change thenature of the tribes\"), Document(metadata={'name': 'the.message.(1976).eng.1cd', 'index': 0}, page_content=\"by that.they must change thenature of the tribes before that.the danger is here, equality:a man's neighbour is as good as himself.the lunatic means it!jews and christians haveequal rights with\"), Document(metadata={'name': 'the.message.(1976).eng.1cd', 'index': 0}, page_content=\"it!jews and christians haveequal rights with muslims.the jews who attach themselves to acommon wealth shall be protected.- women have rights of inheritance?- rights.next, he'll be giving the camel\"), Document(metadata={'name': 'the.message.(1976).eng.1cd', 'index': 0}, page_content=\"rights.next, he'll be giving the camel rights.he has! the lunatic has!you can't overload them.he's remaking a city, my city!damn him!he's taken our sons from us,our future from us.his rights... are\"), Document(metadata={'name': 'the.message.(1976).eng.1cd', 'index': 0}, page_content='sons from us,our future from us.his rights... are wrongs!no more.this time... it willnot be just his riffraff.we will take everything ofvalue they have left in mecca.their rugs, their houses, their'), Document(metadata={'name': 'the.message.(1976).eng.1cd', 'index': 0}, page_content='left in mecca.their rugs, their houses, their silver...and with it, a large of caravan to damascus.my friends, listen to me!i have news from mecca!everything you have left behind is gone!the'), Document(metadata={'name': 'the.message.(1976).eng.1cd', 'index': 0}, page_content=\"mecca!everything you have left behind is gone!the thieves!abu bakr's shops,the prophet's house... sold!every cup or piece of cloth,every rag or bone you everowned is thrown on the market.you are a\"), Document(metadata={'name': 'the.message.(1976).eng.1cd', 'index': 0}, page_content=\"you everowned is thrown on the market.you are a people of nothing.don't you even fight for what you own?who talks of the fight?what other way is there, hamza?when the prophetsays fight, we fight.now\"), Document(metadata={'name': 'the.message.(1976).eng.1cd', 'index': 0}, page_content='hamza?when the prophetsays fight, we fight.now he says, peace.exactly!you are a peace loving people!up to your necks and fore-bearers.go back to work.we have to defend ourselves.you are the messenger'), Document(metadata={'name': 'the.message.(1976).eng.1cd', 'index': 0}, page_content='have to defend ourselves.you are the messenger of god.yet, they mock...abuse and plunder usand we do nothing.in the package of war, we are pathetic!but they are led by greed.we are led by god...and'), Document(metadata={'name': 'the.message.(1976).eng.1cd', 'index': 0}, page_content='they are led by greed.we are led by god...and you.now i...i know how you hate the sword,but we have to fight.they have stolen our property.they are taking it to damascus,right past our own door.i say'), Document(metadata={'name': 'the.message.(1976).eng.1cd', 'index': 0}, page_content=\"it to damascus,right past our own door.i say by god, get back!i'm sorry i'm carried away.it's the pounding in my head.please... fight them!but... look at the sun.it's not the time for prayer.it is\"), Document(metadata={'name': 'the.message.(1976).eng.1cd', 'index': 0}, page_content=\"at the sun.it's not the time for prayer.it is newly revealedby god to his messenger.fight, but fight in the way of god,against those who fight against you.drive them out of the placeswhere they drove\"), Document(metadata={'name': 'the.message.(1976).eng.1cd', 'index': 0}, page_content='you.drive them out of the placeswhere they drove you out,for persecution is worse than slaughter.fight them until persecution is no moreand religion is for god.but if they stop,let there be no more'), Document(metadata={'name': 'the.message.(1976).eng.1cd', 'index': 0}, page_content='is for god.but if they stop,let there be no more war...for god never lovesthe starter of wars.so, fight in the way of godagainst those who fight against you!- god is great!- god is great!! god is'), Document(metadata={'name': 'the.message.(1976).eng.1cd', 'index': 0}, page_content='you!- god is great!- god is great!! god is great!!- god is great!- god is great!!these are the disciplinesthe prophet puts upon you.you may not harm a woman,a child or any old person!you may not harm'), Document(metadata={'name': 'the.message.(1976).eng.1cd', 'index': 0}, page_content='woman,a child or any old person!you may not harm cripples!you may not harm theman that works in the field!you may not cut down trees!strike only at those who have expelled you!who have stolen your'), Document(metadata={'name': 'the.message.(1976).eng.1cd', 'index': 0}, page_content='those who have expelled you!who have stolen your rights andriched themselves with your possessions!now, to the wells of badr!news from medina!arm... arm yourselves!arm yourselves!defend your'), Document(metadata={'name': 'the.message.(1976).eng.1cd', 'index': 0}, page_content='arm yourselves!arm yourselves!defend your wealth!muhammad has come out of medinato attack the great caravan!- how many men?- three hundred, two horses.we man a 100 horses.how many camels?- seventy.-'), Document(metadata={'name': 'the.message.(1976).eng.1cd', 'index': 0}, page_content=\"man a 100 horses.how many camels?- seventy.- we'll bring a hundred and seventy!and load twenty of my camelswith wine, we'll make a feast of it.this is a war i'd like to fight,a war we cannot\"), Document(metadata={'name': 'the.message.(1976).eng.1cd', 'index': 0}, page_content=\"is a war i'd like to fight,a war we cannot lose!ride to abu sofyan's caravan,tell him to turn towards badr.we will join our forcestomorrow at the wells of badr.the wells of badr, here.muhammad's\"), Document(metadata={'name': 'the.message.(1976).eng.1cd', 'index': 0}, page_content=\"wells of badr.the wells of badr, here.muhammad's march, here.my charge of the caravan, here.one day's march...meet them at the wells.i don't like it.there is too much of meccain my caravan to be\"), Document(metadata={'name': 'the.message.(1976).eng.1cd', 'index': 0}, page_content=\"it.there is too much of meccain my caravan to be risked.put out the fires!hold the camels!we are turning west,away from the wells.away?you can't!you must meet them at badr.we can drink them down like\"), Document(metadata={'name': 'the.message.(1976).eng.1cd', 'index': 0}, page_content=\"meet them at badr.we can drink them down like raw eggs.if i run all night, i'll be out ofmuhammad's reach by morning.where is your honor, abu sofyan?!honor?my honor is on thebacks of my camels.yes, i\"), Document(metadata={'name': 'the.message.(1976).eng.1cd', 'index': 0}, page_content=\"honor is on thebacks of my camels.yes, i run...muhammad has occupied the wells!he has moved directlyinto our line of march.abu sofyan has broken camp.he's moving west, away from badr.the caravan is\"), Document(metadata={'name': 'the.message.(1976).eng.1cd', 'index': 0}, page_content='moving west, away from badr.the caravan is safe.so, there is no need to fight.not fight?if we fight, we will startblood feuds between brothers.between father and son, you mean.hudayfa, your own son'), Document(metadata={'name': 'the.message.(1976).eng.1cd', 'index': 0}, page_content='father and son, you mean.hudayfa, your own son is with them,he should have been whipped.mecca is greater than your family!waleed, your second son,he is your true blood.i say: fight!we stand in the'), Document(metadata={'name': 'the.message.(1976).eng.1cd', 'index': 0}, page_content='is your true blood.i say: fight!we stand in the presentlet the future look after itself.otba is not a coward.we finish them tomorrow.- we fight!- we fight!!!are you finished?!form ranks, battle'), Document(metadata={'name': 'the.message.(1976).eng.1cd', 'index': 0}, page_content=\"we fight!!!are you finished?!form ranks, battle positions!each man to his own place!go back to your columns!move away... move back!so muhammad's filled the wells.now everyone brought herewill have to\"), Document(metadata={'name': 'the.message.(1976).eng.1cd', 'index': 0}, page_content='the wells.now everyone brought herewill have to fight, for theirs.good, we fight!brothers, we hold the wells.we stand in the name ofgod and his messenger.we wait.send us your champions!(battle of'), Document(metadata={'name': 'the.message.(1976).eng.1cd', 'index': 0}, page_content='wait.send us your champions!(battle of badr)who are you?!we expect our peersand our equals!come back!my brother, shaiba!my son, waleed!and myself!not you.ubaida and i...and ali.are we your'), Document(metadata={'name': 'the.message.(1976).eng.1cd', 'index': 0}, page_content='myself!not you.ubaida and i...and ali.are we your equals?there is only one godand muhammad is his messenger.archers! advance!archers!hold...stretch!stretch!stretch!archers!archers back!they are'), Document(metadata={'name': 'the.message.(1976).eng.1cd', 'index': 0}, page_content='back!they are regrouping.forward!!ready!lancers!god is great!archers!god is great! god is great!umaya!umaya!bilal!god is great!onward to victory!god is great!the prophet has seen you!you are not to'), Document(metadata={'name': 'the.message.(1976).eng.1cd', 'index': 0}, page_content=\"is great!the prophet has seen you!you are not to ropeor drag the prisoners!- they would've roped us!- cut them loose!i said, cut them loose!and give them waterand share your food,equal\"), Document(metadata={'name': 'the.message.(1976).eng.1cd', 'index': 0}, page_content=\"give them waterand share your food,equal mouth-fulls.and if they walk, walk beside them.any prisoner who can teach10 muslims to read... will go free.why don't they go away?because, they blame me\"), Document(metadata={'name': 'the.message.(1976).eng.1cd', 'index': 0}, page_content=\"don't they go away?because, they blame me hind,for whatever reason, good or bad.i should have joined them anddrown at the wells of badr with them...but i saved the caravanand our future with it.why\"), Document(metadata={'name': 'the.message.(1976).eng.1cd', 'index': 0}, page_content=\"i saved the caravanand our future with it.why sing at me!why sing my father andmy brother as it's not me?!do you think ineed you to remind me?muhammad, ali, hamza!with my nails, hamza,i will give you\"), Document(metadata={'name': 'the.message.(1976).eng.1cd', 'index': 0}, page_content='ali, hamza!with my nails, hamza,i will give you measure formeasure, with my nails...killer, cut throat, butcher!murdering beast!you slaughtered my father!hamza!i will hunt... a lion hunter!i will'), Document(metadata={'name': 'the.message.(1976).eng.1cd', 'index': 0}, page_content='father!hamza!i will hunt... a lion hunter!i will make hamza,a running lion, my prey.and when you are dead hamza,i will cut your heart out,taste your blood,cut you into pieces!i forbit this wailing.it'), Document(metadata={'name': 'the.message.(1976).eng.1cd', 'index': 0}, page_content='you into pieces!i forbit this wailing.it cannot go on.what we should do, we will do.we will call in our allies,raise a new army against them.this time, we willprepare it and plan it.hamza!come to'), Document(metadata={'name': 'the.message.(1976).eng.1cd', 'index': 0}, page_content='time, we willprepare it and plan it.hamza!come to prayer!come to prayer!come to victory!come to victory!god is great!there is no god, but god!is it a plague?what kind of an upside downtown have we'), Document(metadata={'name': 'the.message.(1976).eng.1cd', 'index': 0}, page_content='a plague?what kind of an upside downtown have we come in to?you could fill yourpockets very nicely here.no merchant is minding his shop.god is minding the shop.- where do you come from?- yemen.did'), Document(metadata={'name': 'the.message.(1976).eng.1cd', 'index': 0}, page_content=\"the shop.- where do you come from?- yemen.did you stop in mecca?it is on the road.you didn't answer my question,did you stop in mecca?long enough to rest my camels.camels rest better in meccathan\"), Document(metadata={'name': 'the.message.(1976).eng.1cd', 'index': 0}, page_content='to rest my camels.camels rest better in meccathan anywhere in the world.yes.what is the word on the desert?oh... it is bad for you.they are gathering..every young man with asword is on his way to'), Document(metadata={'name': 'the.message.(1976).eng.1cd', 'index': 0}, page_content='young man with asword is on his way to mecca.our strength is here.do not underestimate them.they are summoning up their courage.in mecca there is music in every house.an abyssinian slave, watch'), Document(metadata={'name': 'the.message.(1976).eng.1cd', 'index': 0}, page_content='music in every house.an abyssinian slave, watch him.he is good, he is vicious, watch himi will free you,give you your weight in silver,and your height in silk,for one throw like this.so they have'), Document(metadata={'name': 'the.message.(1976).eng.1cd', 'index': 0}, page_content=\"in silk,for one throw like this.so they have come at last.we'll know how many soon enough.it's a big army.three thousand men,hundreds of horses.we beat them at badr.that was a year ago.they have come\"), Document(metadata={'name': 'the.message.(1976).eng.1cd', 'index': 0}, page_content='them at badr.that was a year ago.they have come to revenge badr.go home and get your swords.soldiers of mecca!blood master blood!avenge the dead of badr!(battle of uhud)there, hamza, can you see'), Document(metadata={'name': 'the.message.(1976).eng.1cd', 'index': 0}, page_content=\"of badr!(battle of uhud)there, hamza, can you see him?he is your fortune.ubada!those horsemen on the flank out there,they're oddly placed.- they are under khalid.- khalid?i often thought of that\"), Document(metadata={'name': 'the.message.(1976).eng.1cd', 'index': 0}, page_content=\"are under khalid.- khalid?i often thought of that young man.hamza!yes?the prophet asks if youhave noticed those horsemen?yes i have.i don't like them.he's sending out archers to watch them.no matter\"), Document(metadata={'name': 'the.message.(1976).eng.1cd', 'index': 0}, page_content=\"sending out archers to watch them.no matter what happens,the archers must hold off those horsemen.zaid, tell the prophet we are ready.what do you think, hamza?well they outnumber us,so i'd say it's a\"), Document(metadata={'name': 'the.message.(1976).eng.1cd', 'index': 0}, page_content=\"hamza?well they outnumber us,so i'd say it's a fair fight.we see themand they see us.what faces me has never frightened me.- all praise be to hubal!- hubal!!when muhammad gives the word...we will go\"), Document(metadata={'name': 'the.message.(1976).eng.1cd', 'index': 0}, page_content=\"hubal!!when muhammad gives the word...we will go to them.hamza!weapons ready!we march... now!attack!!they've killed hamza!on to them!you, take this! fight back!where are you going?!fight! fight!fight\"), Document(metadata={'name': 'the.message.(1976).eng.1cd', 'index': 0}, page_content=\"back!where are you going?!fight! fight!fight back!this is a moment of victory!they're running awayfrom us, let's get the loot!stand where you are told to stand!come back to your positions!all of you,\"), Document(metadata={'name': 'the.message.(1976).eng.1cd', 'index': 0}, page_content=\"to stand!come back to your positions!all of you, come back!it's a road!our centre is gone!we've lost the battle, khalid!not yet.hold on!where is the prophet?muhammad is dead,i saw him fall!no, no!\"), Document(metadata={'name': 'the.message.(1976).eng.1cd', 'index': 0}, page_content=\"prophet?muhammad is dead,i saw him fall!no, no! he's alive! find him!back, back to the mountains!halt!i thought we were beaten!now, victory is yours, khalid.we have no victory untilwe have finished\"), Document(metadata={'name': 'the.message.(1976).eng.1cd', 'index': 0}, page_content='khalid.we have no victory untilwe have finished muhammad.he is up in those rocks.we have finished our business,we have avenged badr.but we can end him and islam forever.some of his fanatics are still'), Document(metadata={'name': 'the.message.(1976).eng.1cd', 'index': 0}, page_content='and islam forever.some of his fanatics are still with him.they have theadvantage of the mountains,the risk is too high.muhammad, listen!a day for a day!the day of uhubfor the day of badr!our dead'), Document(metadata={'name': 'the.message.(1976).eng.1cd', 'index': 0}, page_content='a day!the day of uhubfor the day of badr!our dead have answered to your dead!our dead are in paradise,your dead are in hell fire!hamza... hamza!do you hear me, hamza?do you know thati am with you, i,'), Document(metadata={'name': 'the.message.(1976).eng.1cd', 'index': 0}, page_content='hear me, hamza?do you know thati am with you, i, hind!do you remember anything, hamza?how you killed myfather and my brother?!now you too are dead!my heart is light!do you hear, hamza? light!but i'), Document(metadata={'name': 'the.message.(1976).eng.1cd', 'index': 0}, page_content=\"heart is light!do you hear, hamza? light!but i haven't finished with you!death is too small.wahshi, cut him open, cut him!they lost a battleand what do they do?they come home anddig the ground\"), Document(metadata={'name': 'the.message.(1976).eng.1cd', 'index': 0}, page_content=\"what do they do?they come home anddig the ground harder.- they're mad.- i agree with you!they defy reason,they are even happy they lost!god sent their defeat they say,to try them in their faith.oh\"), Document(metadata={'name': 'the.message.(1976).eng.1cd', 'index': 0}, page_content=\"defeat they say,to try them in their faith.oh yes! they arefighting with the sky.they'll get what they want.they want mecca.they'll get mecca.when we see the stars at noon...don't underestimate\"), Document(metadata={'name': 'the.message.(1976).eng.1cd', 'index': 0}, page_content=\"we see the stars at noon...don't underestimate them,i've learned that to my cost.my friend, mecca ismore than their home.it's where god spoke to man.mecca is like a...homesickness to the soul.this\"), Document(metadata={'name': 'the.message.(1976).eng.1cd', 'index': 0}, page_content=\"is like a...homesickness to the soul.this year they're going as pilgrims.what?!unarmed.unarmed?abu sofyan will slaughterthem in the desert.if you believe in god as they do,it might be possiblenot to\"), Document(metadata={'name': 'the.message.(1976).eng.1cd', 'index': 0}, page_content='in god as they do,it might be possiblenot to get slaughtered.but i agree with you,they probably will be.be still!do not let them provoke you,that is what they want!stand firm!peace be to you.the'), Document(metadata={'name': 'the.message.(1976).eng.1cd', 'index': 0}, page_content=\"is what they want!stand firm!peace be to you.the prophet says: all who love godmust renew their oaths to him.under the tree!they've sent someone else.it's suheil!that means we mightcome to an\"), Document(metadata={'name': 'the.message.(1976).eng.1cd', 'index': 0}, page_content=\"else.it's suheil!that means we mightcome to an agreement.muhammad, you have beengiven conditions of trucebetween yourself and mecca.have you agreed to them yet?what is this?in the name of god, the\"), Document(metadata={'name': 'the.message.(1976).eng.1cd', 'index': 0}, page_content='to them yet?what is this?in the name of god, the most gracious...who is this new godthey call, gracious?i do not know him,strike him out.and i cannot agree with this...\"muhammad, the messenger of'), Document(metadata={'name': 'the.message.(1976).eng.1cd', 'index': 0}, page_content='agree with this...\"muhammad, the messenger of god?\"if i have thought youwere the messenger of god,i would not have fought you.make it, \"muhammad, the son of abdullahagrees with suhayl, the son of'), Document(metadata={'name': 'the.message.(1976).eng.1cd', 'index': 0}, page_content='the son of abdullahagrees with suhayl, the son of amr.\"that is more factual.well, so i understand.good, that is better.now, it is agreed...that you do notcontinue your pilgrimage,you must turn around'), Document(metadata={'name': 'the.message.(1976).eng.1cd', 'index': 0}, page_content='notcontinue your pilgrimage,you must turn around and go home.mecca is home.however...you may continue yourpilgrimage next year,and for 3 days only,in and out.we also agree to thetruce, for 10'), Document(metadata={'name': 'the.message.(1976).eng.1cd', 'index': 0}, page_content='only,in and out.we also agree to thetruce, for 10 years.during that time,you will not attack any tribe,or ambush any caravan,or any individual associatedwith us and vice versa.if you injure any oneof'), Document(metadata={'name': 'the.message.(1976).eng.1cd', 'index': 0}, page_content='us and vice versa.if you injure any oneof us, the truce ends......and vice versa.is that clear?ten years, ten years of peace.we need that time.we will use that time.these letters, from'), Document(metadata={'name': 'the.message.(1976).eng.1cd', 'index': 0}, page_content='time.we will use that time.these letters, from muhammad,messenger of god,to the rulers of the world......call the world to islam!to heraclius, emperor of byzantium,kisra, emperor of persia,muqawqis,'), Document(metadata={'name': 'the.message.(1976).eng.1cd', 'index': 0}, page_content='of byzantium,kisra, emperor of persia,muqawqis, patriarch of alexandria.god go with you!god is great! god is great! god is great!there are no different races in islam.an arab is not superior to a'), Document(metadata={'name': 'the.message.(1976).eng.1cd', 'index': 0}, page_content=\"races in islam.an arab is not superior to a foreigner.nor a white man superior to a black.all return equally to god.unless you desire for your neighbour,what you desire for yourself......you don't\"), Document(metadata={'name': 'the.message.(1976).eng.1cd', 'index': 0}, page_content=\"you desire for yourself......you don't have faith.a man goes to bed with his belly full,while his neighbor is hungry......he isn't a muslim.the ink of a scholar is holierthan the blood of a martyr.a\"), Document(metadata={'name': 'the.message.(1976).eng.1cd', 'index': 0}, page_content='a scholar is holierthan the blood of a martyr.a man reading is handsomein the sight of god.so, learn to read.and when you have learned......teach!the people of the book,the jews with their bible,the'), Document(metadata={'name': 'the.message.(1976).eng.1cd', 'index': 0}, page_content='people of the book,the jews with their bible,the christians with their testament,must be respected by you.for their books likewisecame from god.you must not think ofmuhammad as more than a man.he was'), Document(metadata={'name': 'the.message.(1976).eng.1cd', 'index': 0}, page_content='not think ofmuhammad as more than a man.he was collecting firewood one day.\"let me do it,\" i said.\"why?\" he said.\"you are the prophet of god!\"\"you can\\'t go aroundscratching for firewood.\"but he'), Document(metadata={'name': 'the.message.(1976).eng.1cd', 'index': 0}, page_content='can\\'t go aroundscratching for firewood.\"but he looked at me, mumbling,\"god does not like the man who considershimself above other men,\" he said.so, i laid back and watched him.suddenly, he stopped.he'), Document(metadata={'name': 'the.message.(1976).eng.1cd', 'index': 0}, page_content='laid back and watched him.suddenly, he stopped.he stood to his fullheight and came to me.\"yes, i am the prophet of god,\" he said.\"but even i do not knowwhat will become of me.\"amr, have you come to'), Document(metadata={'name': 'the.message.(1976).eng.1cd', 'index': 0}, page_content='knowwhat will become of me.\"amr, have you come to take me again?no.i have come to ask you to take me.i witness that there is only one god,and that muhammad is his messenger.may god forgive me the'), Document(metadata={'name': 'the.message.(1976).eng.1cd', 'index': 0}, page_content=\"muhammad is his messenger.may god forgive me the timesi have fought against you.islam does away withall that went before it.i'm sorry, i came in here wearing...here are my jewels.what they are\"), Document(metadata={'name': 'the.message.(1976).eng.1cd', 'index': 0}, page_content='here wearing...here are my jewels.what they are worth......i give to the poor.- and may i offer you my...- yes.but you were thebitterest sword against islam.now by the will of god......i will be the'), Document(metadata={'name': 'the.message.(1976).eng.1cd', 'index': 0}, page_content='islam.now by the will of god......i will be the raised sword of god.ah, its all easy to god.just as he makes dying living,he can make losing winning.two years ago we thought we werebeaten when we had'), Document(metadata={'name': 'the.message.(1976).eng.1cd', 'index': 0}, page_content=\"years ago we thought we werebeaten when we had to sign that truce.look at us now.charging from victory tovictory in the hearts of men.what's that?abu sofyan is coming!abu sofyan!why am i insulted\"), Document(metadata={'name': 'the.message.(1976).eng.1cd', 'index': 0}, page_content=\"sofyan is coming!abu sofyan!why am i insulted like this?i'm abu sofyan!i expect some courtesy!we are not at war,we have a truce!i have come to speak tomuhammad, where is he?he is in the\"), Document(metadata={'name': 'the.message.(1976).eng.1cd', 'index': 0}, page_content=\"to speak tomuhammad, where is he?he is in the mosque.muhammad, we did not break the truce.i have come to reaffirm the truce.i speak for mecca.muhammad, why do you turn from me?don't go.muhammad,\"), Document(metadata={'name': 'the.message.(1976).eng.1cd', 'index': 0}, page_content=\"why do you turn from me?don't go.muhammad, don't go!bedouins broke the truce, not us!the night was dark!i am here to testify,the night was dark!barra, barra this is your city!hudayfa, you are my\"), Document(metadata={'name': 'the.message.(1976).eng.1cd', 'index': 0}, page_content='barra this is your city!hudayfa, you are my kin,aim to see for me!i must be heard!i am mecca!i am the leader of mecca!why am i insulted like this?!because you keep no promiseand respect no pledge.i'), Document(metadata={'name': 'the.message.(1976).eng.1cd', 'index': 0}, page_content=\"you keep no promiseand respect no pledge.i have heard whati never thought i'd hear:abu sofyan asking for pity.to be outfought, outfought,outmaneuvered by a one-time shepherd!you saw that\"), Document(metadata={'name': 'the.message.(1976).eng.1cd', 'index': 0}, page_content=\"by a one-time shepherd!you saw that shepherd'sreligion grow from a speck.speck was in my eye...i could see nothing.tell mecca their gods are dead.it is useless to resist god.travel fast, or every man\"), Document(metadata={'name': 'the.message.(1976).eng.1cd', 'index': 0}, page_content=\"useless to resist god.travel fast, or every man herewill be close behind you.it's you who have broken the truce.for tonight will be ten thousand,men from every tribe.now we can fight them, you are\"), Document(metadata={'name': 'the.message.(1976).eng.1cd', 'index': 0}, page_content=\"from every tribe.now we can fight them, you are back.we will close the streets,and defend from the houses.it's no use.there are thousands of them,every hour they are joined by more.you coward!hind,\"), Document(metadata={'name': 'the.message.(1976).eng.1cd', 'index': 0}, page_content='hour they are joined by more.you coward!hind, go home!you coward!are you the leader of mecca?!look at yourself!you are broke, they swallowedyou and spat you back!did my father and brother die,for my'), Document(metadata={'name': 'the.message.(1976).eng.1cd', 'index': 0}, page_content='you back!did my father and brother die,for my husband to run away?!you go home! you!we can not resist! mecca is taken.no, no!we are to camp here for the night.i can see mecca, eventhrough the'), Document(metadata={'name': 'the.message.(1976).eng.1cd', 'index': 0}, page_content=\"for the night.i can see mecca, eventhrough the mountains.so many fires, i cannot count them.it's very beautiful.when we drove them out of mecca,i did not know theycarried mecca with them.we can smell\"), Document(metadata={'name': 'the.message.(1976).eng.1cd', 'index': 0}, page_content=\"not know theycarried mecca with them.we can smell the bread they're baking.yes, it means they don't intend to plunder,at least i hope that's what it means.they don't want blood ontheir own walls and\"), Document(metadata={'name': 'the.message.(1976).eng.1cd', 'index': 0}, page_content=\"means.they don't want blood ontheir own walls and doorsteps.i can bargain with that.take me to him.so you are giving us the city?you offer me no bread.i understand.you may decide to kill me.say what\"), Document(metadata={'name': 'the.message.(1976).eng.1cd', 'index': 0}, page_content=\"understand.you may decide to kill me.say what you have come to say.i saw your fires,the men around them,and i know what poweryou put into your men.we can no longer resist muhammad.now if you'll\"), Document(metadata={'name': 'the.message.(1976).eng.1cd', 'index': 0}, page_content=\"can no longer resist muhammad.now if you'll agree.you dare to come hereand ask for conditions?isn't it time yet for you torecognize who muhammad is?muhammad, there isstill doubt in my heart.if i were\"), Document(metadata={'name': 'the.message.(1976).eng.1cd', 'index': 0}, page_content=\"there isstill doubt in my heart.if i were to cut off your head,it would remove all your doubts.khalid,there's no compulsion in religion.a man may take many yearsor only need minutes.it's god who\"), Document(metadata={'name': 'the.message.(1976).eng.1cd', 'index': 0}, page_content=\"take many yearsor only need minutes.it's god who decides the time.so respect his doubts.you're a black slave,you are the best school.i am only what god has given me.yes.the gods that i\"), Document(metadata={'name': 'the.message.(1976).eng.1cd', 'index': 0}, page_content=\"am only what god has given me.yes.the gods that i worshipped,they don't have any use.it would have helped me.i declare, under no compulsion:there is one god,and you are the messenger of god.now, let\"), Document(metadata={'name': 'the.message.(1976).eng.1cd', 'index': 0}, page_content=\"one god,and you are the messenger of god.now, let me go.get inside!no doors may be broken down,nothing plundered, nothing seized!no one abused!all behind closed doors are safe!all in abu sofyan's\"), Document(metadata={'name': 'the.message.(1976).eng.1cd', 'index': 0}, page_content=\"behind closed doors are safe!all in abu sofyan's house are safe!all by the kaaba are safe!at least he kept his word,they haven't forced a door.he's stolen hearts, not walls.it's a permanent victory.i\"), Document(metadata={'name': 'the.message.(1976).eng.1cd', 'index': 0}, page_content=\"hearts, not walls.it's a permanent victory.i dread going out.we must, we must at the end.were we so wrong?the way we lived,yes, that was wrong.we were trapped in our own faults.our gods were less\"), Document(metadata={'name': 'the.message.(1976).eng.1cd', 'index': 0}, page_content='were trapped in our own faults.our gods were less than us.now there he is, makinghis entrance to the kaaba.in the name of god,most gracious, most merciful.god gave this house toabraham to be a sacred'), Document(metadata={'name': 'the.message.(1976).eng.1cd', 'index': 0}, page_content='gave this house toabraham to be a sacred place.worship no other gods but himand cleanse his house.so it was.muhammad took norevenge and allowed none.he declared mecca a holy place.no one may shed'), Document(metadata={'name': 'the.message.(1976).eng.1cd', 'index': 0}, page_content='declared mecca a holy place.no one may shed bloodor cut down a tree,or kill a living thing in mecca.soon, all arabia was converted. not only to the new worshipbut to the new laws, manners,attitudes'), Document(metadata={'name': 'the.message.(1976).eng.1cd', 'index': 0}, page_content='new worshipbut to the new laws, manners,attitudes contained in islam.the prophet had livedto see his work done,but now he began tofeel the nearness of death.one great act of hisprophethood'), Document(metadata={'name': 'the.message.(1976).eng.1cd', 'index': 0}, page_content=\"nearness of death.one great act of hisprophethood remained,the setting of it's seal.he called the people to himand he spoke for the last timehis message of surrender to godand humanity to man.''oh,\"), Document(metadata={'name': 'the.message.(1976).eng.1cd', 'index': 0}, page_content='of surrender to godand humanity to man.\\'\\'oh, mankind! listen well!\"\"i may not be with you much longer.\"\"the weak among you,feed them on what you eat.\"\"dress them as you are dressed.\"\"you will meet'), Document(metadata={'name': 'the.message.(1976).eng.1cd', 'index': 0}, page_content='them as you are dressed.\"\"you will meet your god,\"\"and he will call you toaccount for your actions.\"\"let those who are presentwarn those who are absent.\"\"you are all are descendant from adam,\"\"and'), Document(metadata={'name': 'the.message.(1976).eng.1cd', 'index': 0}, page_content='are all are descendant from adam,\"\"and the best among youis he who most regards god.\"\"think deeply about what i say.\"\"let all your feuds be abolished.\"\"you must know that every muslimis the brother'), Document(metadata={'name': 'the.message.(1976).eng.1cd', 'index': 0}, page_content='must know that every muslimis the brother of every other muslim.\"\"and all muslims arebrothers one of another.\"\"between muslims, thereare no races and no tribes.\"\"nor must you takeanything from your'), Document(metadata={'name': 'the.message.(1976).eng.1cd', 'index': 0}, page_content='no tribes.\"\"nor must you takeanything from your brother,\"\"except what is given freely.\"\"do not oppressand do not be oppressed.\"\"o my people,\"\"i am but a man.\"\"it may be that the angelof death will'), Document(metadata={'name': 'the.message.(1976).eng.1cd', 'index': 0}, page_content='but a man.\"\"it may be that the angelof death will visit me soon,\"\"and death will overtake me.\"\"but i have left you a book,\"\"revealed by god, the quran,\"\"which is light and guidance.\"now he repeated'), Document(metadata={'name': 'the.message.(1976).eng.1cd', 'index': 0}, page_content='is light and guidance.\"now he repeated to the peoplethe final revelation of the quran,the seal and termination,not muhammad\\'s words,but god\\'s word:\\'\\'this day i have perfectedyour religion for'), Document(metadata={'name': 'the.message.(1976).eng.1cd', 'index': 0}, page_content='word:\\'\\'this day i have perfectedyour religion for you\"\"and completed my favour to you\"\"and i\\'ve chosen for youislam as your religion.\\'\\'on june the 8th, 632,in his 63rd year,muhammad died.many of his'), Document(metadata={'name': 'the.message.(1976).eng.1cd', 'index': 0}, page_content='632,in his 63rd year,muhammad died.many of his followerscould not believe the fact.how can such a man die?but abu bakr, the prophet\\'s friendstood up in the mosque:\"if anyone worships muhammad,\"\"let'), Document(metadata={'name': 'the.message.(1976).eng.1cd', 'index': 0}, page_content='in the mosque:\"if anyone worships muhammad,\"\"let him know that muhammad is dead.\"\"but he who worships god,\"\"let him know that godis alive and can not die.\\'\\'they buried muhammadbeside his mosque, in'), Document(metadata={'name': 'the.message.(1976).eng.1cd', 'index': 0}, page_content=\"die.''they buried muhammadbeside his mosque, in medina.but the religion he preachedfound it's place in the heart of man.it endured. it multiplied.still to mecca they come, mankind.the people of\"), Document(metadata={'name': 'the.message.(1976).eng.1cd', 'index': 0}, page_content='to mecca they come, mankind.the people of islamdressed in their pilgrim white.all equal before god,all united in this place of prayer.each individual soul joinedin a community of worship:\"one god\"'), Document(metadata={'name': 'the.message.(1976).eng.1cd', 'index': 0}, page_content='soul joinedin a community of worship:\"one god\" synced by jisinplease rate this subtitle at other users to choose the best subtitles'), Document(metadata={'name': 'here.comes.the.grump.s01.e09.joltin.jack.in.boxia.(1969).eng.1cd', 'index': 1}, page_content=\"ah! there's princessdawn and terry with theblooney looney soldiersprotecting them.oh, terry, look!here comes the grump.yeah! and looks like he's going toshoot some darts at our balloon.well, if they\"), Document(metadata={'name': 'here.comes.the.grump.s01.e09.joltin.jack.in.boxia.(1969).eng.1cd', 'index': 1}, page_content=\"toshoot some darts at our balloon.well, if they think king blooney's gasbag guards can protect them from me.we got another thing coming.okay! when i get the signal,we'll make our move.this will fix\"), Document(metadata={'name': 'here.comes.the.grump.s01.e09.joltin.jack.in.boxia.(1969).eng.1cd', 'index': 1}, page_content=\"get the signal,we'll make our move.this will fix him.okay.everybody up!oh, terry, i'm frightened.isn't there some waywe can fight back?i'd better do something,and quick. here he comes again.i'll show\"), Document(metadata={'name': 'here.comes.the.grump.s01.e09.joltin.jack.in.boxia.(1969).eng.1cd', 'index': 1}, page_content=\"quick. here he comes again.i'll show them theycan't outsmart me.maybe if i can put these two stovepipes together it just might work.oh boy!it's working great.old grump has turned aroundhe's heading\"), Document(metadata={'name': 'here.comes.the.grump.s01.e09.joltin.jack.in.boxia.(1969).eng.1cd', 'index': 1}, page_content=\"great.old grump has turned aroundhe's heading the other way.come on, dragon,step on it, step on it!before we get ourpride puncture.faster! faster!uh-oh. old grumphasn't given up yet.hey sergeant,what\"), Document(metadata={'name': 'here.comes.the.grump.s01.e09.joltin.jack.in.boxia.(1969).eng.1cd', 'index': 1}, page_content=\"old grumphasn't given up yet.hey sergeant,what do we do now?we all hide in that cloud.the boys and i have a surpriseplanned for mr. grump.faster dragon, faster.we got him cornered in that cloud.oh,\"), Document(metadata={'name': 'here.comes.the.grump.s01.e09.joltin.jack.in.boxia.(1969).eng.1cd', 'index': 1}, page_content=\"faster.we got him cornered in that cloud.oh, you dumb-dumb, you.hey, maybe that knocked somesense into grump's head.no i don't think so.because here he comes again.ah! getting tricky with clouds,\"), Document(metadata={'name': 'here.comes.the.grump.s01.e09.joltin.jack.in.boxia.(1969).eng.1cd', 'index': 1}, page_content=\"he comes again.ah! getting tricky with clouds, eh?well, let's see howthey like my cloud.of sleeping gas that is.quick, terry. do something.it's sleeping gas.this fan ought to do it.you could keep\"), Document(metadata={'name': 'here.comes.the.grump.s01.e09.joltin.jack.in.boxia.(1969).eng.1cd', 'index': 1}, page_content=\"gas.this fan ought to do it.you could keep yoursleeping gas, grump.he's blowing it back on us.stop, dragon.whoa! look out!wait, wake up dragon,wake up, wake up.do something, stupid.no long,\"), Document(metadata={'name': 'here.comes.the.grump.s01.e09.joltin.jack.in.boxia.(1969).eng.1cd', 'index': 1}, page_content=\"up, wake up.do something, stupid.no long, dragon.i'll bail out.geronimo!don't guess on me,you dumb-dumb.that stupid dragon.oh, dear. terry, look!the blooney looneys.well, they'll be okay.the way\"), Document(metadata={'name': 'here.comes.the.grump.s01.e09.joltin.jack.in.boxia.(1969).eng.1cd', 'index': 1}, page_content=\"blooney looneys.well, they'll be okay.the way they're drifting by the time,they wake up they'll be backin blooney looney land.look princess. i wonder whatkind of place that is up ahead.i don't\"), Document(metadata={'name': 'here.comes.the.grump.s01.e09.joltin.jack.in.boxia.(1969).eng.1cd', 'index': 1}, page_content=\"wonder whatkind of place that is up ahead.i don't know.hey, maybe this iswhere we'll find thecave of the whisperingorchids and the crystal key.- oh, i sure hope so, terry.- let's have a look around.i\"), Document(metadata={'name': 'here.comes.the.grump.s01.e09.joltin.jack.in.boxia.(1969).eng.1cd', 'index': 1}, page_content=\"sure hope so, terry.- let's have a look around.i wonder wherethis road goes.it goes to the village.who said that?i did!i'm farmer jack.welcome to jack-in-boxia.i'm pleased to meet you.i am princess\"), Document(metadata={'name': 'here.comes.the.grump.s01.e09.joltin.jack.in.boxia.(1969).eng.1cd', 'index': 1}, page_content=\"pleased to meet you.i am princess dawn and thisis my friend terry, and uh...where's bip?oh, he must be outplaying somewhere.gosh! is everybodya jack in the box?of course. that's whatmakes this\"), Document(metadata={'name': 'here.comes.the.grump.s01.e09.joltin.jack.in.boxia.(1969).eng.1cd', 'index': 1}, page_content=\"jack in the box?of course. that's whatmakes this jack-in-boxia.- goodbye now.- what do we do now, terry?maybe we'd better deflate theballoon and drive to the village.maybe someone there willhave more\"), Document(metadata={'name': 'here.comes.the.grump.s01.e09.joltin.jack.in.boxia.(1969).eng.1cd', 'index': 1}, page_content=\"to the village.maybe someone there willhave more time to talk.that's a good idea.ao this is the village?it's kind of different isn't it?you can say that again.i wonder if there'sanybody around.i'll\"), Document(metadata={'name': 'here.comes.the.grump.s01.e09.joltin.jack.in.boxia.(1969).eng.1cd', 'index': 1}, page_content=\"that again.i wonder if there'sanybody around.i'll find out.hello!farmer jack send us.for farmer jack?i'm officer jack and overthere is store keeper jack.hi there, friends.you cal me, jackie.i'm\"), Document(metadata={'name': 'here.comes.the.grump.s01.e09.joltin.jack.in.boxia.(1969).eng.1cd', 'index': 1}, page_content=\"jack.hi there, friends.you cal me, jackie.i'm seward jack.do you know what i mean?you know who i am.and my name isn't jack.you know what i mean?can any of you folkstell us where we mightfind the cave\"), Document(metadata={'name': 'here.comes.the.grump.s01.e09.joltin.jack.in.boxia.(1969).eng.1cd', 'index': 1}, page_content=\"of you folkstell us where we mightfind the cave of thewhispering orchids?we're sure it's where grumpis hidden the crystal key.and we must find it to save mycountry from the curse of gloom.speaking of\"), Document(metadata={'name': 'here.comes.the.grump.s01.e09.joltin.jack.in.boxia.(1969).eng.1cd', 'index': 1}, page_content=\"mycountry from the curse of gloom.speaking of grump,i wonder where he is.keep your eyes peeled dragon, theymust be around here somewhere.you know, terry. i get the feelingthat grump isn't too far\"), Document(metadata={'name': 'here.comes.the.grump.s01.e09.joltin.jack.in.boxia.(1969).eng.1cd', 'index': 1}, page_content=\"terry. i get the feelingthat grump isn't too far away.yeah, we've got to keepa sharp lookout for him.look out? look out?all lookouts hear this.get up there andlook out for uh, uh...what was her name\"), Document(metadata={'name': 'here.comes.the.grump.s01.e09.joltin.jack.in.boxia.(1969).eng.1cd', 'index': 1}, page_content=\"there andlook out for uh, uh...what was her name again?- uh, grump and his dragon.- and his dragon.they're going, you look outs.no sign of grump.two o'clock an noise while.all work here.still two\"), Document(metadata={'name': 'here.comes.the.grump.s01.e09.joltin.jack.in.boxia.(1969).eng.1cd', 'index': 1}, page_content=\"o'clock an noise while.all work here.still two o'clock and all's well.what was that up ahead there?i saw some,faster, dragon.oh-oh! it's not all's well.no matter what time it is.run for your\"), Document(metadata={'name': 'here.comes.the.grump.s01.e09.joltin.jack.in.boxia.(1969).eng.1cd', 'index': 1}, page_content=\"all's well.no matter what time it is.run for your life!it's the grump with his dragon!ah-ha! did you hear that, dragon?we got him this time.he's here.the grump is here!ah-ha! there we go.after them,\"), Document(metadata={'name': 'here.comes.the.grump.s01.e09.joltin.jack.in.boxia.(1969).eng.1cd', 'index': 1}, page_content='grump is here!ah-ha! there we go.after them, dragon.whoa!why you no-goodsneak jack.wherever you are,come back here!shh! we are sleeping down here.you smart alley jack.so you gonna sush me?you'), Document(metadata={'name': 'here.comes.the.grump.s01.e09.joltin.jack.in.boxia.(1969).eng.1cd', 'index': 1}, page_content='smart alley jack.so you gonna sush me?you hear?well, say something down there.look, terry.mr. grump is really getting it.yes and he really deserves it too.hey sporty jack,how about a game of'), Document(metadata={'name': 'here.comes.the.grump.s01.e09.joltin.jack.in.boxia.(1969).eng.1cd', 'index': 1}, page_content=\"it too.hey sporty jack,how about a game of tennis?okay, i'll serve.oh stop it!take it easy! hold it! whoa!watch fellas, easy now.don't you guys haven't missed?i might have taken a coffee break.well,\"), Document(metadata={'name': 'here.comes.the.grump.s01.e09.joltin.jack.in.boxia.(1969).eng.1cd', 'index': 1}, page_content='missed?i might have taken a coffee break.well, when grump is busy playingtennis we might as well take off.okay, terry.bye, everybody.- goodbye, friends.- good luck.bon voyage.gee, it was sure nice'), Document(metadata={'name': 'here.comes.the.grump.s01.e09.joltin.jack.in.boxia.(1969).eng.1cd', 'index': 1}, page_content='good luck.bon voyage.gee, it was sure nice theway they helped us out.it sure was.oh, by the way,which way are we headed?in a direction as far awayfrom grump as we can get.subtitles: kilo'), Document(metadata={'name': 'yumis.cells.s02.e13.episode.2.13.(2022).eng.1cd', 'index': 2}, page_content=\"yumi's cells 2episode extremely polite yumiyumi.should we...get married?let's get married.the sky is pretty.- eonni yi da, good morning!- hey, good morning.wow. it's been so long since she made a\"), Document(metadata={'name': 'yumis.cells.s02.e13.episode.2.13.(2022).eng.1cd', 'index': 2}, page_content=\"morning.wow. it's been so long since she made a comeback on here.i'm talking about yumi. she uploaded a post. what's going on?really? i'll have to leave a comment.a nice day for a change. spring. a\"), Document(metadata={'name': 'yumis.cells.s02.e13.episode.2.13.(2022).eng.1cd', 'index': 2}, page_content=\"a comment.a nice day for a change. spring. a new feeling. a good hunch.so she just uploaded it.wait. this isn't just a normal picture of a ring.why?- hello?- hey, is there something going on?huh?-\"), Document(metadata={'name': 'yumis.cells.s02.e13.episode.2.13.(2022).eng.1cd', 'index': 2}, page_content=\"hello?- hey, is there something going on?huh?- hurry up and come clean, something good happened, right?listen. ruby and writer yumi are having dinner together today.i'm going to act like i came to\"), Document(metadata={'name': 'yumis.cells.s02.e13.episode.2.13.(2022).eng.1cd', 'index': 2}, page_content=\"together today.i'm going to act like i came to look for ruby and join in.then if hyeong and hyeong wung act like youjust happened to come to that restaurant for dinneri'll naturally invite you to\"), Document(metadata={'name': 'yumis.cells.s02.e13.episode.2.13.(2022).eng.1cd', 'index': 2}, page_content=\"restaurant for dinneri'll naturally invite you to join us.so i'll get there first and you guyscome in ten minutes later. then we'll meet.but you said that yumi is dating herex-boyfriend again. so\"), Document(metadata={'name': 'yumis.cells.s02.e13.episode.2.13.(2022).eng.1cd', 'index': 2}, page_content=\"that yumi is dating herex-boyfriend again. so isn't it already game over?no, no, no. don't dare call yourself aperson if you haven't tried your best.isn't that something that stalkers say?so you\"), Document(metadata={'name': 'yumis.cells.s02.e13.episode.2.13.(2022).eng.1cd', 'index': 2}, page_content=\"that something that stalkers say?so you don't trust me, hyeongnim.you can trust me when it comes to dating.why?do you know why people call me control z?no, but i'm not really that curious.it's a bit\"), Document(metadata={'name': 'yumis.cells.s02.e13.episode.2.13.(2022).eng.1cd', 'index': 2}, page_content=\"z?no, but i'm not really that curious.it's a bit embarrasing to say it myself,but i'm a dating expert.you must have a lot of dating experience then.rather than a lot, it's deep.then, how many\"), Document(metadata={'name': 'yumis.cells.s02.e13.episode.2.13.(2022).eng.1cd', 'index': 2}, page_content=\"then.rather than a lot, it's deep.then, how many times...?you know that how deep your relationships are ismore important than how many you've had, right?i'm the type who stays in a relationshipfor a\"), Document(metadata={'name': 'yumis.cells.s02.e13.episode.2.13.(2022).eng.1cd', 'index': 2}, page_content=\"the type who stays in a relationshipfor a long time when i date. that's all i'll say.i got it, so how many times?three times, officially.three times?three times. hey, i've been in over seven\"), Document(metadata={'name': 'yumis.cells.s02.e13.episode.2.13.(2022).eng.1cd', 'index': 2}, page_content=\"times?three times. hey, i've been in over seven relationships!how dare you act like a know-it-all when you've only dated three times?- hey.- huh?you said seven times? you?yeah.really?well...i'm\"), Document(metadata={'name': 'yumis.cells.s02.e13.episode.2.13.(2022).eng.1cd', 'index': 2}, page_content=\"said seven times? you?yeah.really?well...i'm saying it's seven times if you include flirting.you said it's seven times if you include flirting?hyeongnim, i would have been in arelationship over 30\"), Document(metadata={'name': 'yumis.cells.s02.e13.episode.2.13.(2022).eng.1cd', 'index': 2}, page_content=\"i would have been in arelationship over 30 times if i included flirting.wait, if you've only dated seven timesincluding flirting, then this is serious.hyung wung, i'm telling you that yumi is lonely\"), Document(metadata={'name': 'yumis.cells.s02.e13.episode.2.13.(2022).eng.1cd', 'index': 2}, page_content='wung, i\\'m telling you that yumi is lonely right now.although they\\'re back together, it\\'s awkward.a relationship like this can\\'t last long.now\\'s your chance.\"don\\'t put off until tomorrow what you can'), Document(metadata={'name': 'yumis.cells.s02.e13.episode.2.13.(2022).eng.1cd', 'index': 2}, page_content='chance.\"don\\'t put off until tomorrow what you can do today.\"(a benjamin franklin quote)ruby.hello?- oppa z!hey, ruby. i was planning to call you...oppa z! big news! big news!eonni yumi said she\\'s'), Document(metadata={'name': 'yumis.cells.s02.e13.episode.2.13.(2022).eng.1cd', 'index': 2}, page_content=\"z! big news! big news!eonni yumi said she's getting married!with team leader ba bi. she said he proposed to her.i thought things weren't going well for them, but this is a big twist!oh, i have to go\"), Document(metadata={'name': 'yumis.cells.s02.e13.episode.2.13.(2022).eng.1cd', 'index': 2}, page_content=\"them, but this is a big twist!oh, i have to go to a meeting. i'll call you back.- wait...- are you telling me that yumi's getting married to her ex-boyfriend right now?hello?what are you up to?i'm\"), Document(metadata={'name': 'yumis.cells.s02.e13.episode.2.13.(2022).eng.1cd', 'index': 2}, page_content=\"right now?hello?what are you up to?i'm drinking coffee, cleaning, and cooking.i didn't tell you yesterday, did i?tell me what?i've always had a feeling that i'd live happily when i got married.based\"), Document(metadata={'name': 'yumis.cells.s02.e13.episode.2.13.(2022).eng.1cd', 'index': 2}, page_content=\"that i'd live happily when i got married.based on what?a strong signal came to me from the future.what are you saying?but i became certain that it's not just a hunch yesterday.i think we'll be\"), Document(metadata={'name': 'yumis.cells.s02.e13.episode.2.13.(2022).eng.1cd', 'index': 2}, page_content=\"it's not just a hunch yesterday.i think we'll be happy.you don't have much going on today,right? do you want to go out for lunch?lunch? i'm making a lunchbox right now.there was somewhere i wanted to\"), Document(metadata={'name': 'yumis.cells.s02.e13.episode.2.13.(2022).eng.1cd', 'index': 2}, page_content=\"right now.there was somewhere i wanted to go with you.where?your father?huh? aunt, su cheol didn't get divorced.it was the younger sibling that got divorced.su cheol doesn't have a younger\"), Document(metadata={'name': 'yumis.cells.s02.e13.episode.2.13.(2022).eng.1cd', 'index': 2}, page_content=\"that got divorced.su cheol doesn't have a younger sibling.what? why doesn't he have a younger sibling? there's two of them.what's the youngest one's name?what is it?yumi grew up around a lot of adult\"), Document(metadata={'name': 'yumis.cells.s02.e13.episode.2.13.(2022).eng.1cd', 'index': 2}, page_content=\"is it?yumi grew up around a lot of adult relatives from ayoung age, so she never found it difficult to interact with adults.do you have a boyfriend? did you get a job?no, i don't have a boyfriend,\"), Document(metadata={'name': 'yumis.cells.s02.e13.episode.2.13.(2022).eng.1cd', 'index': 2}, page_content=\"did you get a job?no, i don't have a boyfriend, and i'm getting ready to get a job.is that so?however...it's different with her boyfriend's father.babi's street foodbut is it okay for me to suddenly\"), Document(metadata={'name': 'yumis.cells.s02.e13.episode.2.13.(2022).eng.1cd', 'index': 2}, page_content=\"street foodbut is it okay for me to suddenly come see him?i thought that you'd feel more burdened if we made plans to see him.so we can say that we decided to stop in since we were passing by,greet\"), Document(metadata={'name': 'yumis.cells.s02.e13.episode.2.13.(2022).eng.1cd', 'index': 2}, page_content=\"decided to stop in since we were passing by,greet him, and then leave.let's take the official meeting slow.- let's go in.- okay.welcome.father!i stopped by.why did you come here with your foot like\"), Document(metadata={'name': 'yumis.cells.s02.e13.episode.2.13.(2022).eng.1cd', 'index': 2}, page_content=\"by.why did you come here with your foot like that? you should be at home.i came with my girlfriend.that's ba bi's father?he doesn't look like his son at all.he looks scarier than his picture.he looks\"), Document(metadata={'name': 'yumis.cells.s02.e13.episode.2.13.(2022).eng.1cd', 'index': 2}, page_content=\"at all.he looks scarier than his picture.he looks like an actor.who does he look like?move!you all need to get yourselves together!is it important which actor he looks like right now?he's going to be\"), Document(metadata={'name': 'yumis.cells.s02.e13.episode.2.13.(2022).eng.1cd', 'index': 2}, page_content=\"actor he looks like right now?he's going to be our father-in-law!marriage? don't you know if we makea mistake, we'll get intercepted here!say hi. he's my father.hello, nice to meet you. i'm kim\"), Document(metadata={'name': 'yumis.cells.s02.e13.episode.2.13.(2022).eng.1cd', 'index': 2}, page_content=\"he's my father.hello, nice to meet you. i'm kim yumi.nice to meet you.you should have let me know you were coming.sorry. we happened to have anappointment in the area, so we just stopped by.we\"), Document(metadata={'name': 'yumis.cells.s02.e13.episode.2.13.(2022).eng.1cd', 'index': 2}, page_content=\"in the area, so we just stopped by.we thought it would be good to say hello.oh, i got this...yu mi bought it to give it to you.you didn't have to.oh it's nothing, it's just snacks.we don't have any\"), Document(metadata={'name': 'yumis.cells.s02.e13.episode.2.13.(2022).eng.1cd', 'index': 2}, page_content=\"it's nothing, it's just snacks.we don't have any food because lunchtimeis over. we've only got tteokbokki left now.oh, no, it's okay. i really like tteokbokki.tteokbokki, soondae, ramen, kimbapthe\"), Document(metadata={'name': 'yumis.cells.s02.e13.episode.2.13.(2022).eng.1cd', 'index': 2}, page_content=\"tteokbokki.tteokbokki, soondae, ramen, kimbapthe atmosphere is so nice.it's been around for a while, so it's a bit old-fashioned, isn't it?no, that makes it better! it really seems like it will be\"), Document(metadata={'name': 'yumis.cells.s02.e13.episode.2.13.(2022).eng.1cd', 'index': 2}, page_content=\"makes it better! it really seems like it will be delicious.my father is usually quite blunt. especially since my mother died.yeah, you told me.he's not doing it to you specifically, so don't worry\"), Document(metadata={'name': 'yumis.cells.s02.e13.episode.2.13.(2022).eng.1cd', 'index': 2}, page_content=\"not doing it to you specifically, so don't worry about it.what is it, bon hui?i'm outside at the moment.what?i'll send it to you as a photo.fax? but why...yes, i understand. i'll call you once i've\"), Document(metadata={'name': 'yumis.cells.s02.e13.episode.2.13.(2022).eng.1cd', 'index': 2}, page_content=\"why...yes, i understand. i'll call you once i've sent it.yu mi, just a second.do you need to go somewhere?i'll just send a fax and then i'll be back.i'll go.no, i need to go myself.father, the\"), Document(metadata={'name': 'yumis.cells.s02.e13.episode.2.13.(2022).eng.1cd', 'index': 2}, page_content=\"back.i'll go.no, i need to go myself.father, the stationary store is open, right?of course, it's open.what is the highest form of respect youcan show to someone who made you food?of course it's to\"), Document(metadata={'name': 'yumis.cells.s02.e13.episode.2.13.(2022).eng.1cd', 'index': 2}, page_content=\"to someone who made you food?of course it's to eat everythingdeliciously so there's nothing left over!exactly! that is the highest form of respect.hold on, this...father, that's too much.leave\"), Document(metadata={'name': 'yumis.cells.s02.e13.episode.2.13.(2022).eng.1cd', 'index': 2}, page_content=\"on, this...father, that's too much.leave some.so much...i'll be right back. eat.okay, come quickly.how many portions is that exactly?! 3? 4?even if it's respectful, this is too much.one second. don't\"), Document(metadata={'name': 'yumis.cells.s02.e13.episode.2.13.(2022).eng.1cd', 'index': 2}, page_content=\"respectful, this is too much.one second. don't be scared already.ba bi's street food's tteokbokki is madeof wheat rice cakes. that's my preference.then shall i quickly get started on this difficult\"), Document(metadata={'name': 'yumis.cells.s02.e13.episode.2.13.(2022).eng.1cd', 'index': 2}, page_content=\"shall i quickly get started on this difficult task?who are you? you're going to take all of us on?you'd better prepare yourselves!there isn't a tteokbokki target i don't know.i think he's\"), Document(metadata={'name': 'yumis.cells.s02.e13.episode.2.13.(2022).eng.1cd', 'index': 2}, page_content=\"a tteokbokki target i don't know.i think he's serious!where are you running to?my back!you can't run away from this plate!i'm not a rice cake, i'm green onion.sorry, you look like a rice cake.it's\"), Document(metadata={'name': 'yumis.cells.s02.e13.episode.2.13.(2022).eng.1cd', 'index': 2}, page_content=\"green onion.sorry, you look like a rice cake.it's delicious, so delicious. even the green onion is good.it can't compare to what you get at a food cart.yumi! you need to eat modestly here.don't jump\"), Document(metadata={'name': 'yumis.cells.s02.e13.episode.2.13.(2022).eng.1cd', 'index': 2}, page_content=\"you need to eat modestly here.don't jump around.she's not saying anything. does it not suit her taste?no, that's not it.look at her feet bouncing.bouncing feet: something you do when eating delicious\"), Document(metadata={'name': 'yumis.cells.s02.e13.episode.2.13.(2022).eng.1cd', 'index': 2}, page_content=\"feet: something you do when eating delicious food.it's like a standing ovation at a performance.and she's even sweeping up the sauce.sweeping up the soup: mopping up the leftover tteokbokkisauce. the\"), Document(metadata={'name': 'yumis.cells.s02.e13.episode.2.13.(2022).eng.1cd', 'index': 2}, page_content=\"mopping up the leftover tteokbokkisauce. the highest form of praise in the tteokbokki industry.yu mi scored highly on her first impression.you ate all of this? alone?it was so yummy...- oh, i'll...-\"), Document(metadata={'name': 'yumis.cells.s02.e13.episode.2.13.(2022).eng.1cd', 'index': 2}, page_content=\"of this? alone?it was so yummy...- oh, i'll...- no need.yu mi must have really liked your tteokbokki.there's none for you.i'm okay.if you're done eating, get going.okay.is he angry?no. he's usually\"), Document(metadata={'name': 'yumis.cells.s02.e13.episode.2.13.(2022).eng.1cd', 'index': 2}, page_content=\"get going.okay.is he angry?no. he's usually like that.we'll be going now.bye.- should we go?- i'm just going to pop to the bathroom.okay.he's so stiff. i have no idea what to say.still, we can't just\"), Document(metadata={'name': 'yumis.cells.s02.e13.episode.2.13.(2022).eng.1cd', 'index': 2}, page_content=\"i have no idea what to say.still, we can't just eat and leave.of course we can't just go.in that case... it's metamorphosis.metamorphosis: the ability to temporarily maximise and transferthe ability\"), Document(metadata={'name': 'yumis.cells.s02.e13.episode.2.13.(2022).eng.1cd', 'index': 2}, page_content='to temporarily maximise and transferthe ability of one cell to another. itlasts for no more than 30 minutes. no matter what ordeals come for me  no matter where or when, politely.  my future'), Document(metadata={'name': 'yumis.cells.s02.e13.episode.2.13.(2022).eng.1cd', 'index': 2}, page_content=\"me  no matter where or when, politely.  my future father-in-law  can't help but love me.  afraid of nothing in this world.  politeness can solve everything today it is you! etiquette! yu mi overflows\"), Document(metadata={'name': 'yumis.cells.s02.e13.episode.2.13.(2022).eng.1cd', 'index': 2}, page_content='today it is you! etiquette! yu mi overflows with politeness  full of manners [bridge] amongst the many cards  the most shining  full, full, full, full of manners [etiquette]full of manners yu'), Document(metadata={'name': 'yumis.cells.s02.e13.episode.2.13.(2022).eng.1cd', 'index': 2}, page_content=\"full of manners [etiquette]full of manners yu mi!we'll be going.go on.let's go yu mi.it was really delicious.full of manners yu mi: respectfulnessincreases 300%. filial daughter state as bonus.that's\"), Document(metadata={'name': 'yumis.cells.s02.e13.episode.2.13.(2022).eng.1cd', 'index': 2}, page_content=\"300%. filial daughter state as bonus.that's enough. what's so special about tteokbokki?i'm sorry for visiting so unexpectedly.next time, we'll be sure to contact you before we come.it's nothing. as\"), Document(metadata={'name': 'yumis.cells.s02.e13.episode.2.13.(2022).eng.1cd', 'index': 2}, page_content=\"to contact you before we come.it's nothing. as for me, well it would be nice if you came again.and i'm glad you enjoyed the tteokbokki.in that case, please do be going.okay. i'll come and visit you\"), Document(metadata={'name': 'yumis.cells.s02.e13.episode.2.13.(2022).eng.1cd', 'index': 2}, page_content=\"please do be going.okay. i'll come and visit you again.fafa?father.[father][ba bi snack bar]did i make a mistake?you did well. what mistake? he'll like it if you pop by occasionally.one second.what\"), Document(metadata={'name': 'yumis.cells.s02.e13.episode.2.13.(2022).eng.1cd', 'index': 2}, page_content='it if you pop by occasionally.one second.what is it?- yu mi-yah.- yes?here.buy something delicious to eat.take it.thank you.come over to hang out again.yes, father. i only wanna be with you everyday'), Document(metadata={'name': 'yumis.cells.s02.e13.episode.2.13.(2022).eng.1cd', 'index': 2}, page_content=\"father. i only wanna be with you everyday  your smile makes my heart dance i'll buy you something since i gotspending money. what do you want to drink?do you know what my father's nickname is?what is\"), Document(metadata={'name': 'yumis.cells.s02.e13.episode.2.13.(2022).eng.1cd', 'index': 2}, page_content=\"you know what my father's nickname is?what is it?scrooge jeong.why? he gave me this much spending money.i've never gotten any.really?know that you're the first person toever get spending money from\"), Document(metadata={'name': 'yumis.cells.s02.e13.episode.2.13.(2022).eng.1cd', 'index': 2}, page_content=\"the first person toever get spending money from my father.wow. then i shouldn't use this and laminate it to commemorate.hang it up on the wall.i should iron this and laminate it.wow, you're rich.yumi\"), Document(metadata={'name': 'yumis.cells.s02.e13.episode.2.13.(2022).eng.1cd', 'index': 2}, page_content=\"iron this and laminate it.wow, you're rich.yumi safely made it through the first hurdle on the road to marriage.you know that's really important, right?i'm jealous. i've never gotten any from him\"), Document(metadata={'name': 'yumis.cells.s02.e13.episode.2.13.(2022).eng.1cd', 'index': 2}, page_content=\"right?i'm jealous. i've never gotten any from him before.i'll get a lot from him. everyday episode the unanswered phone call everyday throatthroatis this the throat?here!who are you?!knock the\"), Document(metadata={'name': 'yumis.cells.s02.e13.episode.2.13.(2022).eng.1cd', 'index': 2}, page_content=\"this the throat?here!who are you?!knock the throat!i am a cold virus!then i just have to send it by the weekend, right?that would be good. but will you be able to?i'll edit it. there's isn't a\"), Document(metadata={'name': 'yumis.cells.s02.e13.episode.2.13.(2022).eng.1cd', 'index': 2}, page_content=\"will you be able to?i'll edit it. there's isn't a lot...writer, did you catch a cold?i don't know. my throat stings.- okay. i'll see you next week.- okay!should i drink some ginger tea?hey! where is\"), Document(metadata={'name': 'yumis.cells.s02.e13.episode.2.13.(2022).eng.1cd', 'index': 2}, page_content=\"okay!should i drink some ginger tea?hey! where is that jerk cold?i'll make him aware of the greatnessof ginger!bug off!how dare you come here.if you're busy, i can tell you later.health is public\"), Document(metadata={'name': 'yumis.cells.s02.e13.episode.2.13.(2022).eng.1cd', 'index': 2}, page_content=\"busy, i can tell you later.health is public propertycold is weak to heat. let's raise her temperature and chase him away!yes, ma'am! understood!38.5 c (101.3 fahrenheit)i've got a fever, too.i made\"), Document(metadata={'name': 'yumis.cells.s02.e13.episode.2.13.(2022).eng.1cd', 'index': 2}, page_content=\"c (101.3 fahrenheit)i've got a fever, too.i made plans to meet ba bi later. what should i do?text message from yumiba bi.i think i caught a cold. my throat hurts and i have a fever.shall we change\"), Document(metadata={'name': 'yumis.cells.s02.e13.episode.2.13.(2022).eng.1cd', 'index': 2}, page_content=\"throat hurts and i have a fever.shall we change our movie reservation to tomorrow?hello? ba bi.have you taken medicine? what about food?i'm at the pharmacy now.shall i stop by for a bit?no. i think\"), Document(metadata={'name': 'yumis.cells.s02.e13.episode.2.13.(2022).eng.1cd', 'index': 2}, page_content=\"now.shall i stop by for a bit?no. i think i'll get better if i just rest today.i think it would be best if i stop by for a bit.i'm really okay. i'm sorry.no, get some rest.- okay. i'll call you\"), Document(metadata={'name': 'yumis.cells.s02.e13.episode.2.13.(2022).eng.1cd', 'index': 2}, page_content=\"i'm sorry.no, get some rest.- okay. i'll call you later.- okay.should i not have told him? he'll worry.yumi, are you busy?i came to ilsan for work, so i thought of you.i'm not at home. what is\"), Document(metadata={'name': 'yumis.cells.s02.e13.episode.2.13.(2022).eng.1cd', 'index': 2}, page_content=\"so i thought of you.i'm not at home. what is it?there's no reason for us to meet sincewe're not working together or friends,but do you want to have a cup of coffee?alright, yumi is coming soon. let's\"), Document(metadata={'name': 'yumis.cells.s02.e13.episode.2.13.(2022).eng.1cd', 'index': 2}, page_content=\"cup of coffee?alright, yumi is coming soon. let's speak coolly.as if we're just asking how she's doing.show me the best answer.[which of the following is the coolest way to greet yumi?]a. yumi,\"), Document(metadata={'name': 'yumis.cells.s02.e13.episode.2.13.(2022).eng.1cd', 'index': 2}, page_content=\"is the coolest way to greet yumi?]a. yumi, congratulations. i heard that you're getting married soon.b. i heard you got a proposal? good for you.c. mr. yu ba bi is a good man. you made a good\"), Document(metadata={'name': 'yumis.cells.s02.e13.episode.2.13.(2022).eng.1cd', 'index': 2}, page_content='mr. yu ba bi is a good man. you made a good decision.a good man? yeah, right.does he really have to say that?hey. hey, love. calm down.we can just brush past it.do we really have to call her out and'), Document(metadata={'name': 'yumis.cells.s02.e13.episode.2.13.(2022).eng.1cd', 'index': 2}, page_content=\"past it.do we really have to call her out and say this?love! this is something that makes yumi happy.it's the same as leaving comments on her web novel.what's so hard about wishing her well?i don't\"), Document(metadata={'name': 'yumis.cells.s02.e13.episode.2.13.(2022).eng.1cd', 'index': 2}, page_content=\"so hard about wishing her well?i don't want to do it! why do i have to go this far?wung.hey. you made it?what do you want to drink?nothing.i had some tea right before i came, so i'm okay.are you\"), Document(metadata={'name': 'yumis.cells.s02.e13.episode.2.13.(2022).eng.1cd', 'index': 2}, page_content=\"some tea right before i came, so i'm okay.are you sick?i must have a cold. i'm okay.how have you been?what about your finger?it's fine.that's a relief.congratulations.huh?about that.that?you getting\"), Document(metadata={'name': 'yumis.cells.s02.e13.episode.2.13.(2022).eng.1cd', 'index': 2}, page_content=\"that.that?you getting that thing.being proposed to.thank you.i didn't think that you'd say that to me.thank you.no need to be thankful.look at that. yumi's happy.don't get married, yumi!i contacted\"), Document(metadata={'name': 'yumis.cells.s02.e13.episode.2.13.(2022).eng.1cd', 'index': 2}, page_content=\"yumi's happy.don't get married, yumi!i contacted you because i wanted to tell you that.i could say it over the phone, but still...yeah.when are you getting married?not right away. i think it will\"), Document(metadata={'name': 'yumis.cells.s02.e13.episode.2.13.(2022).eng.1cd', 'index': 2}, page_content=\"getting married?not right away. i think it will bebetter after i finish writing the sequel.so it will probably be late fall or winter.we're thinking around november or december.oh, i see.it's still\"), Document(metadata={'name': 'yumis.cells.s02.e13.episode.2.13.(2022).eng.1cd', 'index': 2}, page_content=\"around november or december.oh, i see.it's still far away, so it doesn't feel real.are you happy?yeah.i think i am happy.that's good.good.when you get married, send me a wedding invitation, too.i'm\"), Document(metadata={'name': 'yumis.cells.s02.e13.episode.2.13.(2022).eng.1cd', 'index': 2}, page_content=\"married, send me a wedding invitation, too.i'm not sure.why?you can't do that either because i'm your ex-boyfriend?i'll discuss it with him.with your boyfriend?yeah. i think i should ask him.then i\"), Document(metadata={'name': 'yumis.cells.s02.e13.episode.2.13.(2022).eng.1cd', 'index': 2}, page_content=\"boyfriend?yeah. i think i should ask him.then i won't be able to go. would yu ba bi allow it?why are you acting like that? are you still upset with ba bi?do you have to get married to that guy?if\"), Document(metadata={'name': 'yumis.cells.s02.e13.episode.2.13.(2022).eng.1cd', 'index': 2}, page_content=\"ba bi?do you have to get married to that guy?if you're going to do it, can't you do it with some other guy instead?why does it have to be that guy?wung.i'm saying these words for the first time in a\"), Document(metadata={'name': 'yumis.cells.s02.e13.episode.2.13.(2022).eng.1cd', 'index': 2}, page_content=\"saying these words for the first time in a long time.what?goodness.goodness, wung.i'll take you home.- that's okay.- it's because you look sick.i'm okay. my house is right around the corner.can i say\"), Document(metadata={'name': 'yumis.cells.s02.e13.episode.2.13.(2022).eng.1cd', 'index': 2}, page_content=\"my house is right around the corner.can i say one more thing?stop it.do you know what i regret the most in my life?it's when i couldn't answer when you said let's get married.i thought i would have\"), Document(metadata={'name': 'yumis.cells.s02.e13.episode.2.13.(2022).eng.1cd', 'index': 2}, page_content=\"you said let's get married.i thought i would have another chance after i earned some money.do you love that guy?do you love him?of course! yeah!huh? why isn't she saying anything? yeah!what are you\"), Document(metadata={'name': 'yumis.cells.s02.e13.episode.2.13.(2022).eng.1cd', 'index': 2}, page_content=\"why isn't she saying anything? yeah!what are you doing? yumi, you have to answer him!say that you love him! it's wung!she can't answer.- why?- love isn't here!huh?- love!- i haven't seen love\"), Document(metadata={'name': 'yumis.cells.s02.e13.episode.2.13.(2022).eng.1cd', 'index': 2}, page_content=\"love isn't here!huh?- love!- i haven't seen love either.- love, where are you?you're saying love isn't here?love still hasn't come back.is that possible? has no one seen love?- i haven't.- no.- have\"), Document(metadata={'name': 'yumis.cells.s02.e13.episode.2.13.(2022).eng.1cd', 'index': 2}, page_content=\"has no one seen love?- i haven't.- no.- have you seen her?- no.love is the only one who can answer if she loves him.but you said that love isn't here!that's why she can't say yes.darn it! then i'll\"), Document(metadata={'name': 'yumis.cells.s02.e13.episode.2.13.(2022).eng.1cd', 'index': 2}, page_content=\"why she can't say yes.darn it! then i'll just answer it!why are you asking something so obvious?!why are you asking something so obvious? how childish.i've always been childish. you know that.hurry\"), Document(metadata={'name': 'yumis.cells.s02.e13.episode.2.13.(2022).eng.1cd', 'index': 2}, page_content=\"always been childish. you know that.hurry up and go.bye.go home.when i wondered what love was, i realizedit was when i couldn't control how i felt.congratulations. be happy.hey! why won't you die?\"), Document(metadata={'name': 'yumis.cells.s02.e13.episode.2.13.(2022).eng.1cd', 'index': 2}, page_content=\"be happy.hey! why won't you die? it's 39c (102.2f) out here!it's still bearable. why?!hey! we'll all die first at this rate.i don't care. let's see who'll win!let's go over 39 degrees!do you have to\"), Document(metadata={'name': 'yumis.cells.s02.e13.episode.2.13.(2022).eng.1cd', 'index': 2}, page_content=\"win!let's go over 39 degrees!do you have to go this far just to get rid of one cold?you stupid fool...you're crazy!we'll all die. lower the fever.we don't have a temperature-lowering function,\"), Document(metadata={'name': 'yumis.cells.s02.e13.episode.2.13.(2022).eng.1cd', 'index': 2}, page_content=\"don't have a temperature-lowering function, though.wait, are you determined to kill yumi?!huh? she suddenly got cool.it's ba bi.are you okay?- when did you get here?- a little while ago.you've got a\"), Document(metadata={'name': 'yumis.cells.s02.e13.episode.2.13.(2022).eng.1cd', 'index': 2}, page_content=\"you get here?- a little while ago.you've got a really high fever. should we go to the hospital?it's not that bad. what about work?i worked outside the office and got off work from there.let's monitor\"), Document(metadata={'name': 'yumis.cells.s02.e13.episode.2.13.(2022).eng.1cd', 'index': 2}, page_content=\"office and got off work from there.let's monitor it a little longer and goto the hospital if it doesn't get any lower.you didn't eat dinner either, did you? i'll make you something.i'm not hungry.get\"), Document(metadata={'name': 'yumis.cells.s02.e13.episode.2.13.(2022).eng.1cd', 'index': 2}, page_content=\"you? i'll make you something.i'm not hungry.get some more sleep. it's not about something i can understand  to me who am spending an unexpected day  sing a song song song song song  so i can feel\"), Document(metadata={'name': 'yumis.cells.s02.e13.episode.2.13.(2022).eng.1cd', 'index': 2}, page_content=\"sing a song song song song song  so i can feel your love love love love  can't think the word that i wanna say  to me who is about to cry  sing a song song song song song  so that i can feel your\"), Document(metadata={'name': 'yumis.cells.s02.e13.episode.2.13.(2022).eng.1cd', 'index': 2}, page_content='song song song song song  so that i can feel your love love love love who is it?who was it?father sent you some tteokbboki.what?i spoke with him on the phone earlier, and he asked me for your address'), Document(metadata={'name': 'yumis.cells.s02.e13.episode.2.13.(2022).eng.1cd', 'index': 2}, page_content=\"phone earlier, and he asked me for your address when isaid that you're sick. 30 years of traditional tteokbboki - babi's street foodhe said that since you eat tteokbboki so well,you should eat some\"), Document(metadata={'name': 'yumis.cells.s02.e13.episode.2.13.(2022).eng.1cd', 'index': 2}, page_content=\"you eat tteokbboki so well,you should eat some if you don't have an appetite.do you want some? the soup is almost ready, too.i'm so thankful.have the soup first. let's eat thetteokbboki when you get\"), Document(metadata={'name': 'yumis.cells.s02.e13.episode.2.13.(2022).eng.1cd', 'index': 2}, page_content=\"soup first. let's eat thetteokbboki when you get a little better.okay.go back to sleep.i'm so touched.i'm so touched! i'm touched by ba bi and his father!why are they so sweet?when yumi's sick,\"), Document(metadata={'name': 'yumis.cells.s02.e13.episode.2.13.(2022).eng.1cd', 'index': 2}, page_content=\"father!why are they so sweet?when yumi's sick, sensitivity gets more excited than usual.is sweetness hereditary for the men in this family?that's crazy! i'm going crazy!ah, yumi. aren't you doing too\"), Document(metadata={'name': 'yumis.cells.s02.e13.episode.2.13.(2022).eng.1cd', 'index': 2}, page_content=\"i'm going crazy!ah, yumi. aren't you doing too well with your marriage?eat some more.i ate a lot. it's so delicious.shall we take a look?i think it went down a bit.aren't you going to eat dinner?i'll\"), Document(metadata={'name': 'yumis.cells.s02.e13.episode.2.13.(2022).eng.1cd', 'index': 2}, page_content=\"down a bit.aren't you going to eat dinner?i'll take care of it. go back to sleep.i'll take this away.oh, that's right. yumi, what do you think about hawaii?- hawaii?- i told you that my older sister\"), Document(metadata={'name': 'yumis.cells.s02.e13.episode.2.13.(2022).eng.1cd', 'index': 2}, page_content=\"hawaii?- hawaii?- i told you that my older sister lives in hawaii, right?what do you think about getting marriedin hawaii? i suddenly thought about it.it was really nice every time i went to nuna's\"), Document(metadata={'name': 'yumis.cells.s02.e13.episode.2.13.(2022).eng.1cd', 'index': 2}, page_content=\"it.it was really nice every time i went to nuna's house.a small wedding in hawaii?a small wedding in hawaii.what? are you saying that because you know?my dream is to have a small wedding in\"), Document(metadata={'name': 'yumis.cells.s02.e13.episode.2.13.(2022).eng.1cd', 'index': 2}, page_content=\"you know?my dream is to have a small wedding in hawaii.really? i didn't know. how would i know that?then, you're saying it's really a coincidence?wow.i like it! i love it.i knew you would like it.get\"), Document(metadata={'name': 'yumis.cells.s02.e13.episode.2.13.(2022).eng.1cd', 'index': 2}, page_content=\"like it! i love it.i knew you would like it.get some more sleep. you're sick.i think it would be nice to have a small wedding in hawaii.yeah. let's talk about it again later.go to\"), Document(metadata={'name': 'yumis.cells.s02.e13.episode.2.13.(2022).eng.1cd', 'index': 2}, page_content=\"let's talk about it again later.go to sleep.ha-hawaii?don't talk anymore. go back to sleep.you're sick.i think i'd love to have a small wedding in hawaii.how can he be like this?how could his nuna\"), Document(metadata={'name': 'yumis.cells.s02.e13.episode.2.13.(2022).eng.1cd', 'index': 2}, page_content=\"hawaii.how can he be like this?how could his nuna live in hawaii?i thought that we'd end up having a small wedding in hawaii with wung.you really never know how things will turn out.life is\"), Document(metadata={'name': 'yumis.cells.s02.e13.episode.2.13.(2022).eng.1cd', 'index': 2}, page_content=\"never know how things will turn out.life is mysterious.when she's sick, she gets twice as touched and twice as annoyed.she also fantasizes twice as much.yumi, you're awake?your fever went down.how do\"), Document(metadata={'name': 'yumis.cells.s02.e13.episode.2.13.(2022).eng.1cd', 'index': 2}, page_content=\"you're awake?your fever went down.how do you feel?i think i'm okay now.ba bi, hurry up and go.i'm not going to go.you have to go to work tomorrow.i'll just sleep here.you seem like you've gotten a\"), Document(metadata={'name': 'yumis.cells.s02.e13.episode.2.13.(2022).eng.1cd', 'index': 2}, page_content=\"just sleep here.you seem like you've gotten a little better, so i'll go buy some beer.a soccer game is on soon.i'll have some beer before i go to bed.i'll be back.no, don't go.i can't?go, go.ba bi's\"), Document(metadata={'name': 'yumis.cells.s02.e13.episode.2.13.(2022).eng.1cd', 'index': 2}, page_content=\"be back.no, don't go.i can't?go, go.ba bi's street food.his sweetness and his cooking skills must be hereditary.totally!i should wash my face.what's with this look?did he leave his phone?yu da eun\"), Document(metadata={'name': 'yumis.cells.s02.e13.episode.2.13.(2022).eng.1cd', 'index': 2}, page_content='with this look?did he leave his phone?yu da eun (intern)yu da eun (intern)missed call-yu da eunthe wedding invitation has arrived!episode 38: the wedding invitationeight months laterladies and'), Document(metadata={'name': 'yumis.cells.s02.e13.episode.2.13.(2022).eng.1cd', 'index': 2}, page_content='wedding invitationeight months laterladies and gentlemen, we are approacing incheon international airport.please keep the seat back and table inplace, and keep large electronic devicessuch as luggage'), Document(metadata={'name': 'yumis.cells.s02.e13.episode.2.13.(2022).eng.1cd', 'index': 2}, page_content=\"and keep large electronic devicessuch as luggage or laptops under the front seat or on the shelf again.thank you.ceo, you're tired, aren't you? you couldn'tget any rest as soon as you came here.i\"), Document(metadata={'name': 'yumis.cells.s02.e13.episode.2.13.(2022).eng.1cd', 'index': 2}, page_content=\"couldn'tget any rest as soon as you came here.i slept during the plane ride, so not really.miss seo yeon said she was bringingclothes for you to change into earlier.and this is your mail that came\"), Document(metadata={'name': 'yumis.cells.s02.e13.episode.2.13.(2022).eng.1cd', 'index': 2}, page_content='into earlier.and this is your mail that came while you were on the business trip.why is there so much?park yong seon, lee som yiyong seon, that punk, is getting married.seok ju is, too.are these guys'), Document(metadata={'name': 'yumis.cells.s02.e13.episode.2.13.(2022).eng.1cd', 'index': 2}, page_content='is getting married.seok ju is, too.are these guys all getting married in a row?why are they all wedding invitations?from: kim yumito: gu wungwhen you get married, send me a wedding invitation,'), Document(metadata={'name': 'yumis.cells.s02.e13.episode.2.13.(2022).eng.1cd', 'index': 2}, page_content=\"you get married, send me a wedding invitation, too.i'm not sure. i'll discuss it with him.alright, guys. let's hold hands.that day has finally come.you've prepared your heart, right?we got rid of all\"), Document(metadata={'name': 'yumis.cells.s02.e13.episode.2.13.(2022).eng.1cd', 'index': 2}, page_content='prepared your heart, right?we got rid of all the lingering feelings.we decided to calmly let yumi go.it is a wedding invitation.[invitation]seriously...[invitation]why is the wedding invitation so'), Document(metadata={'name': 'yumis.cells.s02.e13.episode.2.13.(2022).eng.1cd', 'index': 2}, page_content=\"is the wedding invitation so pretty?yumi probably picked it out, right?- i don't want to look at it.- i don't want to see it.- to think that her groom is yu ba bi!- damnit.special invitational speech\"), Document(metadata={'name': 'yumis.cells.s02.e13.episode.2.13.(2022).eng.1cd', 'index': 2}, page_content=\"is yu ba bi!- damnit.special invitational speech for startupexecutives - ku woong games ceo gu wungconvention centreceo, we've arrived.okay.that's right, let's look at it later.we'll ruin the speech\"), Document(metadata={'name': 'yumis.cells.s02.e13.episode.2.13.(2022).eng.1cd', 'index': 2}, page_content=\"let's look at it later.we'll ruin the speech for no reason.mr. ceo, you're not going to the company. you're going home, right?i'll go home and get some rest.please schedule the meeting after four\"), Document(metadata={'name': 'yumis.cells.s02.e13.episode.2.13.(2022).eng.1cd', 'index': 2}, page_content=\"some rest.please schedule the meeting after four o'clock.yes, sir.- please go to hannam-do.- yes, sir.this is yumi's neighborhood.it's our old neighborhood, too.that was when we had the least money,\"), Document(metadata={'name': 'yumis.cells.s02.e13.episode.2.13.(2022).eng.1cd', 'index': 2}, page_content=\"too.that was when we had the least money, but were the happiest.one moment. please stop the car.please take my luggage to my house andleave it there. i'll head straight to the company.where are you\"), Document(metadata={'name': 'yumis.cells.s02.e13.episode.2.13.(2022).eng.1cd', 'index': 2}, page_content=\"i'll head straight to the company.where are you going, ceo?there's somewhere i want to visit for a bit.then it would be best to go by car.when he would get off work, yumi would wait for him\"), Document(metadata={'name': 'yumis.cells.s02.e13.episode.2.13.(2022).eng.1cd', 'index': 2}, page_content=\"he would get off work, yumi would wait for him there.wung!come in!put it there.- put it down there.huh?isn't that sofa from yumi's place?you're right. that's yumi's bookcase.are they moving to ba\"), Document(metadata={'name': 'yumis.cells.s02.e13.episode.2.13.(2022).eng.1cd', 'index': 2}, page_content=\"that's yumi's bookcase.are they moving to ba bi's place?or to a new newlywed home?newlywed home?don't cry, love.we said we would smile when she gets married.stop!while we're here, let's say hi to\"), Document(metadata={'name': 'yumis.cells.s02.e13.episode.2.13.(2022).eng.1cd', 'index': 2}, page_content=\"married.stop!while we're here, let's say hi to yumi before we go.yes, let's tell her we look forward to seeing her in her wedding dress.yumi!yumi!it's the dining table that wung bought.the dining\"), Document(metadata={'name': 'yumis.cells.s02.e13.episode.2.13.(2022).eng.1cd', 'index': 2}, page_content=\"the dining table that wung bought.the dining table that he bought with borrowedmoney because he didn't have 150,000 won ( $114).we will take the dining table out now.sure, but where is the tenant?are\"), Document(metadata={'name': 'yumis.cells.s02.e13.episode.2.13.(2022).eng.1cd', 'index': 2}, page_content=\"table out now.sure, but where is the tenant?are you her husband?no, i'm not.i thought you were her husband.she said she had to stop by somewhere for a bit and left.please be careful.she's even taking\"), Document(metadata={'name': 'yumis.cells.s02.e13.episode.2.13.(2022).eng.1cd', 'index': 2}, page_content=\"bit and left.please be careful.she's even taking that dining table to the newlywed home?they're going to even eat at that dining table...he didn't buy it for that to happen...there you again! if\"), Document(metadata={'name': 'yumis.cells.s02.e13.episode.2.13.(2022).eng.1cd', 'index': 2}, page_content=\"buy it for that to happen...there you again! if you're going to be like this then let's just go.we're not going to see yumi.come on, let's just go. come on.- let's just go.- let's just go.yes, the\"), Document(metadata={'name': 'yumis.cells.s02.e13.episode.2.13.(2022).eng.1cd', 'index': 2}, page_content=\"come on.- let's just go.- let's just go.yes, the deposit went through. i verified it.thank you.- thank you.- no problem.- get home safely.- i will.wung!it was you.what are you doing here?i had a\"), Document(metadata={'name': 'yumis.cells.s02.e13.episode.2.13.(2022).eng.1cd', 'index': 2}, page_content=\"was you.what are you doing here?i had a lecture nearby, so i stopped by.i see.i'm here because of my house.congratulations.you know?of course, i know.so you heard. thanks.but i don't know if it was a\"), Document(metadata={'name': 'yumis.cells.s02.e13.episode.2.13.(2022).eng.1cd', 'index': 2}, page_content=\"you heard. thanks.but i don't know if it was a good idea. the loan was a lot.you took out the loan?of course, i would.is that necessary?i don't have enough money, so what else would i do?what the\"), Document(metadata={'name': 'yumis.cells.s02.e13.episode.2.13.(2022).eng.1cd', 'index': 2}, page_content=\"enough money, so what else would i do?what the heck, yu ba bi? you're makingyumi take out a loan and getting married?he has no conscience. if they're going to get marriedlike that then wung would\"), Document(metadata={'name': 'yumis.cells.s02.e13.episode.2.13.(2022).eng.1cd', 'index': 2}, page_content=\"going to get marriedlike that then wung would have married her by now!that's right.guys, please stop!i mean... well...it's not my business.i will pay back the debt slowly.exactly, why are you paying\"), Document(metadata={'name': 'yumis.cells.s02.e13.episode.2.13.(2022).eng.1cd', 'index': 2}, page_content=\"back the debt slowly.exactly, why are you paying that debtyes, anyway, congratulations.that's not important anyway.still, i'm excited.as long as you are happy.you got the wedding invitation, right? i\"), Document(metadata={'name': 'yumis.cells.s02.e13.episode.2.13.(2022).eng.1cd', 'index': 2}, page_content=\"happy.you got the wedding invitation, right? i sent it.yeah.are you going to come to the wedding?of course.i'm glad.why? did you think i wouldn't go?possibly. i thought it was a 50/50 chance.it's too\"), Document(metadata={'name': 'yumis.cells.s02.e13.episode.2.13.(2022).eng.1cd', 'index': 2}, page_content=\"i thought it was a 50/50 chance.it's too bad. it would have been nice to grab a coffee,but i have to get back. they're moving out my things right now.head back. i'm also leaving now.a taxi is\"), Document(metadata={'name': 'yumis.cells.s02.e13.episode.2.13.(2022).eng.1cd', 'index': 2}, page_content=\"now.head back. i'm also leaving now.a taxi is coming.- i'll get going.- okay.i'll see you at the wedding.okay.i will look forward to seeing you in a wedding dress.what?i think you will look really\"), Document(metadata={'name': 'yumis.cells.s02.e13.episode.2.13.(2022).eng.1cd', 'index': 2}, page_content=\"a wedding dress.what?i think you will look really beautiful.bye.what? me?hold on. wasn't there something weirdabout the end of that conversation just now?it was weird. something was off.the wedding\"), Document(metadata={'name': 'yumis.cells.s02.e13.episode.2.13.(2022).eng.1cd', 'index': 2}, page_content=\"now?it was weird. something was off.the wedding invitation! check the wedding invitation!what the! what's this?the bride isn't kim yumi![bride - kang yi da]kang yi da?![groom - ahn dae yong]yumi's\"), Document(metadata={'name': 'yumis.cells.s02.e13.episode.2.13.(2022).eng.1cd', 'index': 2}, page_content=\"yi da]kang yi da?![groom - ahn dae yong]yumi's friend, kang yi da?yi da was debating on whether she should give you a wedding invitation.you told her to send her an invitation whenever she gets\"), Document(metadata={'name': 'yumis.cells.s02.e13.episode.2.13.(2022).eng.1cd', 'index': 2}, page_content='her to send her an invitation whenever she gets married.sir, please go backwards!sure.- excuse me?!- please drive backwards. backwards!right now?i said go back! go back!so i am sending one on her'), Document(metadata={'name': 'yumis.cells.s02.e13.episode.2.13.(2022).eng.1cd', 'index': 2}, page_content=\"said go back! go back!so i am sending one on her behalf.she won't be hurt if you don't come. yumi.hurry! hurry! hurry!wung!it's yi da's wedding.what?- the wedding invitation. it's yi da's wedding\"), Document(metadata={'name': 'yumis.cells.s02.e13.episode.2.13.(2022).eng.1cd', 'index': 2}, page_content=\"the wedding invitation. it's yi da's wedding invitation.- yeah.then what we're you just talking about?you weren't talking about coming to yi da's wedding?why are you moving?- moving?- you moved out\"), Document(metadata={'name': 'yumis.cells.s02.e13.episode.2.13.(2022).eng.1cd', 'index': 2}, page_content='are you moving?- moving?- you moved out all of your things.i saw them putting things into the moving van.i bought my apartment.i thought it was a waste to keep paying rent,so i took my deposit and'), Document(metadata={'name': 'yumis.cells.s02.e13.episode.2.13.(2022).eng.1cd', 'index': 2}, page_content=\"to keep paying rent,so i took my deposit and took out a loan to buythe place even though it was a little impractical.since i bought it, i'm going to put in new wallpaper and flooring.that's why i'm\"), Document(metadata={'name': 'yumis.cells.s02.e13.episode.2.13.(2022).eng.1cd', 'index': 2}, page_content=\"put in new wallpaper and flooring.that's why i'm moving everything to storage.you weren't congratulating me on buying a place?no.then what were you talking about earlier?- i thought you knew.- what\"), Document(metadata={'name': 'yumis.cells.s02.e13.episode.2.13.(2022).eng.1cd', 'index': 2}, page_content=\"talking about earlier?- i thought you knew.- what about you?me?your wedding?are you not getting married? it's been a while.oh...i'm not.then when are you going to?we broke up.i guess you didn't know.\"), Document(metadata={'name': 'yumis.cells.s02.e13.episode.2.13.(2022).eng.1cd', 'index': 2}, page_content=\"you going to?we broke up.i guess you didn't know. i thought you heard.i i didn't know.that's what happened.i see.i didn't know, sorry.it's fine.then i'll see you at yi da's wedding.all right.i'll get\"), Document(metadata={'name': 'yumis.cells.s02.e13.episode.2.13.(2022).eng.1cd', 'index': 2}, page_content=\"see you at yi da's wedding.all right.i'll get going.okay.sir, let's go, please.but why...wung probably wanted to ask why we broke up.goodbye, ajeossi.eight months ago.goodbye! happy birthday to you\"), Document(metadata={'name': 'yumis.cells.s02.e13.episode.2.13.(2022).eng.1cd', 'index': 2}, page_content=\"months ago.goodbye! happy birthday to you  happy birthday to you that nightthat's enough...when i was drunk on my birthday. dear da eun the moment i wasn't thinking right, i called him just\"), Document(metadata={'name': 'yumis.cells.s02.e13.episode.2.13.(2022).eng.1cd', 'index': 2}, page_content=\"moment i wasn't thinking right, i called him just once.calling team leader yu ba biyu da eun (intern)that's a relief he didn't answer.team leader yu ba bithat's a relief.i didn't know this was\"), Document(metadata={'name': 'yumis.cells.s02.e13.episode.2.13.(2022).eng.1cd', 'index': 2}, page_content=\"yu ba bithat's a relief.i didn't know this was love.my feelings not being what i want them to be.does she want to eat tteokbokki?yumi, are you sleeping?missed call from yu da eun (intern)yu da eun\"), Document(metadata={'name': 'yumis.cells.s02.e13.episode.2.13.(2022).eng.1cd', 'index': 2}, page_content=\"call from yu da eun (intern)yu da eun (intern)delete contactthe contact has been deleted.how are you feeling?i'm fine. i think i'm all better.then let's eat breakfast.okay.did you reply?huh?to your\"), Document(metadata={'name': 'yumis.cells.s02.e13.episode.2.13.(2022).eng.1cd', 'index': 2}, page_content=\"eat breakfast.okay.did you reply?huh?to your father. did you reply back?that the tteokbokki arrived well.oh... no.i will have to do it. i will call him later.you don't have to. i will tell him\"), Document(metadata={'name': 'yumis.cells.s02.e13.episode.2.13.(2022).eng.1cd', 'index': 2}, page_content=\"call him later.you don't have to. i will tell him later.still, won't he like it more if i do it?of course, he would.the reason we broke upyu da eun (intern)is not because da eun called ba bi in the\"), Document(metadata={'name': 'yumis.cells.s02.e13.episode.2.13.(2022).eng.1cd', 'index': 2}, page_content=\"(intern)is not because da eun called ba bi in the middle of the nightis also not because ba bi still has da eun's number in his contacts.the reason we broke up isbecause even though i saw thati was\"), Document(metadata={'name': 'yumis.cells.s02.e13.episode.2.13.(2022).eng.1cd', 'index': 2}, page_content='we broke up isbecause even though i saw thati was calm.how could someone in love be calm? oh love, will this love  which fills a small fist  if it can make you happy  become used to even being alone?'), Document(metadata={'name': 'yumis.cells.s02.e13.episode.2.13.(2022).eng.1cd', 'index': 2}, page_content=\"make you happy  become used to even being alone?  that's fine with me yumi's cells previewi'm sorry. of all things when the song coming out of the radio you're coming when you finish with your\"), Document(metadata={'name': 'yumis.cells.s02.e13.episode.2.13.(2022).eng.1cd', 'index': 2}, page_content=\"the radio you're coming when you finish with your deadline, right?what should we do?love!their meeting has to be as if it's fate. as if it's a miracle.yumi. takes me back to the the time  which\"), Document(metadata={'name': 'yumis.cells.s02.e13.episode.2.13.(2022).eng.1cd', 'index': 2}, page_content='takes me back to the the time  which shined most beautifully')]\n"
     ]
    }
   ],
   "source": [
    "print(chunks)"
   ]
  },
  {
   "cell_type": "code",
   "execution_count": 48,
   "metadata": {},
   "outputs": [],
   "source": [
    "# print(data)"
   ]
  },
  {
   "cell_type": "code",
   "execution_count": null,
   "metadata": {},
   "outputs": [],
   "source": [
    "# data = df['decoded_content'][0]\n",
    "# doc_contents = [doc.page_content for doc in data]\n",
    "# meta_datas = [doc.metadata for doc in data]\n",
    "\n",
    "# print(doc_contents)\n",
    "# print(meta_datas)"
   ]
  },
  {
   "cell_type": "code",
   "execution_count": 50,
   "metadata": {},
   "outputs": [],
   "source": [
    "# print(doc_contents)\n",
    "# print(meta_datas)"
   ]
  },
  {
   "cell_type": "code",
   "execution_count": 51,
   "metadata": {},
   "outputs": [],
   "source": [
    "# from langchain_text_splitters import RecursiveCharacterTextSplitter\n",
    "\n",
    "# text_splitter = RecursiveCharacterTextSplitter(\n",
    "#     separators=[\"\\n\\n\", \"\\n\", \" \", \"\"],\n",
    "#     chunk_size=200,\n",
    "#     chunk_overlap=50,\n",
    "# )\n",
    "\n",
    "# chunks = text_splitter.create_documents(doc_contents, meta_datas)\n"
   ]
  },
  {
   "cell_type": "code",
   "execution_count": 52,
   "metadata": {},
   "outputs": [],
   "source": [
    "# print(\"Type of variable:\", type(chunks))\n",
    "# print()\n",
    "# print(\"Type of each object inside the list:\", type(chunks[0]))\n",
    "# print()\n",
    "# print(\"Total number of documents inside list:\", len(chunks))\n",
    "# print()\n",
    "# print(\"* Content of first chunk:\", chunks[0])\n",
    "# print()\n",
    "# print(\"* Content of second chunk:\", chunks[1])"
   ]
  },
  {
   "cell_type": "code",
   "execution_count": 53,
   "metadata": {},
   "outputs": [],
   "source": [
    "#!pip install langchain-google-genai"
   ]
  },
  {
   "cell_type": "code",
   "execution_count": 54,
   "metadata": {},
   "outputs": [],
   "source": [
    "# from langchain_google_genai import GoogleGenerativeAIEmbeddings\n"
   ]
  },
  {
   "cell_type": "code",
   "execution_count": 55,
   "metadata": {},
   "outputs": [],
   "source": [
    "# f = open(\"E:\\Learnbay Course\\Gen AI\\keys\\GenAI_Learning_GoogleAI_1_Secret_Key.txt\")\n",
    "\n",
    "# GOOGLE_API_KEY = f.read()\n",
    "# print(GOOGLE_API_KEY)\n",
    "\n",
    "# import getpass\n",
    "# import os\n",
    "\n",
    "# if \"GOOGLE_API_KEY\" not in os.environ:\n",
    "#     os.environ[\"GOOGLE_API_KEY\"] = getpass.getpass(\"Provide your Google API key here\")\n",
    "\n",
    "\n",
    "# embeddings_model = GoogleGenerativeAIEmbeddings(model=\"models/embedding-001\")\n",
    "# # embeddings_model = GoogleGenerativeAIEmbeddings(model=\"models/embedding-001\")\n",
    "# embedded_docs = embeddings_model.embed_documents([chunk.page_content for chunk in chunks])\n"
   ]
  },
  {
   "cell_type": "code",
   "execution_count": 56,
   "metadata": {},
   "outputs": [
    {
     "name": "stdout",
     "output_type": "stream",
     "text": [
      "cuda\n"
     ]
    }
   ],
   "source": [
    "import torch\n",
    "device = \"cuda\" if torch.cuda.is_available() else \"cpu\"\n",
    "print(device)"
   ]
  },
  {
   "cell_type": "code",
   "execution_count": 57,
   "metadata": {},
   "outputs": [],
   "source": [
    "from joblib import Parallel, delayed\n",
    "from sentence_transformers import SentenceTransformer\n",
    "\n",
    "model_name = 'sentence-transformers/all-MiniLM-L6-v2' #all-MiniLM-L6-v2\n",
    "model = SentenceTransformer(model_name, device=device)"
   ]
  },
  {
   "cell_type": "code",
   "execution_count": 58,
   "metadata": {},
   "outputs": [],
   "source": [
    "# embedded_docs_1 = model.encode([chunk.page_content for chunk in chunks]).tolist()\n",
    "# print(\"Type of variable:\", type(embedded_docs_1))\n",
    "\n",
    "# print(\"Number of embeddings:\", len(embedded_docs_1))\n",
    "\n",
    "# print(\"Dimensionality of each embedding:\", len(embedded_docs_1[0]))\n"
   ]
  },
  {
   "cell_type": "code",
   "execution_count": 59,
   "metadata": {},
   "outputs": [],
   "source": [
    "# print(embedded_docs_1)"
   ]
  },
  {
   "cell_type": "code",
   "execution_count": 60,
   "metadata": {},
   "outputs": [],
   "source": [
    "# embedded_docs_2 = Parallel(n_jobs=-1)(delayed(embedding_gen)(chunk.page_content) for chunk in chunks)"
   ]
  },
  {
   "cell_type": "code",
   "execution_count": 61,
   "metadata": {},
   "outputs": [],
   "source": [
    "# def embedding_gen(data):\n",
    "#   return model.encode(data).tolist()"
   ]
  },
  {
   "cell_type": "code",
   "execution_count": 62,
   "metadata": {},
   "outputs": [],
   "source": [
    "# embedded_docs = Parallel(n_jobs=-1)(delayed(embedding_gen)(chunk.page_content) for chunk in chunks)"
   ]
  },
  {
   "cell_type": "code",
   "execution_count": 63,
   "metadata": {},
   "outputs": [],
   "source": [
    "# print(\"Type of variable:\", type(embedded_docs))\n",
    "\n",
    "# print(\"Number of embeddings:\", len(embedded_docs))\n",
    "\n",
    "# print(\"Dimensionality of each embedding:\", len(embedded_docs[0]))\n"
   ]
  },
  {
   "cell_type": "code",
   "execution_count": 64,
   "metadata": {},
   "outputs": [],
   "source": [
    "# from langchain.vectorstores import Chroma\n"
   ]
  },
  {
   "cell_type": "code",
   "execution_count": 65,
   "metadata": {},
   "outputs": [],
   "source": [
    "# db = Chroma(collection_name=\"vector_database\", \n",
    "#             embedding_function=embedded_docs, \n",
    "#             persist_directory=\"./chroma_db_\")"
   ]
  },
  {
   "cell_type": "code",
   "execution_count": 66,
   "metadata": {},
   "outputs": [],
   "source": [
    "# print(len(db.get()[\"ids\"]))"
   ]
  },
  {
   "cell_type": "code",
   "execution_count": 67,
   "metadata": {},
   "outputs": [],
   "source": [
    "# db.get()"
   ]
  },
  {
   "cell_type": "code",
   "execution_count": 68,
   "metadata": {},
   "outputs": [],
   "source": [
    "import chromadb"
   ]
  },
  {
   "cell_type": "code",
   "execution_count": 69,
   "metadata": {},
   "outputs": [],
   "source": [
    "client = chromadb.PersistentClient(path=\"/root/Enhanced_Search_Engine_For_Audio_Subtitles/research/vector_db/db_embedding\")"
   ]
  },
  {
   "cell_type": "code",
   "execution_count": 71,
   "metadata": {},
   "outputs": [],
   "source": [
    "# for index, row in df1.iterrows():\n",
    "#     print(f'index: {index}')\n",
    "#     print(f'row: {row}')\n",
    "#     document_id = str(row['index'])  # Use a unique identifier for each document\n",
    "#     print(document_id)\n",
    "#     document_text = row['decoded_content']\n",
    "#     print(document_text)\n",
    "#     # document_embedding = corpus_embeddings[index % len(corpus_embeddings)]  # Assuming embeddings are aligned with the rows\n",
    "\n",
    "#     # ------------------------------------------------------------------------\n",
    "#     print(f'length embed docs: {len(embedded_docs_1)}')\n",
    "#     chunk_index = index % len(embedded_docs_1)\n",
    "#     print(f'chunk_index: {chunk_index}')\n",
    "#     document_embedding = embedded_docs_1[chunk_index]\n",
    "#     print(f'length of document_embedding: {len(document_embedding)}')\n",
    "#     #--------------------------------------------------------------------------\n",
    "#     metadata = {'movie_name': row['name']}\n",
    "\n",
    "#     # # Insert document into ChromaDB collection\n",
    "#     collection.add(ids=document_id, documents=[document_text], embeddings=[document_embedding], metadatas=[metadata])\n",
    "\n",
    "\n",
    "# print(\"Insertion into ChromaDB collection complete\")"
   ]
  },
  {
   "cell_type": "code",
   "execution_count": 72,
   "metadata": {},
   "outputs": [],
   "source": [
    "# print(len(collection.get()[\"ids\"]))"
   ]
  },
  {
   "cell_type": "code",
   "execution_count": 73,
   "metadata": {},
   "outputs": [],
   "source": [
    "# collection.get()[\"metadatas\"]"
   ]
  },
  {
   "cell_type": "code",
   "execution_count": 74,
   "metadata": {},
   "outputs": [],
   "source": [
    "# from langchain.vectorstores import Chroma"
   ]
  },
  {
   "cell_type": "code",
   "execution_count": 75,
   "metadata": {},
   "outputs": [],
   "source": [
    "# db = Chroma(collection_name=\"eng_subtitles\", \n",
    "#             embedding_function=model, \n",
    "#             persist_directory=\"./chroma_db_\")"
   ]
  },
  {
   "cell_type": "code",
   "execution_count": null,
   "metadata": {},
   "outputs": [],
   "source": []
  },
  {
   "cell_type": "code",
   "execution_count": 76,
   "metadata": {},
   "outputs": [],
   "source": [
    "# print(\"Type of output:\", type(relevant_chunks))\n",
    "# print()\n",
    "# print(\"Type of each item in output:\", type(relevant_chunks['metadatas']))\n",
    "# print()\n",
    "# print(\"Number of output docs:\", len(relevant_chunks))\n",
    "# print()\n",
    "# print(\"****PRINTING THE DOCUMENT:\\n\", relevant_chunks['metadatas'])\n",
    "# print()\n",
    "# print(\"****PRINTING THE Relevant Chunks:\\n\", relevant_chunks)"
   ]
  },
  {
   "cell_type": "code",
   "execution_count": 77,
   "metadata": {},
   "outputs": [],
   "source": [
    "# relevant_chunks"
   ]
  },
  {
   "cell_type": "code",
   "execution_count": 78,
   "metadata": {},
   "outputs": [],
   "source": [
    "# relevant_chunks"
   ]
  },
  {
   "cell_type": "code",
   "execution_count": 79,
   "metadata": {},
   "outputs": [],
   "source": [
    "# df_0 = pd.read_pickle(\"/root/Enhanced_Search_Engine_For_Audio_Subtitles/research/dataframe_pickle_files/df_0.pkl\")\n",
    "# df_1 = pd.read_pickle(\"/root/Enhanced_Search_Engine_For_Audio_Subtitles/research/dataframe_pickle_files/df_1.pkl\")\n",
    "# df_2 = pd.read_pickle(\"/root/Enhanced_Search_Engine_For_Audio_Subtitles/research/dataframe_pickle_files/df_2.pkl\")\n",
    "# df_3 = pd.read_pickle(\"/root/Enhanced_Search_Engine_For_Audio_Subtitles/research/dataframe_pickle_files/df_3.pkl\")\n",
    "# df_4 = pd.read_pickle(\"/root/Enhanced_Search_Engine_For_Audio_Subtitles/research/dataframe_pickle_files/df_4.pkl\")\n",
    "# df_5 = pd.read_pickle(\"/root/Enhanced_Search_Engine_For_Audio_Subtitles/research/dataframe_pickle_files/df_5.pkl\")\n",
    "# df_6 = pd.read_pickle(\"/root/Enhanced_Search_Engine_For_Audio_Subtitles/research/dataframe_pickle_files/df_6.pkl\")\n",
    "# df_7 = pd.read_pickle(\"/root/Enhanced_Search_Engine_For_Audio_Subtitles/research/dataframe_pickle_files/df_7.pkl\")\n",
    "# df_8 = pd.read_pickle(\"/root/Enhanced_Search_Engine_For_Audio_Subtitles/research/dataframe_pickle_files/df_8.pkl\")"
   ]
  },
  {
   "cell_type": "code",
   "execution_count": null,
   "metadata": {},
   "outputs": [
    {
     "name": "stdout",
     "output_type": "stream",
     "text": [
      "********* Started document chunker for 0 dataframe *********\n",
      "********* Finished Document Chunking for 0 dataframe *********\n",
      "********* Started embedding the document chunks for 0 dataframe *********\n",
      "********* Finished embedding the document chunks for 0 dataframe *********\n",
      "************************************************************************************************************************************************************************************\n",
      "********* Started storing the embeddings to chroma db for 0 dataframe *********\n",
      "Insertion into ChromaDB collection complete for 0 dataframe\n",
      "********* Started document chunker for 1 dataframe *********\n",
      "********* Finished Document Chunking for 1 dataframe *********\n",
      "********* Started embedding the document chunks for 1 dataframe *********\n",
      "********* Finished embedding the document chunks for 1 dataframe *********\n",
      "************************************************************************************************************************************************************************************\n",
      "********* Started storing the embeddings to chroma db for 1 dataframe *********\n",
      "Insertion into ChromaDB collection complete for 1 dataframe\n",
      "********* Started document chunker for 2 dataframe *********\n",
      "********* Finished Document Chunking for 2 dataframe *********\n",
      "********* Started embedding the document chunks for 2 dataframe *********\n",
      "********* Finished embedding the document chunks for 2 dataframe *********\n",
      "************************************************************************************************************************************************************************************\n",
      "********* Started storing the embeddings to chroma db for 2 dataframe *********\n",
      "Insertion into ChromaDB collection complete for 2 dataframe\n",
      "********* Started document chunker for 3 dataframe *********\n",
      "********* Finished Document Chunking for 3 dataframe *********\n",
      "********* Started embedding the document chunks for 3 dataframe *********\n",
      "********* Finished embedding the document chunks for 3 dataframe *********\n",
      "************************************************************************************************************************************************************************************\n",
      "********* Started storing the embeddings to chroma db for 3 dataframe *********\n",
      "Insertion into ChromaDB collection complete for 3 dataframe\n",
      "********* Started document chunker for 4 dataframe *********\n",
      "********* Finished Document Chunking for 4 dataframe *********\n",
      "********* Started embedding the document chunks for 4 dataframe *********\n",
      "********* Finished embedding the document chunks for 4 dataframe *********\n",
      "************************************************************************************************************************************************************************************\n",
      "********* Started storing the embeddings to chroma db for 4 dataframe *********\n",
      "Insertion into ChromaDB collection complete for 4 dataframe\n",
      "********* Started document chunker for 5 dataframe *********\n",
      "********* Finished Document Chunking for 5 dataframe *********\n",
      "********* Started embedding the document chunks for 5 dataframe *********\n",
      "********* Finished embedding the document chunks for 5 dataframe *********\n",
      "************************************************************************************************************************************************************************************\n",
      "********* Started storing the embeddings to chroma db for 5 dataframe *********\n",
      "Insertion into ChromaDB collection complete for 5 dataframe\n",
      "********* Started document chunker for 6 dataframe *********\n",
      "********* Finished Document Chunking for 6 dataframe *********\n",
      "********* Started embedding the document chunks for 6 dataframe *********\n",
      "********* Finished embedding the document chunks for 6 dataframe *********\n",
      "************************************************************************************************************************************************************************************\n",
      "********* Started storing the embeddings to chroma db for 6 dataframe *********\n",
      "Insertion into ChromaDB collection complete for 6 dataframe\n",
      "********* Started document chunker for 7 dataframe *********\n",
      "********* Finished Document Chunking for 7 dataframe *********\n",
      "********* Started embedding the document chunks for 7 dataframe *********\n",
      "********* Finished embedding the document chunks for 7 dataframe *********\n",
      "************************************************************************************************************************************************************************************\n",
      "********* Started storing the embeddings to chroma db for 7 dataframe *********\n",
      "Insertion into ChromaDB collection complete for 7 dataframe\n",
      "********* Started document chunker for 8 dataframe *********\n",
      "********* Finished Document Chunking for 8 dataframe *********\n",
      "********* Started embedding the document chunks for 8 dataframe *********\n",
      "********* Finished embedding the document chunks for 8 dataframe *********\n",
      "************************************************************************************************************************************************************************************\n",
      "********* Started storing the embeddings to chroma db for 8 dataframe *********\n",
      "Insertion into ChromaDB collection complete for 8 dataframe\n",
      "********* Started document chunker for 9 dataframe *********\n",
      "********* Finished Document Chunking for 9 dataframe *********\n",
      "********* Started embedding the document chunks for 9 dataframe *********\n",
      "********* Finished embedding the document chunks for 9 dataframe *********\n",
      "************************************************************************************************************************************************************************************\n",
      "********* Started storing the embeddings to chroma db for 9 dataframe *********\n",
      "Insertion into ChromaDB collection complete for 9 dataframe\n",
      "********* Started document chunker for 10 dataframe *********\n",
      "********* Finished Document Chunking for 10 dataframe *********\n",
      "********* Started embedding the document chunks for 10 dataframe *********\n",
      "********* Finished embedding the document chunks for 10 dataframe *********\n",
      "************************************************************************************************************************************************************************************\n",
      "********* Started storing the embeddings to chroma db for 10 dataframe *********\n",
      "Insertion into ChromaDB collection complete for 10 dataframe\n",
      "********* Started document chunker for 11 dataframe *********\n",
      "********* Finished Document Chunking for 11 dataframe *********\n",
      "********* Started embedding the document chunks for 11 dataframe *********\n",
      "********* Finished embedding the document chunks for 11 dataframe *********\n",
      "************************************************************************************************************************************************************************************\n",
      "********* Started storing the embeddings to chroma db for 11 dataframe *********\n",
      "Insertion into ChromaDB collection complete for 11 dataframe\n",
      "********* Started document chunker for 12 dataframe *********\n",
      "********* Finished Document Chunking for 12 dataframe *********\n",
      "********* Started embedding the document chunks for 12 dataframe *********\n",
      "********* Finished embedding the document chunks for 12 dataframe *********\n",
      "************************************************************************************************************************************************************************************\n",
      "********* Started storing the embeddings to chroma db for 12 dataframe *********\n",
      "Insertion into ChromaDB collection complete for 12 dataframe\n",
      "********* Started document chunker for 13 dataframe *********\n",
      "********* Finished Document Chunking for 13 dataframe *********\n",
      "********* Started embedding the document chunks for 13 dataframe *********\n",
      "********* Finished embedding the document chunks for 13 dataframe *********\n",
      "************************************************************************************************************************************************************************************\n",
      "********* Started storing the embeddings to chroma db for 13 dataframe *********\n",
      "Insertion into ChromaDB collection complete for 13 dataframe\n",
      "********* Started document chunker for 14 dataframe *********\n",
      "********* Finished Document Chunking for 14 dataframe *********\n",
      "********* Started embedding the document chunks for 14 dataframe *********\n",
      "********* Finished embedding the document chunks for 14 dataframe *********\n",
      "************************************************************************************************************************************************************************************\n",
      "********* Started storing the embeddings to chroma db for 14 dataframe *********\n",
      "Insertion into ChromaDB collection complete for 14 dataframe\n",
      "********* Started document chunker for 15 dataframe *********\n",
      "********* Finished Document Chunking for 15 dataframe *********\n",
      "********* Started embedding the document chunks for 15 dataframe *********\n",
      "********* Finished embedding the document chunks for 15 dataframe *********\n",
      "************************************************************************************************************************************************************************************\n",
      "********* Started storing the embeddings to chroma db for 15 dataframe *********\n",
      "Insertion into ChromaDB collection complete for 15 dataframe\n",
      "********* Started document chunker for 16 dataframe *********\n",
      "********* Finished Document Chunking for 16 dataframe *********\n",
      "********* Started embedding the document chunks for 16 dataframe *********\n",
      "********* Finished embedding the document chunks for 16 dataframe *********\n",
      "************************************************************************************************************************************************************************************\n",
      "********* Started storing the embeddings to chroma db for 16 dataframe *********\n",
      "Insertion into ChromaDB collection complete for 16 dataframe\n",
      "********* Started document chunker for 17 dataframe *********\n",
      "********* Finished Document Chunking for 17 dataframe *********\n",
      "********* Started embedding the document chunks for 17 dataframe *********\n",
      "********* Finished embedding the document chunks for 17 dataframe *********\n",
      "************************************************************************************************************************************************************************************\n",
      "********* Started storing the embeddings to chroma db for 17 dataframe *********\n",
      "Insertion into ChromaDB collection complete for 17 dataframe\n",
      "********* Started document chunker for 18 dataframe *********\n",
      "********* Finished Document Chunking for 18 dataframe *********\n",
      "********* Started embedding the document chunks for 18 dataframe *********\n",
      "********* Finished embedding the document chunks for 18 dataframe *********\n",
      "************************************************************************************************************************************************************************************\n",
      "********* Started storing the embeddings to chroma db for 18 dataframe *********\n",
      "Insertion into ChromaDB collection complete for 18 dataframe\n",
      "********* Started document chunker for 19 dataframe *********\n",
      "********* Finished Document Chunking for 19 dataframe *********\n",
      "********* Started embedding the document chunks for 19 dataframe *********\n",
      "********* Finished embedding the document chunks for 19 dataframe *********\n",
      "************************************************************************************************************************************************************************************\n",
      "********* Started storing the embeddings to chroma db for 19 dataframe *********\n",
      "Insertion into ChromaDB collection complete for 19 dataframe\n",
      "********* Started document chunker for 20 dataframe *********\n",
      "********* Finished Document Chunking for 20 dataframe *********\n",
      "********* Started embedding the document chunks for 20 dataframe *********\n",
      "********* Finished embedding the document chunks for 20 dataframe *********\n",
      "************************************************************************************************************************************************************************************\n",
      "********* Started storing the embeddings to chroma db for 20 dataframe *********\n",
      "Insertion into ChromaDB collection complete for 20 dataframe\n",
      "********* Started document chunker for 21 dataframe *********\n",
      "********* Finished Document Chunking for 21 dataframe *********\n",
      "********* Started embedding the document chunks for 21 dataframe *********\n",
      "********* Finished embedding the document chunks for 21 dataframe *********\n",
      "************************************************************************************************************************************************************************************\n",
      "********* Started storing the embeddings to chroma db for 21 dataframe *********\n",
      "Insertion into ChromaDB collection complete for 21 dataframe\n",
      "********* Started document chunker for 22 dataframe *********\n",
      "********* Finished Document Chunking for 22 dataframe *********\n",
      "********* Started embedding the document chunks for 22 dataframe *********\n",
      "********* Finished embedding the document chunks for 22 dataframe *********\n",
      "************************************************************************************************************************************************************************************\n",
      "********* Started storing the embeddings to chroma db for 22 dataframe *********\n",
      "Insertion into ChromaDB collection complete for 22 dataframe\n",
      "********* Started document chunker for 23 dataframe *********\n",
      "********* Finished Document Chunking for 23 dataframe *********\n",
      "********* Started embedding the document chunks for 23 dataframe *********\n",
      "********* Finished embedding the document chunks for 23 dataframe *********\n",
      "************************************************************************************************************************************************************************************\n",
      "********* Started storing the embeddings to chroma db for 23 dataframe *********\n",
      "Insertion into ChromaDB collection complete for 23 dataframe\n",
      "********* Started document chunker for 24 dataframe *********\n",
      "********* Finished Document Chunking for 24 dataframe *********\n",
      "********* Started embedding the document chunks for 24 dataframe *********\n",
      "********* Finished embedding the document chunks for 24 dataframe *********\n",
      "************************************************************************************************************************************************************************************\n",
      "********* Started storing the embeddings to chroma db for 24 dataframe *********\n",
      "Insertion into ChromaDB collection complete for 24 dataframe\n",
      "********* Started document chunker for 25 dataframe *********\n",
      "********* Finished Document Chunking for 25 dataframe *********\n",
      "********* Started embedding the document chunks for 25 dataframe *********\n",
      "********* Finished embedding the document chunks for 25 dataframe *********\n",
      "************************************************************************************************************************************************************************************\n",
      "********* Started storing the embeddings to chroma db for 25 dataframe *********\n",
      "Insertion into ChromaDB collection complete for 25 dataframe\n",
      "********* Started document chunker for 26 dataframe *********\n",
      "********* Finished Document Chunking for 26 dataframe *********\n",
      "********* Started embedding the document chunks for 26 dataframe *********\n",
      "********* Finished embedding the document chunks for 26 dataframe *********\n",
      "************************************************************************************************************************************************************************************\n",
      "********* Started storing the embeddings to chroma db for 26 dataframe *********\n",
      "Insertion into ChromaDB collection complete for 26 dataframe\n",
      "********* Started document chunker for 27 dataframe *********\n",
      "********* Finished Document Chunking for 27 dataframe *********\n",
      "********* Started embedding the document chunks for 27 dataframe *********\n",
      "********* Finished embedding the document chunks for 27 dataframe *********\n",
      "************************************************************************************************************************************************************************************\n",
      "********* Started storing the embeddings to chroma db for 27 dataframe *********\n",
      "Insertion into ChromaDB collection complete for 27 dataframe\n",
      "********* Started document chunker for 28 dataframe *********\n",
      "********* Finished Document Chunking for 28 dataframe *********\n",
      "********* Started embedding the document chunks for 28 dataframe *********\n",
      "********* Finished embedding the document chunks for 28 dataframe *********\n",
      "************************************************************************************************************************************************************************************\n",
      "********* Started storing the embeddings to chroma db for 28 dataframe *********\n",
      "Insertion into ChromaDB collection complete for 28 dataframe\n",
      "********* Started document chunker for 29 dataframe *********\n",
      "********* Finished Document Chunking for 29 dataframe *********\n",
      "********* Started embedding the document chunks for 29 dataframe *********\n",
      "********* Finished embedding the document chunks for 29 dataframe *********\n",
      "************************************************************************************************************************************************************************************\n",
      "********* Started storing the embeddings to chroma db for 29 dataframe *********\n",
      "Insertion into ChromaDB collection complete for 29 dataframe\n",
      "********* Started document chunker for 30 dataframe *********\n",
      "********* Finished Document Chunking for 30 dataframe *********\n",
      "********* Started embedding the document chunks for 30 dataframe *********\n",
      "********* Finished embedding the document chunks for 30 dataframe *********\n",
      "************************************************************************************************************************************************************************************\n",
      "********* Started storing the embeddings to chroma db for 30 dataframe *********\n",
      "Insertion into ChromaDB collection complete for 30 dataframe\n",
      "********* Started document chunker for 31 dataframe *********\n",
      "********* Finished Document Chunking for 31 dataframe *********\n",
      "********* Started embedding the document chunks for 31 dataframe *********\n",
      "********* Finished embedding the document chunks for 31 dataframe *********\n",
      "************************************************************************************************************************************************************************************\n",
      "********* Started storing the embeddings to chroma db for 31 dataframe *********\n",
      "Insertion into ChromaDB collection complete for 31 dataframe\n",
      "********* Started document chunker for 32 dataframe *********\n",
      "********* Finished Document Chunking for 32 dataframe *********\n",
      "********* Started embedding the document chunks for 32 dataframe *********\n",
      "********* Finished embedding the document chunks for 32 dataframe *********\n",
      "************************************************************************************************************************************************************************************\n",
      "********* Started storing the embeddings to chroma db for 32 dataframe *********\n",
      "Insertion into ChromaDB collection complete for 32 dataframe\n",
      "********* Started document chunker for 33 dataframe *********\n",
      "********* Finished Document Chunking for 33 dataframe *********\n",
      "********* Started embedding the document chunks for 33 dataframe *********\n",
      "********* Finished embedding the document chunks for 33 dataframe *********\n",
      "************************************************************************************************************************************************************************************\n",
      "********* Started storing the embeddings to chroma db for 33 dataframe *********\n",
      "Insertion into ChromaDB collection complete for 33 dataframe\n",
      "********* Started document chunker for 34 dataframe *********\n",
      "********* Finished Document Chunking for 34 dataframe *********\n",
      "********* Started embedding the document chunks for 34 dataframe *********\n",
      "********* Finished embedding the document chunks for 34 dataframe *********\n",
      "************************************************************************************************************************************************************************************\n",
      "********* Started storing the embeddings to chroma db for 34 dataframe *********\n",
      "Insertion into ChromaDB collection complete for 34 dataframe\n",
      "********* Started document chunker for 35 dataframe *********\n",
      "********* Finished Document Chunking for 35 dataframe *********\n",
      "********* Started embedding the document chunks for 35 dataframe *********\n",
      "********* Finished embedding the document chunks for 35 dataframe *********\n",
      "************************************************************************************************************************************************************************************\n",
      "********* Started storing the embeddings to chroma db for 35 dataframe *********\n",
      "Insertion into ChromaDB collection complete for 35 dataframe\n",
      "********* Started document chunker for 36 dataframe *********\n",
      "********* Finished Document Chunking for 36 dataframe *********\n",
      "********* Started embedding the document chunks for 36 dataframe *********\n",
      "********* Finished embedding the document chunks for 36 dataframe *********\n",
      "************************************************************************************************************************************************************************************\n",
      "********* Started storing the embeddings to chroma db for 36 dataframe *********\n",
      "Insertion into ChromaDB collection complete for 36 dataframe\n",
      "********* Started document chunker for 37 dataframe *********\n",
      "********* Finished Document Chunking for 37 dataframe *********\n",
      "********* Started embedding the document chunks for 37 dataframe *********\n",
      "********* Finished embedding the document chunks for 37 dataframe *********\n",
      "************************************************************************************************************************************************************************************\n",
      "********* Started storing the embeddings to chroma db for 37 dataframe *********\n",
      "Insertion into ChromaDB collection complete for 37 dataframe\n",
      "********* Started document chunker for 38 dataframe *********\n",
      "********* Finished Document Chunking for 38 dataframe *********\n",
      "********* Started embedding the document chunks for 38 dataframe *********\n",
      "********* Finished embedding the document chunks for 38 dataframe *********\n",
      "************************************************************************************************************************************************************************************\n",
      "********* Started storing the embeddings to chroma db for 38 dataframe *********\n",
      "Insertion into ChromaDB collection complete for 38 dataframe\n",
      "********* Started document chunker for 39 dataframe *********\n",
      "********* Finished Document Chunking for 39 dataframe *********\n",
      "********* Started embedding the document chunks for 39 dataframe *********\n",
      "********* Finished embedding the document chunks for 39 dataframe *********\n",
      "************************************************************************************************************************************************************************************\n",
      "********* Started storing the embeddings to chroma db for 39 dataframe *********\n",
      "Insertion into ChromaDB collection complete for 39 dataframe\n",
      "********* Started document chunker for 40 dataframe *********\n",
      "********* Finished Document Chunking for 40 dataframe *********\n",
      "********* Started embedding the document chunks for 40 dataframe *********\n",
      "********* Finished embedding the document chunks for 40 dataframe *********\n",
      "************************************************************************************************************************************************************************************\n",
      "********* Started storing the embeddings to chroma db for 40 dataframe *********\n",
      "Insertion into ChromaDB collection complete for 40 dataframe\n",
      "********* Started document chunker for 41 dataframe *********\n",
      "********* Finished Document Chunking for 41 dataframe *********\n",
      "********* Started embedding the document chunks for 41 dataframe *********\n",
      "********* Finished embedding the document chunks for 41 dataframe *********\n",
      "************************************************************************************************************************************************************************************\n",
      "********* Started storing the embeddings to chroma db for 41 dataframe *********\n",
      "Insertion into ChromaDB collection complete for 41 dataframe\n",
      "********* Started document chunker for 42 dataframe *********\n",
      "********* Finished Document Chunking for 42 dataframe *********\n",
      "********* Started embedding the document chunks for 42 dataframe *********\n",
      "********* Finished embedding the document chunks for 42 dataframe *********\n",
      "************************************************************************************************************************************************************************************\n",
      "********* Started storing the embeddings to chroma db for 42 dataframe *********\n",
      "Insertion into ChromaDB collection complete for 42 dataframe\n",
      "********* Started document chunker for 43 dataframe *********\n",
      "********* Finished Document Chunking for 43 dataframe *********\n",
      "********* Started embedding the document chunks for 43 dataframe *********\n",
      "********* Finished embedding the document chunks for 43 dataframe *********\n",
      "************************************************************************************************************************************************************************************\n",
      "********* Started storing the embeddings to chroma db for 43 dataframe *********\n",
      "Insertion into ChromaDB collection complete for 43 dataframe\n",
      "********* Started document chunker for 44 dataframe *********\n",
      "********* Finished Document Chunking for 44 dataframe *********\n",
      "********* Started embedding the document chunks for 44 dataframe *********\n",
      "********* Finished embedding the document chunks for 44 dataframe *********\n",
      "************************************************************************************************************************************************************************************\n",
      "********* Started storing the embeddings to chroma db for 44 dataframe *********\n",
      "Insertion into ChromaDB collection complete for 44 dataframe\n",
      "********* Started document chunker for 45 dataframe *********\n",
      "********* Finished Document Chunking for 45 dataframe *********\n",
      "********* Started embedding the document chunks for 45 dataframe *********\n",
      "********* Finished embedding the document chunks for 45 dataframe *********\n",
      "************************************************************************************************************************************************************************************\n",
      "********* Started storing the embeddings to chroma db for 45 dataframe *********\n",
      "Insertion into ChromaDB collection complete for 45 dataframe\n",
      "********* Started document chunker for 46 dataframe *********\n",
      "********* Finished Document Chunking for 46 dataframe *********\n",
      "********* Started embedding the document chunks for 46 dataframe *********\n",
      "********* Finished embedding the document chunks for 46 dataframe *********\n",
      "************************************************************************************************************************************************************************************\n",
      "********* Started storing the embeddings to chroma db for 46 dataframe *********\n",
      "Insertion into ChromaDB collection complete for 46 dataframe\n",
      "********* Started document chunker for 47 dataframe *********\n",
      "********* Finished Document Chunking for 47 dataframe *********\n",
      "********* Started embedding the document chunks for 47 dataframe *********\n",
      "********* Finished embedding the document chunks for 47 dataframe *********\n",
      "************************************************************************************************************************************************************************************\n",
      "********* Started storing the embeddings to chroma db for 47 dataframe *********\n",
      "Insertion into ChromaDB collection complete for 47 dataframe\n",
      "********* Started document chunker for 48 dataframe *********\n",
      "********* Finished Document Chunking for 48 dataframe *********\n",
      "********* Started embedding the document chunks for 48 dataframe *********\n",
      "********* Finished embedding the document chunks for 48 dataframe *********\n",
      "************************************************************************************************************************************************************************************\n",
      "********* Started storing the embeddings to chroma db for 48 dataframe *********\n",
      "Insertion into ChromaDB collection complete for 48 dataframe\n",
      "********* Started document chunker for 49 dataframe *********\n",
      "********* Finished Document Chunking for 49 dataframe *********\n",
      "********* Started embedding the document chunks for 49 dataframe *********\n",
      "********* Finished embedding the document chunks for 49 dataframe *********\n",
      "************************************************************************************************************************************************************************************\n",
      "********* Started storing the embeddings to chroma db for 49 dataframe *********\n",
      "Insertion into ChromaDB collection complete for 49 dataframe\n",
      "********* Started document chunker for 50 dataframe *********\n",
      "********* Finished Document Chunking for 50 dataframe *********\n",
      "********* Started embedding the document chunks for 50 dataframe *********\n",
      "********* Finished embedding the document chunks for 50 dataframe *********\n",
      "************************************************************************************************************************************************************************************\n",
      "********* Started storing the embeddings to chroma db for 50 dataframe *********\n",
      "Insertion into ChromaDB collection complete for 50 dataframe\n",
      "********* Started document chunker for 51 dataframe *********\n",
      "********* Finished Document Chunking for 51 dataframe *********\n",
      "********* Started embedding the document chunks for 51 dataframe *********\n",
      "********* Finished embedding the document chunks for 51 dataframe *********\n",
      "************************************************************************************************************************************************************************************\n",
      "********* Started storing the embeddings to chroma db for 51 dataframe *********\n",
      "Insertion into ChromaDB collection complete for 51 dataframe\n",
      "********* Started document chunker for 52 dataframe *********\n",
      "********* Finished Document Chunking for 52 dataframe *********\n",
      "********* Started embedding the document chunks for 52 dataframe *********\n",
      "********* Finished embedding the document chunks for 52 dataframe *********\n",
      "************************************************************************************************************************************************************************************\n",
      "********* Started storing the embeddings to chroma db for 52 dataframe *********\n",
      "Insertion into ChromaDB collection complete for 52 dataframe\n",
      "********* Started document chunker for 53 dataframe *********\n",
      "********* Finished Document Chunking for 53 dataframe *********\n",
      "********* Started embedding the document chunks for 53 dataframe *********\n",
      "********* Finished embedding the document chunks for 53 dataframe *********\n",
      "************************************************************************************************************************************************************************************\n",
      "********* Started storing the embeddings to chroma db for 53 dataframe *********\n",
      "Insertion into ChromaDB collection complete for 53 dataframe\n",
      "********* Started document chunker for 54 dataframe *********\n",
      "********* Finished Document Chunking for 54 dataframe *********\n",
      "********* Started embedding the document chunks for 54 dataframe *********\n",
      "********* Finished embedding the document chunks for 54 dataframe *********\n",
      "************************************************************************************************************************************************************************************\n",
      "********* Started storing the embeddings to chroma db for 54 dataframe *********\n",
      "Insertion into ChromaDB collection complete for 54 dataframe\n",
      "********* Started document chunker for 55 dataframe *********\n",
      "********* Finished Document Chunking for 55 dataframe *********\n",
      "********* Started embedding the document chunks for 55 dataframe *********\n",
      "********* Finished embedding the document chunks for 55 dataframe *********\n",
      "************************************************************************************************************************************************************************************\n",
      "********* Started storing the embeddings to chroma db for 55 dataframe *********\n",
      "Insertion into ChromaDB collection complete for 55 dataframe\n",
      "********* Started document chunker for 56 dataframe *********\n",
      "********* Finished Document Chunking for 56 dataframe *********\n",
      "********* Started embedding the document chunks for 56 dataframe *********\n",
      "********* Finished embedding the document chunks for 56 dataframe *********\n",
      "************************************************************************************************************************************************************************************\n",
      "********* Started storing the embeddings to chroma db for 56 dataframe *********\n",
      "Insertion into ChromaDB collection complete for 56 dataframe\n",
      "********* Started document chunker for 57 dataframe *********\n",
      "********* Finished Document Chunking for 57 dataframe *********\n",
      "********* Started embedding the document chunks for 57 dataframe *********\n",
      "********* Finished embedding the document chunks for 57 dataframe *********\n",
      "************************************************************************************************************************************************************************************\n",
      "********* Started storing the embeddings to chroma db for 57 dataframe *********\n",
      "Insertion into ChromaDB collection complete for 57 dataframe\n",
      "********* Started document chunker for 58 dataframe *********\n",
      "********* Finished Document Chunking for 58 dataframe *********\n",
      "********* Started embedding the document chunks for 58 dataframe *********\n",
      "********* Finished embedding the document chunks for 58 dataframe *********\n",
      "************************************************************************************************************************************************************************************\n",
      "********* Started storing the embeddings to chroma db for 58 dataframe *********\n",
      "Insertion into ChromaDB collection complete for 58 dataframe\n",
      "********* Started document chunker for 59 dataframe *********\n",
      "********* Finished Document Chunking for 59 dataframe *********\n",
      "********* Started embedding the document chunks for 59 dataframe *********\n",
      "********* Finished embedding the document chunks for 59 dataframe *********\n",
      "************************************************************************************************************************************************************************************\n",
      "********* Started storing the embeddings to chroma db for 59 dataframe *********\n",
      "Insertion into ChromaDB collection complete for 59 dataframe\n",
      "********* Started document chunker for 60 dataframe *********\n",
      "********* Finished Document Chunking for 60 dataframe *********\n",
      "********* Started embedding the document chunks for 60 dataframe *********\n",
      "********* Finished embedding the document chunks for 60 dataframe *********\n",
      "************************************************************************************************************************************************************************************\n",
      "********* Started storing the embeddings to chroma db for 60 dataframe *********\n",
      "Insertion into ChromaDB collection complete for 60 dataframe\n",
      "********* Started document chunker for 61 dataframe *********\n",
      "********* Finished Document Chunking for 61 dataframe *********\n",
      "********* Started embedding the document chunks for 61 dataframe *********\n",
      "********* Finished embedding the document chunks for 61 dataframe *********\n",
      "************************************************************************************************************************************************************************************\n",
      "********* Started storing the embeddings to chroma db for 61 dataframe *********\n",
      "Insertion into ChromaDB collection complete for 61 dataframe\n",
      "********* Started document chunker for 62 dataframe *********\n",
      "********* Finished Document Chunking for 62 dataframe *********\n",
      "********* Started embedding the document chunks for 62 dataframe *********\n",
      "********* Finished embedding the document chunks for 62 dataframe *********\n",
      "************************************************************************************************************************************************************************************\n",
      "********* Started storing the embeddings to chroma db for 62 dataframe *********\n",
      "Insertion into ChromaDB collection complete for 62 dataframe\n",
      "********* Started document chunker for 63 dataframe *********\n",
      "********* Finished Document Chunking for 63 dataframe *********\n",
      "********* Started embedding the document chunks for 63 dataframe *********\n",
      "********* Finished embedding the document chunks for 63 dataframe *********\n",
      "************************************************************************************************************************************************************************************\n",
      "********* Started storing the embeddings to chroma db for 63 dataframe *********\n",
      "Insertion into ChromaDB collection complete for 63 dataframe\n",
      "********* Started document chunker for 64 dataframe *********\n",
      "********* Finished Document Chunking for 64 dataframe *********\n",
      "********* Started embedding the document chunks for 64 dataframe *********\n",
      "********* Finished embedding the document chunks for 64 dataframe *********\n",
      "************************************************************************************************************************************************************************************\n",
      "********* Started storing the embeddings to chroma db for 64 dataframe *********\n",
      "Insertion into ChromaDB collection complete for 64 dataframe\n",
      "********* Started document chunker for 65 dataframe *********\n",
      "********* Finished Document Chunking for 65 dataframe *********\n",
      "********* Started embedding the document chunks for 65 dataframe *********\n",
      "********* Finished embedding the document chunks for 65 dataframe *********\n",
      "************************************************************************************************************************************************************************************\n",
      "********* Started storing the embeddings to chroma db for 65 dataframe *********\n",
      "Insertion into ChromaDB collection complete for 65 dataframe\n",
      "********* Started document chunker for 66 dataframe *********\n",
      "********* Finished Document Chunking for 66 dataframe *********\n",
      "********* Started embedding the document chunks for 66 dataframe *********\n",
      "********* Finished embedding the document chunks for 66 dataframe *********\n",
      "************************************************************************************************************************************************************************************\n",
      "********* Started storing the embeddings to chroma db for 66 dataframe *********\n",
      "Insertion into ChromaDB collection complete for 66 dataframe\n",
      "********* Started document chunker for 67 dataframe *********\n",
      "********* Finished Document Chunking for 67 dataframe *********\n",
      "********* Started embedding the document chunks for 67 dataframe *********\n",
      "********* Finished embedding the document chunks for 67 dataframe *********\n",
      "************************************************************************************************************************************************************************************\n",
      "********* Started storing the embeddings to chroma db for 67 dataframe *********\n",
      "Insertion into ChromaDB collection complete for 67 dataframe\n",
      "********* Started document chunker for 68 dataframe *********\n",
      "********* Finished Document Chunking for 68 dataframe *********\n",
      "********* Started embedding the document chunks for 68 dataframe *********\n",
      "********* Finished embedding the document chunks for 68 dataframe *********\n",
      "************************************************************************************************************************************************************************************\n",
      "********* Started storing the embeddings to chroma db for 68 dataframe *********\n",
      "Insertion into ChromaDB collection complete for 68 dataframe\n",
      "********* Started document chunker for 69 dataframe *********\n",
      "********* Finished Document Chunking for 69 dataframe *********\n",
      "********* Started embedding the document chunks for 69 dataframe *********\n",
      "********* Finished embedding the document chunks for 69 dataframe *********\n",
      "************************************************************************************************************************************************************************************\n",
      "********* Started storing the embeddings to chroma db for 69 dataframe *********\n",
      "Insertion into ChromaDB collection complete for 69 dataframe\n",
      "********* Started document chunker for 70 dataframe *********\n",
      "********* Finished Document Chunking for 70 dataframe *********\n",
      "********* Started embedding the document chunks for 70 dataframe *********\n",
      "********* Finished embedding the document chunks for 70 dataframe *********\n",
      "************************************************************************************************************************************************************************************\n",
      "********* Started storing the embeddings to chroma db for 70 dataframe *********\n",
      "Insertion into ChromaDB collection complete for 70 dataframe\n",
      "********* Started document chunker for 71 dataframe *********\n",
      "********* Finished Document Chunking for 71 dataframe *********\n",
      "********* Started embedding the document chunks for 71 dataframe *********\n",
      "********* Finished embedding the document chunks for 71 dataframe *********\n",
      "************************************************************************************************************************************************************************************\n",
      "********* Started storing the embeddings to chroma db for 71 dataframe *********\n",
      "Insertion into ChromaDB collection complete for 71 dataframe\n",
      "********* Started document chunker for 72 dataframe *********\n",
      "********* Finished Document Chunking for 72 dataframe *********\n",
      "********* Started embedding the document chunks for 72 dataframe *********\n",
      "********* Finished embedding the document chunks for 72 dataframe *********\n",
      "************************************************************************************************************************************************************************************\n",
      "********* Started storing the embeddings to chroma db for 72 dataframe *********\n",
      "Insertion into ChromaDB collection complete for 72 dataframe\n",
      "********* Started document chunker for 73 dataframe *********\n",
      "********* Finished Document Chunking for 73 dataframe *********\n",
      "********* Started embedding the document chunks for 73 dataframe *********\n",
      "********* Finished embedding the document chunks for 73 dataframe *********\n",
      "************************************************************************************************************************************************************************************\n",
      "********* Started storing the embeddings to chroma db for 73 dataframe *********\n",
      "Insertion into ChromaDB collection complete for 73 dataframe\n",
      "********* Started document chunker for 74 dataframe *********\n",
      "********* Finished Document Chunking for 74 dataframe *********\n",
      "********* Started embedding the document chunks for 74 dataframe *********\n",
      "********* Finished embedding the document chunks for 74 dataframe *********\n",
      "************************************************************************************************************************************************************************************\n",
      "********* Started storing the embeddings to chroma db for 74 dataframe *********\n",
      "Insertion into ChromaDB collection complete for 74 dataframe\n",
      "********* Started document chunker for 75 dataframe *********\n",
      "********* Finished Document Chunking for 75 dataframe *********\n",
      "********* Started embedding the document chunks for 75 dataframe *********\n",
      "********* Finished embedding the document chunks for 75 dataframe *********\n",
      "************************************************************************************************************************************************************************************\n",
      "********* Started storing the embeddings to chroma db for 75 dataframe *********\n",
      "Insertion into ChromaDB collection complete for 75 dataframe\n",
      "********* Started document chunker for 76 dataframe *********\n",
      "********* Finished Document Chunking for 76 dataframe *********\n",
      "********* Started embedding the document chunks for 76 dataframe *********\n",
      "********* Finished embedding the document chunks for 76 dataframe *********\n",
      "************************************************************************************************************************************************************************************\n",
      "********* Started storing the embeddings to chroma db for 76 dataframe *********\n",
      "Insertion into ChromaDB collection complete for 76 dataframe\n",
      "********* Started document chunker for 77 dataframe *********\n",
      "********* Finished Document Chunking for 77 dataframe *********\n",
      "********* Started embedding the document chunks for 77 dataframe *********\n",
      "********* Finished embedding the document chunks for 77 dataframe *********\n",
      "************************************************************************************************************************************************************************************\n",
      "********* Started storing the embeddings to chroma db for 77 dataframe *********\n",
      "Insertion into ChromaDB collection complete for 77 dataframe\n",
      "********* Started document chunker for 78 dataframe *********\n",
      "********* Finished Document Chunking for 78 dataframe *********\n",
      "********* Started embedding the document chunks for 78 dataframe *********\n",
      "********* Finished embedding the document chunks for 78 dataframe *********\n",
      "************************************************************************************************************************************************************************************\n",
      "********* Started storing the embeddings to chroma db for 78 dataframe *********\n",
      "Insertion into ChromaDB collection complete for 78 dataframe\n",
      "********* Started document chunker for 79 dataframe *********\n",
      "********* Finished Document Chunking for 79 dataframe *********\n",
      "********* Started embedding the document chunks for 79 dataframe *********\n",
      "********* Finished embedding the document chunks for 79 dataframe *********\n",
      "************************************************************************************************************************************************************************************\n",
      "********* Started storing the embeddings to chroma db for 79 dataframe *********\n",
      "Insertion into ChromaDB collection complete for 79 dataframe\n",
      "********* Started document chunker for 80 dataframe *********\n",
      "********* Finished Document Chunking for 80 dataframe *********\n",
      "********* Started embedding the document chunks for 80 dataframe *********\n",
      "********* Finished embedding the document chunks for 80 dataframe *********\n",
      "************************************************************************************************************************************************************************************\n",
      "********* Started storing the embeddings to chroma db for 80 dataframe *********\n",
      "Insertion into ChromaDB collection complete for 80 dataframe\n",
      "********* Started document chunker for 81 dataframe *********\n",
      "********* Finished Document Chunking for 81 dataframe *********\n",
      "********* Started embedding the document chunks for 81 dataframe *********\n",
      "********* Finished embedding the document chunks for 81 dataframe *********\n",
      "************************************************************************************************************************************************************************************\n",
      "********* Started storing the embeddings to chroma db for 81 dataframe *********\n",
      "Insertion into ChromaDB collection complete for 81 dataframe\n",
      "********* Started document chunker for 82 dataframe *********\n",
      "********* Finished Document Chunking for 82 dataframe *********\n",
      "********* Started embedding the document chunks for 82 dataframe *********\n",
      "********* Finished embedding the document chunks for 82 dataframe *********\n",
      "************************************************************************************************************************************************************************************\n",
      "********* Started storing the embeddings to chroma db for 82 dataframe *********\n",
      "Insertion into ChromaDB collection complete for 82 dataframe\n"
     ]
    },
    {
     "ename": "FileNotFoundError",
     "evalue": "[Errno 2] No such file or directory: '/root/Enhanced_Search_Engine_For_Audio_Subtitles/research/dataframe_pickle_files/df_83.pkl'",
     "output_type": "error",
     "traceback": [
      "\u001b[0;31m---------------------------------------------------------------------------\u001b[0m",
      "\u001b[0;31mFileNotFoundError\u001b[0m                         Traceback (most recent call last)",
      "Cell \u001b[0;32mIn[80], line 17\u001b[0m\n\u001b[1;32m     15\u001b[0m \u001b[38;5;28;01mfor\u001b[39;00m i \u001b[38;5;129;01min\u001b[39;00m \u001b[38;5;28mrange\u001b[39m(num_df):\n\u001b[1;32m     16\u001b[0m     df_loc \u001b[38;5;241m=\u001b[39m \u001b[38;5;124m\"\u001b[39m\u001b[38;5;124m/root/Enhanced_Search_Engine_For_Audio_Subtitles/research/dataframe_pickle_files/df_\u001b[39m\u001b[38;5;124m\"\u001b[39m \u001b[38;5;241m+\u001b[39m \u001b[38;5;28mstr\u001b[39m(i) \u001b[38;5;241m+\u001b[39m \u001b[38;5;124m\"\u001b[39m\u001b[38;5;124m.pkl\u001b[39m\u001b[38;5;124m\"\u001b[39m\n\u001b[0;32m---> 17\u001b[0m     df \u001b[38;5;241m=\u001b[39m \u001b[43mpd\u001b[49m\u001b[38;5;241;43m.\u001b[39;49m\u001b[43mread_pickle\u001b[49m\u001b[43m(\u001b[49m\u001b[43mdf_loc\u001b[49m\u001b[43m)\u001b[49m\n\u001b[1;32m     18\u001b[0m     loader \u001b[38;5;241m=\u001b[39m DataFrameLoader(df, page_content_column\u001b[38;5;241m=\u001b[39m\u001b[38;5;124m'\u001b[39m\u001b[38;5;124mdecoded_content\u001b[39m\u001b[38;5;124m'\u001b[39m)\n\u001b[1;32m     19\u001b[0m     data  \u001b[38;5;241m=\u001b[39m loader\u001b[38;5;241m.\u001b[39mload()\n",
      "File \u001b[0;32m/usr/local/lib/python3.10/dist-packages/pandas/io/pickle.py:185\u001b[0m, in \u001b[0;36mread_pickle\u001b[0;34m(filepath_or_buffer, compression, storage_options)\u001b[0m\n\u001b[1;32m    123\u001b[0m \u001b[38;5;250m\u001b[39m\u001b[38;5;124;03m\"\"\"\u001b[39;00m\n\u001b[1;32m    124\u001b[0m \u001b[38;5;124;03mLoad pickled pandas object (or any object) from file.\u001b[39;00m\n\u001b[1;32m    125\u001b[0m \n\u001b[0;32m   (...)\u001b[0m\n\u001b[1;32m    182\u001b[0m \u001b[38;5;124;03m4    4    9\u001b[39;00m\n\u001b[1;32m    183\u001b[0m \u001b[38;5;124;03m\"\"\"\u001b[39;00m\n\u001b[1;32m    184\u001b[0m excs_to_catch \u001b[38;5;241m=\u001b[39m (\u001b[38;5;167;01mAttributeError\u001b[39;00m, \u001b[38;5;167;01mImportError\u001b[39;00m, \u001b[38;5;167;01mModuleNotFoundError\u001b[39;00m, \u001b[38;5;167;01mTypeError\u001b[39;00m)\n\u001b[0;32m--> 185\u001b[0m \u001b[38;5;28;01mwith\u001b[39;00m \u001b[43mget_handle\u001b[49m\u001b[43m(\u001b[49m\n\u001b[1;32m    186\u001b[0m \u001b[43m    \u001b[49m\u001b[43mfilepath_or_buffer\u001b[49m\u001b[43m,\u001b[49m\n\u001b[1;32m    187\u001b[0m \u001b[43m    \u001b[49m\u001b[38;5;124;43m\"\u001b[39;49m\u001b[38;5;124;43mrb\u001b[39;49m\u001b[38;5;124;43m\"\u001b[39;49m\u001b[43m,\u001b[49m\n\u001b[1;32m    188\u001b[0m \u001b[43m    \u001b[49m\u001b[43mcompression\u001b[49m\u001b[38;5;241;43m=\u001b[39;49m\u001b[43mcompression\u001b[49m\u001b[43m,\u001b[49m\n\u001b[1;32m    189\u001b[0m \u001b[43m    \u001b[49m\u001b[43mis_text\u001b[49m\u001b[38;5;241;43m=\u001b[39;49m\u001b[38;5;28;43;01mFalse\u001b[39;49;00m\u001b[43m,\u001b[49m\n\u001b[1;32m    190\u001b[0m \u001b[43m    \u001b[49m\u001b[43mstorage_options\u001b[49m\u001b[38;5;241;43m=\u001b[39;49m\u001b[43mstorage_options\u001b[49m\u001b[43m,\u001b[49m\n\u001b[1;32m    191\u001b[0m \u001b[43m\u001b[49m\u001b[43m)\u001b[49m \u001b[38;5;28;01mas\u001b[39;00m handles:\n\u001b[1;32m    192\u001b[0m     \u001b[38;5;66;03m# 1) try standard library Pickle\u001b[39;00m\n\u001b[1;32m    193\u001b[0m     \u001b[38;5;66;03m# 2) try pickle_compat (older pandas version) to handle subclass changes\u001b[39;00m\n\u001b[1;32m    194\u001b[0m     \u001b[38;5;66;03m# 3) try pickle_compat with latin-1 encoding upon a UnicodeDecodeError\u001b[39;00m\n\u001b[1;32m    196\u001b[0m     \u001b[38;5;28;01mtry\u001b[39;00m:\n\u001b[1;32m    197\u001b[0m         \u001b[38;5;66;03m# TypeError for Cython complaints about object.__new__ vs Tick.__new__\u001b[39;00m\n\u001b[1;32m    198\u001b[0m         \u001b[38;5;28;01mtry\u001b[39;00m:\n",
      "File \u001b[0;32m/usr/local/lib/python3.10/dist-packages/pandas/io/common.py:882\u001b[0m, in \u001b[0;36mget_handle\u001b[0;34m(path_or_buf, mode, encoding, compression, memory_map, is_text, errors, storage_options)\u001b[0m\n\u001b[1;32m    873\u001b[0m         handle \u001b[38;5;241m=\u001b[39m \u001b[38;5;28mopen\u001b[39m(\n\u001b[1;32m    874\u001b[0m             handle,\n\u001b[1;32m    875\u001b[0m             ioargs\u001b[38;5;241m.\u001b[39mmode,\n\u001b[0;32m   (...)\u001b[0m\n\u001b[1;32m    878\u001b[0m             newline\u001b[38;5;241m=\u001b[39m\u001b[38;5;124m\"\u001b[39m\u001b[38;5;124m\"\u001b[39m,\n\u001b[1;32m    879\u001b[0m         )\n\u001b[1;32m    880\u001b[0m     \u001b[38;5;28;01melse\u001b[39;00m:\n\u001b[1;32m    881\u001b[0m         \u001b[38;5;66;03m# Binary mode\u001b[39;00m\n\u001b[0;32m--> 882\u001b[0m         handle \u001b[38;5;241m=\u001b[39m \u001b[38;5;28;43mopen\u001b[39;49m\u001b[43m(\u001b[49m\u001b[43mhandle\u001b[49m\u001b[43m,\u001b[49m\u001b[43m \u001b[49m\u001b[43mioargs\u001b[49m\u001b[38;5;241;43m.\u001b[39;49m\u001b[43mmode\u001b[49m\u001b[43m)\u001b[49m\n\u001b[1;32m    883\u001b[0m     handles\u001b[38;5;241m.\u001b[39mappend(handle)\n\u001b[1;32m    885\u001b[0m \u001b[38;5;66;03m# Convert BytesIO or file objects passed with an encoding\u001b[39;00m\n",
      "\u001b[0;31mFileNotFoundError\u001b[0m: [Errno 2] No such file or directory: '/root/Enhanced_Search_Engine_For_Audio_Subtitles/research/dataframe_pickle_files/df_83.pkl'"
     ]
    }
   ],
   "source": [
    "import math\n",
    "from langchain_community.document_loaders import DataFrameLoader\n",
    "from langchain_text_splitters import RecursiveCharacterTextSplitter\n",
    "\n",
    "num_row = 300\n",
    "df_total = pd.read_pickle(\"/root/Enhanced_Search_Engine_For_Audio_Subtitles/research/subtitle_decoded.pkl\")\n",
    "num_df = math.ceil(len(df_total)/num_row)\n",
    "\n",
    "collection = client.get_or_create_collection(name=\"eng_subtitles\", metadata={\"hnsw:space\": \"cosine\"})\n",
    "text_splitter = RecursiveCharacterTextSplitter(\n",
    "    separators=[\"\\n\\n\", \"\\n\", \" \", \"\"],\n",
    "    chunk_size=200,\n",
    "    chunk_overlap=50,\n",
    ")\n",
    "\n",
    "for i in range(num_df):\n",
    "    df_loc = \"/root/Enhanced_Search_Engine_For_Audio_Subtitles/research/dataframe_pickle_files/df_\" + str(i) + \".pkl\"\n",
    "    df = pd.read_pickle(df_loc)\n",
    "    loader = DataFrameLoader(df, page_content_column='decoded_content')\n",
    "    data  = loader.load()\n",
    "    doc_contents = [doc.page_content for doc in data]\n",
    "    meta_datas = [doc.metadata for doc in data]\n",
    "    print(f\"********* Started document chunker for {i} dataframe *********\")\n",
    "    chunks = text_splitter.create_documents(doc_contents, meta_datas)\n",
    "    print(f\"********* Finished Document Chunking for {i} dataframe *********\")\n",
    "    # print(\"Type of variable:\", type(chunks))\n",
    "    # print()\n",
    "    # print(\"Type of each object inside the list:\", type(chunks[0]))\n",
    "    # print()\n",
    "    # print(\"Total number of documents inside list:\", len(chunks))\n",
    "    # print()\n",
    "    print(f\"********* Started embedding the document chunks for {i} dataframe *********\")\n",
    "    # print(\"* Content of first chunk:\", chunks[0])\n",
    "    # print()\n",
    "    # print(\"* Content of second chunk:\", chunks[1])\n",
    "    embedded_chunks = model.encode([chunk.page_content for chunk in chunks]).tolist()\n",
    "    print(f\"********* Finished embedding the document chunks for {i} dataframe *********\")\n",
    "    # print(\"Type of variable:\", type(embedded_chunks))\n",
    "    # print(\"Number of embeddings:\", len(embedded_chunks))\n",
    "    # print(\"Dimensionality of each embedding:\", len(embedded_chunks[0]))\n",
    "    print(\"******************\"*10)\n",
    "    print(f\"********* Started storing the embeddings to chroma db for {i} dataframe *********\")\n",
    "    # collection = client.get_collection(name=\"eng_subtitles\", metadata={\"hnsw:space\": \"cosine\"})\n",
    "    for index, row in df.iterrows():\n",
    "        # print(f'index: {index}')\n",
    "        # print(f'row: {row}')\n",
    "        document_id = str(row['index'])  # Use a unique identifier for each document\n",
    "        # print(document_id)\n",
    "        document_text = row['decoded_content']\n",
    "        # print(document_text)\n",
    "        # document_embedding = corpus_embeddings[index % len(corpus_embeddings)]  # Assuming embeddings are aligned with the rows\n",
    "\n",
    "        # ------------------------------------------------------------------------\n",
    "        # print(f'length embed docs: {len(embedded_chunks)}')\n",
    "        chunk_index = index % len(embedded_chunks)\n",
    "        # print(f'chunk_index: {chunk_index}')\n",
    "        document_embedding = embedded_chunks[chunk_index]\n",
    "        # print(f'length of document_embedding: {len(document_embedding)}')\n",
    "        #--------------------------------------------------------------------------\n",
    "        metadata = {'movie_name': row['name']}\n",
    "\n",
    "        # # Insert document into ChromaDB collection\n",
    "        collection.add(\n",
    "            ids=document_id, \n",
    "            documents=[document_text], \n",
    "            embeddings=[document_embedding], \n",
    "            metadatas=[metadata]\n",
    "        )\n",
    "\n",
    "    print(f\"Insertion into ChromaDB collection complete for {i} dataframe\")"
   ]
  },
  {
   "cell_type": "code",
   "execution_count": 121,
   "metadata": {},
   "outputs": [],
   "source": [
    "def subtitle_cleaning(data):\n",
    "    data = re.sub(\"\\d{2}:\\d{2}:\\d{2},\\d{3}\\s-->\\s\\d{2}:\\d{2}:\\d{2},\\d{3}\",\"\",data)      # remove timestamps\n",
    "    data = re.sub(\"\\n*\\d+\\r\",\"\",data)       #remove integer characters present before each timestamp line\n",
    "    data = re.sub(\"<i>|</i>\", \"\", data)     #remove <i> and </i> tags\n",
    "    data = re.sub(\"\\r|\\n\", \"\", data)     # remove whitespaces and line breaks\n",
    "    data = re.sub(r'[^\\x00-\\x7F]', '', data)      # remove non-ascii characters\n",
    "    data = re.sub(r'www\\.osdb\\.link\\/[\\w\\d]+\\s+|www\\.OpenSubtitles\\.org|osdb\\.link\\/ext|api\\.OpenSubtitles\\.org|OpenSubtitles\\.com', '', data)      # remove links\n",
    "    \n",
    "    return data.lower()     # lowering each chanracters"
   ]
  },
  {
   "cell_type": "code",
   "execution_count": 110,
   "metadata": {},
   "outputs": [],
   "source": [
    "transcription = '''IN THE NAME OF GOD THE MOST GRECEOUS THE MOST MERCIFUL FROM HOMA THE MESSENGEROBORD TO HERAPPEARS THE EMPEROR BYSENTIA GRICKINGS TO HIM WHO IS THE FOLLOWER OF RIGHTEOUS GUIDANCE I BID YOU TO HEAR THE DIVINE CALL AND THE MESSENGER OF GOD TO THE PEOPLE ACCEPT ISLAM FOR YOUR SALVATION HE SPEAKS OF A NEW PROFET IN ARABEA WAS IT LIKE THIS'''\n"
   ]
  },
  {
   "cell_type": "code",
   "execution_count": 122,
   "metadata": {},
   "outputs": [],
   "source": [
    "transcription_cleaned = subtitle_cleaning(transcription)"
   ]
  },
  {
   "cell_type": "code",
   "execution_count": 123,
   "metadata": {},
   "outputs": [
    {
     "name": "stdout",
     "output_type": "stream",
     "text": [
      "in the name of god the most greceous the most merciful from homa the messengerobord to herappears the emperor bysentia grickings to him who is the follower of righteous guidance i bid you to hear the divine call and the messenger of god to the people accept islam for your salvation he speaks of a new profet in arabea was it like this\n"
     ]
    }
   ],
   "source": [
    "print(transcription_cleaned)"
   ]
  },
  {
   "cell_type": "code",
   "execution_count": 124,
   "metadata": {},
   "outputs": [],
   "source": [
    "query_chunks = text_splitter.create_documents(transcription_cleaned)"
   ]
  },
  {
   "cell_type": "code",
   "execution_count": 125,
   "metadata": {},
   "outputs": [
    {
     "name": "stdout",
     "output_type": "stream",
     "text": [
      "[Document(metadata={}, page_content='i'), Document(metadata={}, page_content='n'), Document(metadata={}, page_content='t'), Document(metadata={}, page_content='h'), Document(metadata={}, page_content='e'), Document(metadata={}, page_content='n'), Document(metadata={}, page_content='a'), Document(metadata={}, page_content='m'), Document(metadata={}, page_content='e'), Document(metadata={}, page_content='o'), Document(metadata={}, page_content='f'), Document(metadata={}, page_content='g'), Document(metadata={}, page_content='o'), Document(metadata={}, page_content='d'), Document(metadata={}, page_content='t'), Document(metadata={}, page_content='h'), Document(metadata={}, page_content='e'), Document(metadata={}, page_content='m'), Document(metadata={}, page_content='o'), Document(metadata={}, page_content='s'), Document(metadata={}, page_content='t'), Document(metadata={}, page_content='g'), Document(metadata={}, page_content='r'), Document(metadata={}, page_content='e'), Document(metadata={}, page_content='c'), Document(metadata={}, page_content='e'), Document(metadata={}, page_content='o'), Document(metadata={}, page_content='u'), Document(metadata={}, page_content='s'), Document(metadata={}, page_content='t'), Document(metadata={}, page_content='h'), Document(metadata={}, page_content='e'), Document(metadata={}, page_content='m'), Document(metadata={}, page_content='o'), Document(metadata={}, page_content='s'), Document(metadata={}, page_content='t'), Document(metadata={}, page_content='m'), Document(metadata={}, page_content='e'), Document(metadata={}, page_content='r'), Document(metadata={}, page_content='c'), Document(metadata={}, page_content='i'), Document(metadata={}, page_content='f'), Document(metadata={}, page_content='u'), Document(metadata={}, page_content='l'), Document(metadata={}, page_content='f'), Document(metadata={}, page_content='r'), Document(metadata={}, page_content='o'), Document(metadata={}, page_content='m'), Document(metadata={}, page_content='h'), Document(metadata={}, page_content='o'), Document(metadata={}, page_content='m'), Document(metadata={}, page_content='a'), Document(metadata={}, page_content='t'), Document(metadata={}, page_content='h'), Document(metadata={}, page_content='e'), Document(metadata={}, page_content='m'), Document(metadata={}, page_content='e'), Document(metadata={}, page_content='s'), Document(metadata={}, page_content='s'), Document(metadata={}, page_content='e'), Document(metadata={}, page_content='n'), Document(metadata={}, page_content='g'), Document(metadata={}, page_content='e'), Document(metadata={}, page_content='r'), Document(metadata={}, page_content='o'), Document(metadata={}, page_content='b'), Document(metadata={}, page_content='o'), Document(metadata={}, page_content='r'), Document(metadata={}, page_content='d'), Document(metadata={}, page_content='t'), Document(metadata={}, page_content='o'), Document(metadata={}, page_content='h'), Document(metadata={}, page_content='e'), Document(metadata={}, page_content='r'), Document(metadata={}, page_content='a'), Document(metadata={}, page_content='p'), Document(metadata={}, page_content='p'), Document(metadata={}, page_content='e'), Document(metadata={}, page_content='a'), Document(metadata={}, page_content='r'), Document(metadata={}, page_content='s'), Document(metadata={}, page_content='t'), Document(metadata={}, page_content='h'), Document(metadata={}, page_content='e'), Document(metadata={}, page_content='e'), Document(metadata={}, page_content='m'), Document(metadata={}, page_content='p'), Document(metadata={}, page_content='e'), Document(metadata={}, page_content='r'), Document(metadata={}, page_content='o'), Document(metadata={}, page_content='r'), Document(metadata={}, page_content='b'), Document(metadata={}, page_content='y'), Document(metadata={}, page_content='s'), Document(metadata={}, page_content='e'), Document(metadata={}, page_content='n'), Document(metadata={}, page_content='t'), Document(metadata={}, page_content='i'), Document(metadata={}, page_content='a'), Document(metadata={}, page_content='g'), Document(metadata={}, page_content='r'), Document(metadata={}, page_content='i'), Document(metadata={}, page_content='c'), Document(metadata={}, page_content='k'), Document(metadata={}, page_content='i'), Document(metadata={}, page_content='n'), Document(metadata={}, page_content='g'), Document(metadata={}, page_content='s'), Document(metadata={}, page_content='t'), Document(metadata={}, page_content='o'), Document(metadata={}, page_content='h'), Document(metadata={}, page_content='i'), Document(metadata={}, page_content='m'), Document(metadata={}, page_content='w'), Document(metadata={}, page_content='h'), Document(metadata={}, page_content='o'), Document(metadata={}, page_content='i'), Document(metadata={}, page_content='s'), Document(metadata={}, page_content='t'), Document(metadata={}, page_content='h'), Document(metadata={}, page_content='e'), Document(metadata={}, page_content='f'), Document(metadata={}, page_content='o'), Document(metadata={}, page_content='l'), Document(metadata={}, page_content='l'), Document(metadata={}, page_content='o'), Document(metadata={}, page_content='w'), Document(metadata={}, page_content='e'), Document(metadata={}, page_content='r'), Document(metadata={}, page_content='o'), Document(metadata={}, page_content='f'), Document(metadata={}, page_content='r'), Document(metadata={}, page_content='i'), Document(metadata={}, page_content='g'), Document(metadata={}, page_content='h'), Document(metadata={}, page_content='t'), Document(metadata={}, page_content='e'), Document(metadata={}, page_content='o'), Document(metadata={}, page_content='u'), Document(metadata={}, page_content='s'), Document(metadata={}, page_content='g'), Document(metadata={}, page_content='u'), Document(metadata={}, page_content='i'), Document(metadata={}, page_content='d'), Document(metadata={}, page_content='a'), Document(metadata={}, page_content='n'), Document(metadata={}, page_content='c'), Document(metadata={}, page_content='e'), Document(metadata={}, page_content='i'), Document(metadata={}, page_content='b'), Document(metadata={}, page_content='i'), Document(metadata={}, page_content='d'), Document(metadata={}, page_content='y'), Document(metadata={}, page_content='o'), Document(metadata={}, page_content='u'), Document(metadata={}, page_content='t'), Document(metadata={}, page_content='o'), Document(metadata={}, page_content='h'), Document(metadata={}, page_content='e'), Document(metadata={}, page_content='a'), Document(metadata={}, page_content='r'), Document(metadata={}, page_content='t'), Document(metadata={}, page_content='h'), Document(metadata={}, page_content='e'), Document(metadata={}, page_content='d'), Document(metadata={}, page_content='i'), Document(metadata={}, page_content='v'), Document(metadata={}, page_content='i'), Document(metadata={}, page_content='n'), Document(metadata={}, page_content='e'), Document(metadata={}, page_content='c'), Document(metadata={}, page_content='a'), Document(metadata={}, page_content='l'), Document(metadata={}, page_content='l'), Document(metadata={}, page_content='a'), Document(metadata={}, page_content='n'), Document(metadata={}, page_content='d'), Document(metadata={}, page_content='t'), Document(metadata={}, page_content='h'), Document(metadata={}, page_content='e'), Document(metadata={}, page_content='m'), Document(metadata={}, page_content='e'), Document(metadata={}, page_content='s'), Document(metadata={}, page_content='s'), Document(metadata={}, page_content='e'), Document(metadata={}, page_content='n'), Document(metadata={}, page_content='g'), Document(metadata={}, page_content='e'), Document(metadata={}, page_content='r'), Document(metadata={}, page_content='o'), Document(metadata={}, page_content='f'), Document(metadata={}, page_content='g'), Document(metadata={}, page_content='o'), Document(metadata={}, page_content='d'), Document(metadata={}, page_content='t'), Document(metadata={}, page_content='o'), Document(metadata={}, page_content='t'), Document(metadata={}, page_content='h'), Document(metadata={}, page_content='e'), Document(metadata={}, page_content='p'), Document(metadata={}, page_content='e'), Document(metadata={}, page_content='o'), Document(metadata={}, page_content='p'), Document(metadata={}, page_content='l'), Document(metadata={}, page_content='e'), Document(metadata={}, page_content='a'), Document(metadata={}, page_content='c'), Document(metadata={}, page_content='c'), Document(metadata={}, page_content='e'), Document(metadata={}, page_content='p'), Document(metadata={}, page_content='t'), Document(metadata={}, page_content='i'), Document(metadata={}, page_content='s'), Document(metadata={}, page_content='l'), Document(metadata={}, page_content='a'), Document(metadata={}, page_content='m'), Document(metadata={}, page_content='f'), Document(metadata={}, page_content='o'), Document(metadata={}, page_content='r'), Document(metadata={}, page_content='y'), Document(metadata={}, page_content='o'), Document(metadata={}, page_content='u'), Document(metadata={}, page_content='r'), Document(metadata={}, page_content='s'), Document(metadata={}, page_content='a'), Document(metadata={}, page_content='l'), Document(metadata={}, page_content='v'), Document(metadata={}, page_content='a'), Document(metadata={}, page_content='t'), Document(metadata={}, page_content='i'), Document(metadata={}, page_content='o'), Document(metadata={}, page_content='n'), Document(metadata={}, page_content='h'), Document(metadata={}, page_content='e'), Document(metadata={}, page_content='s'), Document(metadata={}, page_content='p'), Document(metadata={}, page_content='e'), Document(metadata={}, page_content='a'), Document(metadata={}, page_content='k'), Document(metadata={}, page_content='s'), Document(metadata={}, page_content='o'), Document(metadata={}, page_content='f'), Document(metadata={}, page_content='a'), Document(metadata={}, page_content='n'), Document(metadata={}, page_content='e'), Document(metadata={}, page_content='w'), Document(metadata={}, page_content='p'), Document(metadata={}, page_content='r'), Document(metadata={}, page_content='o'), Document(metadata={}, page_content='f'), Document(metadata={}, page_content='e'), Document(metadata={}, page_content='t'), Document(metadata={}, page_content='i'), Document(metadata={}, page_content='n'), Document(metadata={}, page_content='a'), Document(metadata={}, page_content='r'), Document(metadata={}, page_content='a'), Document(metadata={}, page_content='b'), Document(metadata={}, page_content='e'), Document(metadata={}, page_content='a'), Document(metadata={}, page_content='w'), Document(metadata={}, page_content='a'), Document(metadata={}, page_content='s'), Document(metadata={}, page_content='i'), Document(metadata={}, page_content='t'), Document(metadata={}, page_content='l'), Document(metadata={}, page_content='i'), Document(metadata={}, page_content='k'), Document(metadata={}, page_content='e'), Document(metadata={}, page_content='t'), Document(metadata={}, page_content='h'), Document(metadata={}, page_content='i'), Document(metadata={}, page_content='s')]\n"
     ]
    }
   ],
   "source": [
    "print(query_chunks)"
   ]
  },
  {
   "cell_type": "code",
   "execution_count": 126,
   "metadata": {},
   "outputs": [],
   "source": [
    "embedded_query_chunks = model.encode(transcription_cleaned).tolist()"
   ]
  },
  {
   "cell_type": "code",
   "execution_count": null,
   "metadata": {},
   "outputs": [
    {
     "data": {
      "text/plain": [
       "'ï»¿1\\r\\n00:00:06,000 --> 00:00:12,074\\r\\nENJOY ALL VOD IN HIGH QUALITY @ 4KVOD.TV\\r\\nGET LIVE TV,MOVIES,SHOWS IN ONE PACKAGE\\r\\n\\r\\n2\\r\\n00:00:16,683 --> 00:00:18,644\\r\\nHave you sorted out Karen\\'s hen do yet?\\r\\n\\r\\n3\\r\\n00:00:18,727 --> 00:00:20,020\\r\\nYeah, I think so.\\r\\n\\r\\n4\\r\\n00:00:20,604 --> 00:00:23,065\\r\\nIt\\'s tricky though, \\'cause, uh,\\r\\nI\\'m scared of checking my emails,\\r\\n\\r\\n5\\r\\n00:00:23,148 --> 00:00:24,816\\r\\n\\'cause I know there\\'s gonna be\\r\\nbad news about the kids,\\r\\n\\r\\n6\\r\\n00:00:24,900 --> 00:00:25,984\\r\\n-so...\\r\\n-Yeah.\\r\\n\\r\\n7\\r\\n00:00:26,610 --> 00:00:29,071\\r\\n-What you gonna do for Scott?\\r\\n-Just gonna go pub.\\r\\n\\r\\n8\\r\\n00:00:29,696 --> 00:00:30,989\\r\\n-Is that it?\\r\\n-Well...\\r\\n\\r\\n9\\r\\n00:00:31,073 --> 00:00:32,073\\r\\nJase.\\r\\n\\r\\n10\\r\\n00:00:32,156 --> 00:00:34,993\\r\\nHow is that different from\\r\\nany other time you go to the pub?\\r\\n\\r\\n11\\r\\n00:00:35,077 --> 00:00:36,954\\r\\n-Scott\\'s coming.\\r\\n-Jason.\\r\\n\\r\\n12\\r\\n00:00:37,037 --> 00:00:39,581\\r\\nWell, it\\'s a bit weird, innit?\\r\\nI mean, I didn\\'t ask to be his best man.\\r\\n\\r\\n13\\r\\n00:00:39,665 --> 00:00:40,999\\r\\nI\\'ve only known the fella 18 months.\\r\\n\\r\\n14\\r\\n00:00:41,083 --> 00:00:42,751\\r\\nYeah, he doesn\\'t have many friends,\\r\\ndoes he?\\r\\n\\r\\n15\\r\\n00:00:42,835 --> 00:00:43,836\\r\\nObviously not.\\r\\n\\r\\n16\\r\\n00:00:43,919 --> 00:00:45,838\\r\\nThat\\'s what you get when you\\r\\npronounce it \"choritho.\"\\r\\n\\r\\n17\\r\\n00:00:45,921 --> 00:00:46,922\\r\\nMmm.\\r\\n\\r\\n18\\r\\n00:00:47,005 --> 00:00:49,675\\r\\nHe\\'s given me a list of three people\\r\\nthat he wants to invite.\\r\\n\\r\\n19\\r\\n00:00:49,758 --> 00:00:51,802\\r\\nOne of them is his barber.\\r\\n\\r\\n20\\r\\n00:00:53,136 --> 00:00:55,222\\r\\n-He couldn\\'t even remember who Scott was.\\r\\n-[groans]\\r\\n\\r\\n21\\r\\n00:00:55,305 --> 00:00:57,099\\r\\nI had to describe\\r\\nthe back of his head to the guy.\\r\\n\\r\\n22\\r\\n00:00:57,182 --> 00:00:59,101\\r\\n-[both laugh]\\r\\n-It\\'s true.\\r\\n\\r\\n23\\r\\n00:01:17,160 --> 00:01:18,537\\r\\n[Jason] Hello?\\r\\n\\r\\n24\\r\\n00:01:18,620 --> 00:01:19,621\\r\\nYeah, yeah.\\r\\n\\r\\n25\\r\\n00:01:21,123 --> 00:01:23,584\\r\\n-[Jason] All right. Okay.\\r\\n-[phone chimes]\\r\\n\\r\\n26\\r\\n00:01:30,215 --> 00:01:31,633\\r\\n[sighs]\\r\\n\\r\\n27\\r\\n00:01:34,678 --> 00:01:37,764\\r\\nOh, my God. Oh, my God!\\r\\n\\r\\n28\\r\\n00:01:37,848 --> 00:01:39,266\\r\\nJason!\\r\\n\\r\\n29\\r\\n00:01:39,850 --> 00:01:41,018\\r\\nJason!\\r\\n\\r\\n30\\r\\n00:01:41,101 --> 00:01:43,979\\r\\n-Look. [pants]\\r\\n-All right then. Thank you. Bye-bye.\\r\\n\\r\\n31\\r\\n00:01:44,062 --> 00:01:45,981\\r\\nI don\\'t believe it! I got the promotion!\\r\\n\\r\\n32\\r\\n00:01:46,064 --> 00:01:48,025\\r\\nI got the promotion! I got the promotion!\\r\\n\\r\\n33\\r\\n00:01:48,108 --> 00:01:50,235\\r\\n[chuckles, breathes heavily]\\r\\n\\r\\n34\\r\\n00:01:52,237 --> 00:01:54,281\\r\\n-What?\\r\\n-We didn\\'t get the kids.\\r\\n\\r\\n35\\r\\n00:01:55,324 --> 00:01:56,366\\r\\n[Jason clicks tongue]\\r\\n\\r\\n36\\r\\n00:02:02,414 --> 00:02:03,498\\r\\nYou need to go.\\r\\n\\r\\n37\\r\\n00:02:03,582 --> 00:02:05,209\\r\\n-We need to talk about what this means.\\r\\n-No, we don\\'t.\\r\\n\\r\\n38\\r\\n00:02:05,292 --> 00:02:07,127\\r\\n-Yeah, but does this mean--\\r\\n-Doesn\\'t mean anything.\\r\\n\\r\\n39\\r\\n00:02:07,794 --> 00:02:10,422\\r\\nThis is not an emotional thing.\\r\\nThis is just--\\r\\n\\r\\n40\\r\\n00:02:11,173 --> 00:02:12,382\\r\\nIt\\'s just atoms.\\r\\n\\r\\n41\\r\\n00:02:13,467 --> 00:02:15,594\\r\\nAnd at one point,\\r\\nthe atoms were in a certain position,\\r\\n\\r\\n42\\r\\n00:02:15,677 --> 00:02:18,055\\r\\nand then they moved\\r\\nand they were in a different position.\\r\\n\\r\\n43\\r\\n00:02:18,889 --> 00:02:21,850\\r\\nOn top of each other.\\r\\nBut it is just atoms.\\r\\n\\r\\n44\\r\\n00:02:21,934 --> 00:02:25,020\\r\\nIt doesn\\'t-- It--\\r\\nDo not add emotion to atoms.\\r\\n\\r\\n45\\r\\n00:02:28,232 --> 00:02:29,233\\r\\nFine.\\r\\n\\r\\n46\\r\\n00:02:30,692 --> 00:02:32,611\\r\\n-What you doing?\\r\\n-Going to the toilet.\\r\\n\\r\\n47\\r\\n00:02:32,694 --> 00:02:34,112\\r\\n-Freddy.\\r\\n-I\\'m bursting.\\r\\n\\r\\n48\\r\\n00:02:35,531 --> 00:02:37,574\\r\\n-All right. Don\\'t let Lauren see you.\\r\\n-[Freddy] I won\\'t.\\r\\n\\r\\n49\\r\\n00:02:42,746 --> 00:02:43,914\\r\\n-[door closes]\\r\\n-[sighs]\\r\\n\\r\\n50\\r\\n00:02:44,706 --> 00:02:45,874\\r\\n-[Lauren] Daddy!\\r\\n-Oh, f--\\r\\n\\r\\n51\\r\\n00:02:45,958 --> 00:02:47,251\\r\\nHi, darling.\\r\\n\\r\\n52\\r\\n00:02:48,377 --> 00:02:49,461\\r\\n[sighs]\\r\\n\\r\\n53\\r\\n00:02:50,754 --> 00:02:52,214\\r\\nHow long have we been here now?\\r\\n\\r\\n54\\r\\n00:02:54,007 --> 00:02:55,676\\r\\n-About four minutes.\\r\\n-Oh.\\r\\n\\r\\n55\\r\\n00:02:56,635 --> 00:02:58,387\\r\\nReally? Feels like longer.\\r\\n\\r\\n56\\r\\n00:02:59,429 --> 00:03:00,430\\r\\nI know.\\r\\n\\r\\n57\\r\\n00:03:03,851 --> 00:03:05,561\\r\\nI miss \"five minutes ago\" us.\\r\\n\\r\\n58\\r\\n00:03:07,020 --> 00:03:08,021\\r\\nYep.\\r\\n\\r\\n59\\r\\n00:03:10,691 --> 00:03:13,527\\r\\nPlenty more kids out there for us,\\r\\nNikki, you know?\\r\\n\\r\\n60\\r\\n00:03:13,610 --> 00:03:14,945\\r\\n[Nikki] Yeah.\\r\\n\\r\\n61\\r\\n00:03:16,113 --> 00:03:18,156\\r\\nDid they not just feel\\r\\nlike the ones though?\\r\\n\\r\\n62\\r\\n00:03:22,536 --> 00:03:23,912\\r\\n-Can you not see there?\\r\\n-What?\\r\\n\\r\\n63\\r\\n00:03:23,996 --> 00:03:25,372\\r\\nCan you not see them? There, there. Look.\\r\\n\\r\\n64\\r\\n00:03:25,455 --> 00:03:27,499\\r\\n-What? Here?\\r\\n-In the distance, there. Our kids. Look.\\r\\n\\r\\n65\\r\\n00:03:28,333 --> 00:03:29,418\\r\\nCan\\'t you see them?\\r\\n\\r\\n66\\r\\n00:03:30,669 --> 00:03:31,712\\r\\nNo.\\r\\n\\r\\n67\\r\\n00:03:32,713 --> 00:03:34,882\\r\\nOh. That\\'s because you\\'re very short.\\r\\n\\r\\n68\\r\\n00:03:34,965 --> 00:03:37,301\\r\\n-[chuckles] Oh, is that why?\\r\\n-So-- Yeah.\\r\\n\\r\\n69\\r\\n00:03:37,384 --> 00:03:39,386\\r\\nSo you can\\'t see over the horizon.\\r\\n\\r\\n70\\r\\n00:03:39,469 --> 00:03:40,429\\r\\n-Look.\\r\\n-Oh!\\r\\n\\r\\n71\\r\\n00:03:40,512 --> 00:03:42,139\\r\\nWhoop! [chuckles]\\r\\n\\r\\n72\\r\\n00:03:43,348 --> 00:03:44,558\\r\\nCan you see them now?\\r\\n\\r\\n73\\r\\n00:03:45,684 --> 00:03:48,020\\r\\n-Yeah. I can.\\r\\n-Yeah? What do you reckon?\\r\\n\\r\\n74\\r\\n00:03:48,729 --> 00:03:50,731\\r\\n-They\\'re very cute.\\r\\n-They\\'re lovely, ain\\'t they?\\r\\n\\r\\n75\\r\\n00:03:51,690 --> 00:03:53,233\\r\\n-Huh?\\r\\n-Yeah.\\r\\n\\r\\n76\\r\\n00:03:55,986 --> 00:03:56,987\\r\\nHmm.\\r\\n\\r\\n77\\r\\n00:03:58,989 --> 00:04:00,616\\r\\nI quite like it up here, you know?\\r\\n\\r\\n78\\r\\n00:04:01,950 --> 00:04:03,493\\r\\nCan you not carry me around all day?\\r\\n\\r\\n79\\r\\n00:04:03,577 --> 00:04:05,162\\r\\n-[sighs] No.\\r\\n-Why? Aw, why?\\r\\n\\r\\n80\\r\\n00:04:05,245 --> 00:04:07,372\\r\\n-You\\'re actually heavier than you look.\\r\\n-Well, you\\'re cheeky.\\r\\n\\r\\n81\\r\\n00:04:07,456 --> 00:04:08,540\\r\\n-Oi.\\r\\n-[gasps] What?\\r\\n\\r\\n82\\r\\n00:04:08,624 --> 00:04:10,876\\r\\n-Mrs. Manager. [laughs]\\r\\n-[gasps] I know!\\r\\n\\r\\n83\\r\\n00:04:10,959 --> 00:04:12,377\\r\\n-I know. Yeah.\\r\\n-All right, I tell you what then.\\r\\n\\r\\n84\\r\\n00:04:12,461 --> 00:04:14,588\\r\\nShow me your best manager point.\\r\\n\\r\\n85\\r\\n00:04:14,671 --> 00:04:15,881\\r\\n-Oh, that\\'s easy.\\r\\n-Okay.\\r\\n\\r\\n86\\r\\n00:04:17,089 --> 00:04:19,801\\r\\n-Huh, okay. Hmm.\\r\\n-Jase, that\\'s really good pointing.\\r\\n\\r\\n87\\r\\n00:04:19,885 --> 00:04:22,012\\r\\nNo. You\\'ve gone a bit disco there.\\r\\nYou\\'ve gone a little bit--\\r\\n\\r\\n88\\r\\n00:04:22,095 --> 00:04:23,222\\r\\nlittle bit Saturday Night Fever.\\r\\n\\r\\n89\\r\\n00:04:23,305 --> 00:04:24,389\\r\\nRight, you wanna trust me.\\r\\n\\r\\n90\\r\\n00:04:24,473 --> 00:04:26,308\\r\\n-Yeah?\\r\\n-I\\'ve been a manager for six weeks, okay?\\r\\n\\r\\n91\\r\\n00:04:26,391 --> 00:04:28,185\\r\\n-Oh, so you know.\\r\\n-So, it\\'s more like this.\\r\\n\\r\\n92\\r\\n00:04:28,268 --> 00:04:29,895\\r\\n-All right, hmm. Yeah.\\r\\n-Oh, turning. Hmm, okay.\\r\\n\\r\\n93\\r\\n00:04:29,978 --> 00:04:32,231\\r\\nIt\\'s your turn. Yeah, nearly. Ready?\\r\\n\\r\\n94\\r\\n00:04:32,314 --> 00:04:33,607\\r\\n-Okay.\\r\\n-[imitates whip sound]\\r\\n\\r\\n95\\r\\n00:04:34,107 --> 00:04:35,776\\r\\n-[imitates whip sound]\\r\\n-[Jason] Wow.\\r\\n\\r\\n96\\r\\n00:04:36,318 --> 00:04:37,694\\r\\nYou\\'re ready.\\r\\n\\r\\n97\\r\\n00:04:38,403 --> 00:04:41,198\\r\\n-You\\'re good to go.\\r\\n-[sighs]\\r\\n\\r\\n98\\r\\n00:04:49,831 --> 00:04:50,666\\r\\nHere you go.\\r\\n\\r\\n99\\r\\n00:04:50,749 --> 00:04:51,750\\r\\nThanks.\\r\\n\\r\\n100\\r\\n00:04:54,962 --> 00:04:56,129\\r\\nWhere did you go?\\r\\n\\r\\n101\\r\\n00:04:56,922 --> 00:04:58,131\\r\\nMy mum\\'s.\\r\\n\\r\\n102\\r\\n00:04:59,424 --> 00:05:03,220\\r\\nLook, I\\'m sorry.\\r\\nIt just-- It wasn\\'t right.\\r\\n\\r\\n103\\r\\n00:05:05,097 --> 00:05:07,850\\r\\nSo I am being dismissed by Miss Newman?\\r\\n\\r\\n104\\r\\n00:05:07,933 --> 00:05:09,810\\r\\nWell, it should never have happened.\\r\\n\\r\\n105\\r\\n00:05:09,893 --> 00:05:11,061\\r\\nIt didn\\'t happen.\\r\\n\\r\\n106\\r\\n00:05:11,562 --> 00:05:13,397\\r\\nYou\\'re ending an affair\\r\\nthat never started.\\r\\n\\r\\n107\\r\\n00:05:14,439 --> 00:05:17,442\\r\\n-Are you gonna be able to get over me?\\r\\n-Well...\\r\\n\\r\\n108\\r\\n00:05:18,485 --> 00:05:20,821\\r\\nAt least there\\'s drawings of you\\r\\nall over my house.\\r\\n\\r\\n109\\r\\n00:05:20,904 --> 00:05:22,322\\r\\n-[chuckles]\\r\\n-That\\'ll help.\\r\\n\\r\\n110\\r\\n00:05:23,490 --> 00:05:24,867\\r\\nIt\\'s a shame though.\\r\\n\\r\\n111\\r\\n00:05:24,950 --> 00:05:28,328\\r\\nI literally just decided you were worth\\r\\npissing off my parents for.\\r\\n\\r\\n112\\r\\n00:05:28,412 --> 00:05:29,454\\r\\n[chuckles]\\r\\n\\r\\n113\\r\\n00:05:30,747 --> 00:05:32,124\\r\\nOn the plus side,\\r\\n\\r\\n114\\r\\n00:05:32,207 --> 00:05:35,127\\r\\nI got a feeling Raina\\'s gonna get\\r\\na good end of term report.\\r\\n\\r\\n115\\r\\n00:05:35,210 --> 00:05:37,546\\r\\nUh, no. No, Deven.\\r\\n\\r\\n116\\r\\n00:05:37,629 --> 00:05:39,214\\r\\nThat is not how I do things.\\r\\n\\r\\n117\\r\\n00:05:40,090 --> 00:05:43,010\\r\\nAnd [stammers] she has\\r\\na few things to work on, so...\\r\\n\\r\\n118\\r\\n00:05:55,147 --> 00:05:56,148\\r\\nHiya.\\r\\n\\r\\n119\\r\\n00:05:58,192 --> 00:05:59,193\\r\\nScott?\\r\\n\\r\\n120\\r\\n00:06:39,441 --> 00:06:40,442\\r\\n[door slams]\\r\\n\\r\\n121\\r\\n00:06:42,986 --> 00:06:44,029\\r\\n[toilet flushes]\\r\\n\\r\\n122\\r\\n00:06:44,112 --> 00:06:45,113\\r\\nKaz?\\r\\n\\r\\n123\\r\\n00:06:45,989 --> 00:06:47,032\\r\\n[light switch flicks]\\r\\n\\r\\n124\\r\\n00:07:04,925 --> 00:07:07,219\\r\\n[Nikki] So, how come you needed an alibi?\\r\\nWhat was that about?\\r\\n\\r\\n125\\r\\n00:07:07,302 --> 00:07:10,180\\r\\nOh, it\\'s fine.\\r\\nIt was just a miscommunication thing.\\r\\n\\r\\n126\\r\\n00:07:10,264 --> 00:07:13,016\\r\\nYeah, but Karen,\\r\\nwho were you miscommunicating with though?\\r\\n\\r\\n127\\r\\n00:07:13,100 --> 00:07:14,685\\r\\nI\\'m sorry, but what is this?\\r\\n\\r\\n128\\r\\n00:07:14,768 --> 00:07:20,399\\r\\nOkay. I figured out what you\\'d love most\\r\\nby thinking what Erica would hate most.\\r\\n\\r\\n129\\r\\n00:07:20,482 --> 00:07:21,733\\r\\n[woman]\\r\\nI hope it\\'s got a bar. What a joke.\\r\\n\\r\\n130\\r\\n00:07:25,654 --> 00:07:27,239\\r\\nOh, my God.\\r\\n\\r\\n131\\r\\n00:07:28,282 --> 00:07:30,951\\r\\n-Oh, my God. I bloody love it! Yes!\\r\\n-Yes!\\r\\n\\r\\n132\\r\\n00:07:31,660 --> 00:07:33,412\\r\\n-You beauty!\\r\\n-Yeah.\\r\\n\\r\\n133\\r\\n00:07:33,912 --> 00:07:35,330\\r\\nHello there. Hi, are you in charge?\\r\\n\\r\\n134\\r\\n00:07:35,414 --> 00:07:37,165\\r\\nUh, is this what you thought it was?\\r\\n\\r\\n135\\r\\n00:07:37,249 --> 00:07:39,376\\r\\nYes, Mum! She\\'ll love it!\\r\\n\\r\\n136\\r\\n00:07:39,459 --> 00:07:42,462\\r\\n-Oh, okay. As long as you meant it.\\r\\n-Yeah.\\r\\n\\r\\n137\\r\\n00:07:44,590 --> 00:07:47,718\\r\\nOn our hens, we just used to\\r\\nhave a sherry and a little cry.\\r\\n\\r\\n138\\r\\n00:07:48,677 --> 00:07:50,304\\r\\nRight. Well, there\\'s absolutely no chance\\r\\n\\r\\n139\\r\\n00:07:50,387 --> 00:07:52,472\\r\\nof anyone putting their hand\\r\\ndown my top here, is there?\\r\\n\\r\\n140\\r\\n00:07:52,556 --> 00:07:54,183\\r\\nComplete waste of my time.\\r\\n\\r\\n141\\r\\n00:07:54,266 --> 00:07:56,810\\r\\n-I got a babysitter for this?\\r\\n-I got a wax.\\r\\n\\r\\n142\\r\\n00:07:56,894 --> 00:07:59,271\\r\\nWell, you\\'ll be more aerodynamic then,\\r\\nwon\\'t you?\\r\\n\\r\\n143\\r\\n00:08:05,444 --> 00:08:06,570\\r\\n[bartender] There we are.\\r\\n\\r\\n144\\r\\n00:08:07,821 --> 00:08:09,489\\r\\n[glasses thud]\\r\\n\\r\\n145\\r\\n00:08:09,573 --> 00:08:10,866\\r\\nHow long you been barbering, Yusuf?\\r\\n\\r\\n146\\r\\n00:08:10,949 --> 00:08:12,451\\r\\nEight years in Turkey.\\r\\n\\r\\n147\\r\\n00:08:12,534 --> 00:08:15,120\\r\\nFour years here. Not happy.\\r\\n\\r\\n148\\r\\n00:08:15,204 --> 00:08:16,330\\r\\nNo?\\r\\n\\r\\n149\\r\\n00:08:17,289 --> 00:08:18,665\\r\\nOh, okay.\\r\\n\\r\\n150\\r\\n00:08:19,249 --> 00:08:21,710\\r\\nBut, uh, thanks for coming.\\r\\n\\r\\n151\\r\\n00:08:21,793 --> 00:08:24,630\\r\\nNo, I want to.\\r\\nThings are not good at home.\\r\\n\\r\\n152\\r\\n00:08:24,713 --> 00:08:26,423\\r\\nOh. Oh.\\r\\n\\r\\n153\\r\\n00:08:27,758 --> 00:08:28,759\\r\\nWhat grade is that?\\r\\n\\r\\n154\\r\\n00:08:28,842 --> 00:08:31,178\\r\\n-Uh, it was a four, I think.\\r\\n-Ah, no. No, no, no.\\r\\n\\r\\n155\\r\\n00:08:31,261 --> 00:08:33,472\\r\\nIt makes your head look big, man.\\r\\nLike pumpkin.\\r\\n\\r\\n156\\r\\n00:08:33,554 --> 00:08:36,015\\r\\nOkay, good. I\\'m just gonna\\r\\nget some shots here, all right?\\r\\n\\r\\n157\\r\\n00:08:36,099 --> 00:08:38,727\\r\\nLet\\'s at least take our coats off.\\r\\nBloody hell, lads.\\r\\n\\r\\n158\\r\\n00:08:38,809 --> 00:08:43,190\\r\\nHello, mate. Can I, um,\\r\\nhave four shots of tequila, please?\\r\\n\\r\\n159\\r\\n00:08:43,273 --> 00:08:44,525\\r\\n[upbeat music playing]\\r\\n\\r\\n160\\r\\n00:08:58,330 --> 00:09:00,123\\r\\n-[phone ringing]\\r\\n-[sighs]\\r\\n\\r\\n161\\r\\n00:09:00,999 --> 00:09:03,001\\r\\nHello? No. Hold on.\\r\\n\\r\\n162\\r\\n00:09:03,085 --> 00:09:05,462\\r\\n-Hold on. Hold on.\\r\\n-[ringing continues]\\r\\n\\r\\n163\\r\\n00:09:07,089 --> 00:09:08,632\\r\\n-Yes.\\r\\n-[Jason] Hi, babe. It\\'s me.\\r\\n\\r\\n164\\r\\n00:09:08,715 --> 00:09:09,967\\r\\n-I need your help.\\r\\n-Why? What\\'s happened?\\r\\n\\r\\n165\\r\\n00:09:10,050 --> 00:09:13,303\\r\\nWell, [sighs] I\\'ve Jason\\'d it\\r\\nand I should\\'ve Nikki\\'d it.\\r\\n\\r\\n166\\r\\n00:09:13,387 --> 00:09:16,849\\r\\nAnd now it\\'s like the worst stag do ever\\r\\nand Scott seems really upset.\\r\\n\\r\\n167\\r\\n00:09:16,932 --> 00:09:19,101\\r\\nWell, [sighs] what do you want me\\r\\nto do about it?\\r\\n\\r\\n168\\r\\n00:09:19,184 --> 00:09:21,436\\r\\nCan we-- Can we have\\r\\none of your activities, please?\\r\\n\\r\\n169\\r\\n00:09:21,520 --> 00:09:23,272\\r\\n-No! They\\'re mine!\\r\\n-Oh, come on. [sighs]\\r\\n\\r\\n170\\r\\n00:09:23,355 --> 00:09:25,274\\r\\n-Where are-- Where are you now?\\r\\n-Go-karting.\\r\\n\\r\\n171\\r\\n00:09:25,357 --> 00:09:26,483\\r\\nGo-karting! That sounds amazing.\\r\\n\\r\\n172\\r\\n00:09:26,567 --> 00:09:28,235\\r\\nI\\'d love to go--\\r\\nWhere you going afterwards?\\r\\n\\r\\n173\\r\\n00:09:29,236 --> 00:09:30,529\\r\\nGraffiti workshop.\\r\\n\\r\\n174\\r\\n00:09:30,612 --> 00:09:32,239\\r\\nOkay, can we have\\r\\nthe graffiti workshop, please?\\r\\n\\r\\n175\\r\\n00:09:32,322 --> 00:09:33,866\\r\\nNo! We want graffiti.\\r\\n\\r\\n176\\r\\n00:09:33,949 --> 00:09:36,368\\r\\nLook, you\\'re going go-karting\\r\\nand then a graffiti workshop.\\r\\n\\r\\n177\\r\\n00:09:36,451 --> 00:09:38,328\\r\\nThat\\'s two arm things.\\r\\nYour arms are gonna get tired.\\r\\n\\r\\n178\\r\\n00:09:38,871 --> 00:09:41,039\\r\\n[sighs]\\r\\nOkay, fine. But you pay for graffiti.\\r\\n\\r\\n179\\r\\n00:09:41,123 --> 00:09:42,833\\r\\n-And another session here.\\r\\n-Yes.\\r\\n\\r\\n180\\r\\n00:09:42,916 --> 00:09:44,543\\r\\nThank you so much, Nikki. I love you.\\r\\n\\r\\n181\\r\\n00:09:44,626 --> 00:09:45,711\\r\\nOh, it\\'s booked for 11 people.\\r\\n\\r\\n182\\r\\n00:09:46,920 --> 00:09:49,339\\r\\nUh, well, that could-- that--\\r\\nthat could be a bit of a stretch, but...\\r\\n\\r\\n183\\r\\n00:09:49,423 --> 00:09:50,632\\r\\nOkay, bye.\\r\\n\\r\\n184\\r\\n00:09:51,425 --> 00:09:52,968\\r\\nAll right. We ready?\\r\\n\\r\\n185\\r\\n00:09:53,051 --> 00:09:56,388\\r\\n-Yes! [cheers]\\r\\n-[Nikki] Yeah? Come on. Whoo!\\r\\n\\r\\n186\\r\\n00:09:56,471 --> 00:09:57,472\\r\\nLet\\'s go.\\r\\n\\r\\n187\\r\\n00:09:57,556 --> 00:09:58,891\\r\\nCome on. Come on. [chuckles]\\r\\n\\r\\n188\\r\\n00:09:58,974 --> 00:09:59,850\\r\\nGo.\\r\\n\\r\\n189\\r\\n00:09:59,933 --> 00:10:01,226\\r\\n[horn blows]\\r\\n\\r\\n190\\r\\n00:10:01,310 --> 00:10:03,562\\r\\n[announcer] Okay, racers, we go on green.\\r\\n\\r\\n191\\r\\n00:10:03,645 --> 00:10:04,688\\r\\n[engines revving]\\r\\n\\r\\n192\\r\\n00:10:07,149 --> 00:10:08,567\\r\\nAre you ready, Mum?\\r\\n\\r\\n193\\r\\n00:10:08,650 --> 00:10:10,944\\r\\nShh! I\\'m in the zone, love!\\r\\n\\r\\n194\\r\\n00:10:11,028 --> 00:10:12,821\\r\\n[chuckles] All right.\\r\\n\\r\\n195\\r\\n00:10:15,115 --> 00:10:17,201\\r\\nOi! Why you being weird?\\r\\n\\r\\n196\\r\\n00:10:17,284 --> 00:10:18,368\\r\\nIt\\'s nothing.\\r\\n\\r\\n197\\r\\n00:10:18,452 --> 00:10:20,704\\r\\nOkay. Fine.\\r\\n\\r\\n198\\r\\n00:10:21,705 --> 00:10:23,790\\r\\n-I slept with Freddy.\\r\\n-What? Why?\\r\\n\\r\\n199\\r\\n00:10:23,874 --> 00:10:25,000\\r\\nI don\\'t wanna talk about it.\\r\\n\\r\\n200\\r\\n00:10:25,584 --> 00:10:26,668\\r\\nErica, what are you--\\r\\n\\r\\n201\\r\\n00:10:26,752 --> 00:10:28,003\\r\\n-Hey, Nikki.\\r\\n-What?\\r\\n\\r\\n202\\r\\n00:10:28,086 --> 00:10:30,422\\r\\n-I\\'m thinking of calling off the wedding.\\r\\n-What?\\r\\n\\r\\n203\\r\\n00:10:30,506 --> 00:10:31,548\\r\\n-[countdown beeps]\\r\\n-Karen!\\r\\n\\r\\n204\\r\\n00:10:31,632 --> 00:10:32,591\\r\\n[announcer] And we\\'re off.\\r\\n\\r\\n205\\r\\n00:10:32,674 --> 00:10:33,884\\r\\nKaren!\\r\\n\\r\\n206\\r\\n00:10:34,760 --> 00:10:36,803\\r\\nWait! Wait!\\r\\n\\r\\n207\\r\\n00:10:38,347 --> 00:10:40,432\\r\\nWait! Wait!\\r\\n\\r\\n208\\r\\n00:10:40,516 --> 00:10:41,391\\r\\n[grunts]\\r\\n\\r\\n209\\r\\n00:10:49,149 --> 00:10:52,194\\r\\nGraffiti, yeah?\\r\\nThe language of the disenfranchised.\\r\\n\\r\\n210\\r\\n00:10:52,277 --> 00:10:55,322\\r\\nRight, this one costs 69 quid a pop,\\r\\nso these lot are pretty franchised.\\r\\n\\r\\n211\\r\\n00:10:56,198 --> 00:10:57,574\\r\\nThanks for coming, Dad.\\r\\n\\r\\n212\\r\\n00:10:57,658 --> 00:10:59,660\\r\\nYour mum says I\\'ve got to do\\r\\none new thing every day\\r\\n\\r\\n213\\r\\n00:10:59,743 --> 00:11:02,412\\r\\nso if I do this,\\r\\nI don\\'t have to eat the moussaka.\\r\\n\\r\\n214\\r\\n00:11:03,622 --> 00:11:04,623\\r\\nThat\\'s the spirit.\\r\\n\\r\\n215\\r\\n00:11:09,336 --> 00:11:11,547\\r\\n[shouts]\\r\\n\\r\\n216\\r\\n00:11:13,715 --> 00:11:14,925\\r\\n[groans]\\r\\n\\r\\n217\\r\\n00:11:16,677 --> 00:11:18,262\\r\\nWhoo! [laughs]\\r\\n\\r\\n218\\r\\n00:11:18,929 --> 00:11:20,222\\r\\n[wheels skidding]\\r\\n\\r\\n219\\r\\n00:11:20,305 --> 00:11:22,182\\r\\nYeah! [laughs]\\r\\n\\r\\n220\\r\\n00:11:22,266 --> 00:11:23,559\\r\\nOh, for God\\'s sake.\\r\\n\\r\\n221\\r\\n00:11:29,523 --> 00:11:32,985\\r\\nWhoo-hoo! [chuckles] This is so fun!\\r\\n\\r\\n222\\r\\n00:11:33,068 --> 00:11:34,486\\r\\n[Nikki] What are you doing?\\r\\n\\r\\n223\\r\\n00:11:35,028 --> 00:11:36,071\\r\\nLook, it\\'s not what you think.\\r\\n\\r\\n224\\r\\n00:11:36,154 --> 00:11:38,866\\r\\nI slept with him as--\\r\\nas a father, not as a man.\\r\\n\\r\\n225\\r\\n00:11:38,949 --> 00:11:40,826\\r\\nAnd why you calling off the wedding?\\r\\n\\r\\n226\\r\\n00:11:40,909 --> 00:11:42,327\\r\\n-What?\\r\\n-I don\\'t know!\\r\\n\\r\\n227\\r\\n00:11:42,411 --> 00:11:43,495\\r\\nYou calling off the wedding?\\r\\n\\r\\n228\\r\\n00:11:43,579 --> 00:11:45,455\\r\\nYou\\'re calling off the wedding?\\r\\nCan I get changed?\\r\\n\\r\\n229\\r\\n00:11:45,539 --> 00:11:46,748\\r\\n-No!\\r\\n-Is it \\'cause of Deven?\\r\\n\\r\\n230\\r\\n00:11:46,832 --> 00:11:48,250\\r\\nAbsolutely not!\\r\\n\\r\\n231\\r\\n00:11:48,333 --> 00:11:50,460\\r\\n-[Nikki] Who\\'s Deven?\\r\\n-[announcer] And we\\'re off!\\r\\n\\r\\n232\\r\\n00:11:50,711 --> 00:11:52,838\\r\\nOh, God! Will you stop doing that?\\r\\n\\r\\n233\\r\\n00:11:55,424 --> 00:11:56,425\\r\\nBloody hell!\\r\\n\\r\\n234\\r\\n00:11:56,508 --> 00:11:58,927\\r\\n[\"Express Yourself\" playing]\\r\\n\\r\\n235\\r\\n00:12:00,387 --> 00:12:02,681\\r\\n[man] The theme today for you is love.\\r\\n\\r\\n236\\r\\n00:12:03,182 --> 00:12:05,559\\r\\nRemember, everyone, to follow your passion\\r\\n\\r\\n237\\r\\n00:12:05,642 --> 00:12:07,227\\r\\nand be free with your art.\\r\\n\\r\\n238\\r\\n00:12:07,311 --> 00:12:10,898\\r\\nBut also, remember, please,\\r\\nto put the lids back on the cans.\\r\\n\\r\\n239\\r\\n00:12:11,523 --> 00:12:13,358\\r\\nYou are having too many head thoughts.\\r\\n\\r\\n240\\r\\n00:12:13,442 --> 00:12:15,235\\r\\nYou need some gut thoughts.\\r\\n\\r\\n241\\r\\n00:12:15,319 --> 00:12:16,737\\r\\nListen to what it\\'s telling you.\\r\\n\\r\\n242\\r\\n00:12:16,820 --> 00:12:18,405\\r\\n-Just don\\'t overthink it.\\r\\n-Don\\'t overthink it.\\r\\n\\r\\n243\\r\\n00:12:23,160 --> 00:12:24,995\\r\\nBloody hell, that\\'s coming on,\\r\\ninnit, John?\\r\\n\\r\\n244\\r\\n00:12:25,370 --> 00:12:27,331\\r\\nIt\\'s getting there, Jason.\\r\\nIt\\'s getting there.\\r\\n\\r\\n245\\r\\n00:12:28,582 --> 00:12:31,376\\r\\nGrasmere looking down\\r\\nfrom Loughrigg Terrace.\\r\\n\\r\\n246\\r\\n00:12:31,460 --> 00:12:33,754\\r\\nYou avoid a lot of the mist\\r\\nyou get up at Castlerigg.\\r\\n\\r\\n247\\r\\n00:12:39,885 --> 00:12:40,928\\r\\nHow you getting on, Dad?\\r\\n\\r\\n248\\r\\n00:12:41,011 --> 00:12:42,679\\r\\nNah, I\\'ve lost it.\\r\\n\\r\\n249\\r\\n00:12:42,763 --> 00:12:44,723\\r\\n-It\\'s got away from me.\\r\\n-What is it, mate?\\r\\n\\r\\n250\\r\\n00:12:45,474 --> 00:12:46,475\\r\\nHarry and Meghan.\\r\\n\\r\\n251\\r\\n00:12:50,979 --> 00:12:53,232\\r\\n[music continues]\\r\\n\\r\\n252\\r\\n00:12:55,234 --> 00:12:56,401\\r\\nI have to tell you something.\\r\\n\\r\\n253\\r\\n00:12:57,528 --> 00:12:58,529\\r\\nAll right, go on then.\\r\\n\\r\\n254\\r\\n00:13:00,822 --> 00:13:01,823\\r\\nNah, don\\'t worry.\\r\\n\\r\\n255\\r\\n00:13:03,283 --> 00:13:05,619\\r\\nAll right. Good chat.\\r\\n\\r\\n256\\r\\n00:13:09,540 --> 00:13:10,791\\r\\n[Nikki] Karen!\\r\\n\\r\\n257\\r\\n00:13:10,874 --> 00:13:13,418\\r\\n-What you doing?\\r\\n-Would you just bloody talk to me?\\r\\n\\r\\n258\\r\\n00:13:13,502 --> 00:13:14,753\\r\\n-Pull over!\\r\\n-What? No!\\r\\n\\r\\n259\\r\\n00:13:14,837 --> 00:13:16,171\\r\\nKaren, pull over!\\r\\n\\r\\n260\\r\\n00:13:16,255 --> 00:13:17,339\\r\\nNo!\\r\\n\\r\\n261\\r\\n00:13:17,422 --> 00:13:19,842\\r\\n-Just stop, Karen! Pull over!\\r\\n-What you doing?\\r\\n\\r\\n262\\r\\n00:13:19,925 --> 00:13:21,593\\r\\n-Pull over now, Kare--\\r\\n-[grunts]\\r\\n\\r\\n263\\r\\n00:13:23,971 --> 00:13:26,098\\r\\n-Hey.\\r\\n-What\\'s going on?\\r\\n\\r\\n264\\r\\n00:13:26,765 --> 00:13:29,434\\r\\n-I found his wedding vows.\\r\\n-All right.\\r\\n\\r\\n265\\r\\n00:13:30,018 --> 00:13:31,603\\r\\nThey were from a template.\\r\\n\\r\\n266\\r\\n00:13:34,565 --> 00:13:35,607\\r\\nOkay.\\r\\n\\r\\n267\\r\\n00:13:37,067 --> 00:13:40,195\\r\\nThat\\'s all right.\\r\\nLoads of people use them.\\r\\n\\r\\n268\\r\\n00:13:40,279 --> 00:13:43,615\\r\\nWhat, those seven special words\\r\\nevery woman wants to hear?\\r\\n\\r\\n269\\r\\n00:13:43,699 --> 00:13:46,410\\r\\n\"My life changed on \\'enter date here.\\'\"\\r\\n\\r\\n270\\r\\n00:13:47,578 --> 00:13:49,913\\r\\nHe\\'s supposed to be a writer.\\r\\n\\r\\n271\\r\\n00:13:50,539 --> 00:13:52,916\\r\\nYeah, but he\\'s not a very good one, is he?\\r\\n\\r\\n272\\r\\n00:13:53,000 --> 00:13:55,043\\r\\nYeah.\\r\\nYeah, but that\\'s the thing, isn\\'t it?\\r\\n\\r\\n273\\r\\n00:13:55,127 --> 00:13:56,461\\r\\nHe thinks he is.\\r\\n\\r\\n274\\r\\n00:13:57,504 --> 00:13:59,882\\r\\nIf he\\'s not even self-aware,\\r\\nhow is he gonna be me-aware?\\r\\n\\r\\n275\\r\\n00:13:59,965 --> 00:14:00,799\\r\\n[Jilly] Watch out!\\r\\n\\r\\n276\\r\\n00:14:00,883 --> 00:14:01,967\\r\\nOof!\\r\\n\\r\\n277\\r\\n00:14:03,385 --> 00:14:04,887\\r\\nWhoo-hoo!\\r\\n\\r\\n278\\r\\n00:14:04,970 --> 00:14:06,180\\r\\n[Karen grunts] For God\\'s sake!\\r\\n\\r\\n279\\r\\n00:14:06,263 --> 00:14:07,389\\r\\nWhat\\'s going on?\\r\\n\\r\\n280\\r\\n00:14:07,723 --> 00:14:10,267\\r\\nWe are going to get a drink.\\r\\n\\r\\n281\\r\\n00:14:10,350 --> 00:14:12,227\\r\\n-[Amy] Finally. Right.\\r\\n-[Erica] Oh, thank God.\\r\\n\\r\\n282\\r\\n00:14:12,311 --> 00:14:13,478\\r\\n[Karen] Come on. Let\\'s go.\\r\\n\\r\\n283\\r\\n00:14:14,438 --> 00:14:18,358\\r\\nNo! No, guys. I didn\\'t plan for this.\\r\\n\\r\\n284\\r\\n00:14:19,151 --> 00:14:21,278\\r\\nIt\\'s not on the email!\\r\\n\\r\\n285\\r\\n00:14:22,029 --> 00:14:23,614\\r\\n[spraying]\\r\\n\\r\\n286\\r\\n00:14:36,335 --> 00:14:37,336\\r\\nIs it a satire?\\r\\n\\r\\n287\\r\\n00:14:38,337 --> 00:14:40,422\\r\\nNo. It\\'s just a unicorn in a hat.\\r\\n\\r\\n288\\r\\n00:14:45,969 --> 00:14:47,095\\r\\nHello, mate. You all right?\\r\\n\\r\\n289\\r\\n00:14:47,179 --> 00:14:48,180\\r\\nYeah.\\r\\n\\r\\n290\\r\\n00:14:50,098 --> 00:14:51,850\\r\\nNo. Actually, no, I\\'m not.\\r\\n\\r\\n291\\r\\n00:14:52,476 --> 00:14:53,685\\r\\nMate, I, um...\\r\\n\\r\\n292\\r\\n00:14:56,146 --> 00:14:57,564\\r\\nI slept with Erica.\\r\\n\\r\\n293\\r\\n00:14:58,982 --> 00:15:01,276\\r\\nAnd now I don\\'t know\\r\\nwhat to do about Harper.\\r\\n\\r\\n294\\r\\n00:15:03,820 --> 00:15:05,447\\r\\n-Right.\\r\\n-Yeah.\\r\\n\\r\\n295\\r\\n00:15:07,866 --> 00:15:09,493\\r\\n-So, what do you wanna do?\\r\\n-I don\\'t know.\\r\\n\\r\\n296\\r\\n00:15:10,202 --> 00:15:13,705\\r\\nI mean, she\\'s great,\\r\\nbut she\\'s not my wife.\\r\\n\\r\\n297\\r\\n00:15:15,082 --> 00:15:17,626\\r\\nMaybe you should get her\\r\\na card with that on it.\\r\\n\\r\\n298\\r\\n00:15:17,709 --> 00:15:19,002\\r\\n[chuckles] Sorry.\\r\\n\\r\\n299\\r\\n00:15:19,086 --> 00:15:20,587\\r\\nSorry. Go on.\\r\\n\\r\\n300\\r\\n00:15:21,338 --> 00:15:25,509\\r\\nSeriously. Maybe if we gave it time,\\r\\nwe could really be something.\\r\\n\\r\\n301\\r\\n00:15:25,592 --> 00:15:28,262\\r\\nYeah, but, Freddy, do you not think\\r\\nyou maybe want it to be something\\r\\n\\r\\n302\\r\\n00:15:28,345 --> 00:15:31,348\\r\\nso then you haven\\'t, you know,\\r\\nleft your wife and kids for nothing?\\r\\n\\r\\n303\\r\\n00:15:31,431 --> 00:15:32,599\\r\\nDo you think I love her?\\r\\n\\r\\n304\\r\\n00:15:32,683 --> 00:15:34,518\\r\\nI don\\'t. No.\\r\\n\\r\\n305\\r\\n00:15:34,601 --> 00:15:36,353\\r\\n\\'Cause I-I don\\'t think\\r\\nthat that is what love is.\\r\\n\\r\\n306\\r\\n00:15:36,436 --> 00:15:38,897\\r\\n-So, what is it then?\\r\\n-I don\\'t know. It\\'s not that, is it?\\r\\n\\r\\n307\\r\\n00:15:38,981 --> 00:15:41,483\\r\\nIt\\'s-- It\\'s, uh-- It\\'s-- It\\'s peace.\\r\\n\\r\\n308\\r\\n00:15:42,025 --> 00:15:43,610\\r\\nUh, you know when a-- a sound\\r\\n\\r\\n309\\r\\n00:15:43,694 --> 00:15:46,154\\r\\nthat you didn\\'t know was there\\r\\nsuddenly stops, right?\\r\\n\\r\\n310\\r\\n00:15:46,238 --> 00:15:49,616\\r\\nAnd then you get this second\\r\\nof, like, exquisite peace.\\r\\n\\r\\n311\\r\\n00:15:51,368 --> 00:15:53,078\\r\\nYeah? It\\'s like that.\\r\\n\\r\\n312\\r\\n00:15:53,954 --> 00:15:55,330\\r\\nBut all the time.\\r\\n\\r\\n313\\r\\n00:15:57,082 --> 00:15:59,334\\r\\nOr maybe I\\'m just high\\r\\noff whatever\\'s in these cans.\\r\\n\\r\\n314\\r\\n00:16:04,298 --> 00:16:07,176\\r\\n[Freddy] Is that what that is then? Peace?\\r\\n\\r\\n315\\r\\n00:16:07,718 --> 00:16:08,719\\r\\nNo.\\r\\n\\r\\n316\\r\\n00:16:10,304 --> 00:16:12,306\\r\\nThat\\'s because I don\\'t know\\r\\nwhere I end and she begins.\\r\\n\\r\\n317\\r\\n00:16:15,517 --> 00:16:18,145\\r\\nI mean, it hasn\\'t totally come together\\r\\nas I would\\'ve hoped.\\r\\n\\r\\n318\\r\\n00:16:20,981 --> 00:16:24,401\\r\\n[\"Panic Room\" playing]\\r\\n\\r\\n319\\r\\n00:16:27,487 --> 00:16:28,989\\r\\nDo you wanna talk about it? Or--\\r\\n\\r\\n320\\r\\n00:16:29,072 --> 00:16:32,201\\r\\nNo, I just need some time\\r\\nto think about things.\\r\\n\\r\\n321\\r\\n00:16:32,284 --> 00:16:33,535\\r\\nOkay.\\r\\n\\r\\n322\\r\\n00:16:34,119 --> 00:16:36,455\\r\\nDo you think that-- that\\'s gonna be\\r\\nmore or less than a week?\\r\\n\\r\\n323\\r\\n00:16:36,538 --> 00:16:38,457\\r\\nYou know, because obviously that--\\r\\nthat\\'s when the wedding is--\\r\\n\\r\\n324\\r\\n00:16:38,540 --> 00:16:40,542\\r\\nOh, I don\\'t know, Nikki.\\r\\n\\r\\n325\\r\\n00:16:41,793 --> 00:16:42,794\\r\\n[sighs]\\r\\n\\r\\n326\\r\\n00:16:44,546 --> 00:16:47,424\\r\\nYou know how sometimes\\r\\nyou see a bright star better\\r\\n\\r\\n327\\r\\n00:16:47,508 --> 00:16:48,842\\r\\nif you look away slightly?\\r\\n\\r\\n328\\r\\n00:16:49,927 --> 00:16:51,512\\r\\nI think Scott is like that.\\r\\n\\r\\n329\\r\\n00:16:52,095 --> 00:16:55,641\\r\\nSo I\\'m just gonna look away for a bit\\r\\nand then look back really quickly,\\r\\n\\r\\n330\\r\\n00:16:55,724 --> 00:16:57,184\\r\\nand I will see it all.\\r\\n\\r\\n331\\r\\n00:16:59,144 --> 00:17:01,021\\r\\n-Yeah, I\\'ve seen your wrist.\\r\\n-Okay.\\r\\n\\r\\n332\\r\\n00:17:01,104 --> 00:17:03,023\\r\\n-Wristband?\\r\\n-We going to the pub.\\r\\n\\r\\n333\\r\\n00:17:03,106 --> 00:17:04,107\\r\\nAll right, good.\\r\\n\\r\\n334\\r\\n00:17:04,191 --> 00:17:06,026\\r\\n-Hi!\\r\\n-[Jilly] Thank you.\\r\\n\\r\\n335\\r\\n00:17:11,448 --> 00:17:14,576\\r\\nThese last few months have been so great.\\r\\n\\r\\n336\\r\\n00:17:14,660 --> 00:17:19,623\\r\\nI just think that you are this amazing\\r\\nand courageous person.\\r\\n\\r\\n337\\r\\n00:17:19,705 --> 00:17:23,042\\r\\nAnd you live so bravely and so boldly.\\r\\n\\r\\n338\\r\\n00:17:23,126 --> 00:17:25,503\\r\\nAnd when you laugh--\\r\\nWhen you laugh, it\\'s this full--\\r\\n\\r\\n339\\r\\n00:17:25,587 --> 00:17:27,964\\r\\nIf you\\'re gonna break up with me,\\r\\ndo you wanna just--\\r\\n\\r\\n340\\r\\n00:17:28,048 --> 00:17:31,426\\r\\n\\'Cause this is seriously an insane\\r\\namount of time to talk at a person.\\r\\n\\r\\n341\\r\\n00:17:33,011 --> 00:17:34,054\\r\\nOkay.\\r\\n\\r\\n342\\r\\n00:17:34,888 --> 00:17:37,349\\r\\nUh, okay. Well, then, um,\\r\\n\\r\\n343\\r\\n00:17:38,141 --> 00:17:42,145\\r\\nI think it would be for the best\\r\\nif we broke up.\\r\\n\\r\\n344\\r\\n00:17:42,229 --> 00:17:43,772\\r\\n-But I hope you\\'re not...\\r\\n-Okay.\\r\\n\\r\\n345\\r\\n00:17:44,815 --> 00:17:45,899\\r\\n...too upset.\\r\\n\\r\\n346\\r\\n00:17:45,983 --> 00:17:46,984\\r\\nClearly not.\\r\\n\\r\\n347\\r\\n00:17:47,067 --> 00:17:48,151\\r\\nHave you seen Scott?\\r\\n\\r\\n348\\r\\n00:17:48,777 --> 00:17:50,529\\r\\n-What?\\r\\n-Have you seen Scott?\\r\\n\\r\\n349\\r\\n00:17:50,612 --> 00:17:51,613\\r\\nUm...\\r\\n\\r\\n350\\r\\n00:17:52,030 --> 00:17:53,031\\r\\nNo.\\r\\n\\r\\n351\\r\\n00:17:59,329 --> 00:18:02,332\\r\\n[\"Regardless\" playing]\\r\\n\\r\\n352\\r\\n00:18:07,254 --> 00:18:08,255\\r\\n[Nikki] Kaz?\\r\\n\\r\\n353\\r\\n00:18:12,968 --> 00:18:14,678\\r\\nOh, yeah, no, it\\'s sticky.\\r\\n\\r\\n354\\r\\n00:18:17,347 --> 00:18:18,348\\r\\nHmm.\\r\\n\\r\\n355\\r\\n00:18:21,185 --> 00:18:24,188\\r\\nI\\'m trying to look back and see it all.\\r\\n\\r\\n356\\r\\n00:18:24,271 --> 00:18:25,272\\r\\nYeah?\\r\\n\\r\\n357\\r\\n00:18:26,356 --> 00:18:27,357\\r\\nBut I can\\'t.\\r\\n\\r\\n358\\r\\n00:18:27,441 --> 00:18:29,443\\r\\nMaybe it\\'ll come when you least expect it.\\r\\n\\r\\n359\\r\\n00:18:29,526 --> 00:18:31,612\\r\\n-Yeah.\\r\\n-Yeah. Come here.\\r\\n\\r\\n360\\r\\n00:18:40,162 --> 00:18:42,164\\r\\nHow does Jason make you feel?\\r\\n\\r\\n361\\r\\n00:18:42,247 --> 00:18:44,208\\r\\nOh, I don\\'t know, Kaz.\\r\\n\\r\\n362\\r\\n00:18:44,291 --> 00:18:45,667\\r\\nCome on.\\r\\n\\r\\n363\\r\\n00:18:49,463 --> 00:18:52,925\\r\\nSo much noise going around my head.\\r\\n\\r\\n364\\r\\n00:18:53,842 --> 00:18:55,093\\r\\nAbout everything.\\r\\n\\r\\n365\\r\\n00:18:56,386 --> 00:18:59,723\\r\\nTook me three months to decide\\r\\nwhether to buy these shoes. [chuckles]\\r\\n\\r\\n366\\r\\n00:19:00,474 --> 00:19:02,392\\r\\nI went into the shop seven times.\\r\\n\\r\\n367\\r\\n00:19:02,976 --> 00:19:05,812\\r\\nBecame friends with the assistant.\\r\\nI went to see her band play.\\r\\n\\r\\n368\\r\\n00:19:05,896 --> 00:19:07,231\\r\\n[both chuckle]\\r\\n\\r\\n369\\r\\n00:19:09,608 --> 00:19:12,402\\r\\nI doubt every decision I make.\\r\\n\\r\\n370\\r\\n00:19:13,695 --> 00:19:18,075\\r\\nAll these questions\\r\\njust swirl around in my head.\\r\\n\\r\\n371\\r\\n00:19:19,576 --> 00:19:21,537\\r\\nExcept with him.\\r\\n\\r\\n372\\r\\n00:19:22,204 --> 00:19:24,039\\r\\nWith him, when I met him...\\r\\n\\r\\n373\\r\\n00:19:26,834 --> 00:19:28,836\\r\\nAll the questions just stopped.\\r\\n\\r\\n374\\r\\n00:19:30,379 --> 00:19:33,298\\r\\nAnd now I just--\\r\\nI-I can\\'t imagine him not being there.\\r\\n\\r\\n375\\r\\n00:19:38,136 --> 00:19:39,638\\r\\nIf Scott wasn\\'t there...\\r\\n\\r\\n376\\r\\n00:19:42,724 --> 00:19:43,934\\r\\nHow would I feel?\\r\\n\\r\\n377\\r\\n00:19:48,105 --> 00:19:49,439\\r\\nI don\\'t know, Kaz.\\r\\n\\r\\n378\\r\\n00:19:56,113 --> 00:19:57,155\\r\\n[sighs]\\r\\n\\r\\n379\\r\\n00:20:03,161 --> 00:20:04,288\\r\\n[sighs]\\r\\n\\r\\n380\\r\\n00:20:15,716 --> 00:20:16,884\\r\\nWhite wine, please.\\r\\n\\r\\n381\\r\\n00:20:34,234 --> 00:20:36,570\\r\\n-[dance music playing]\\r\\n-[chattering]\\r\\n\\r\\n382\\r\\n00:20:38,447 --> 00:20:40,449\\r\\n[Erica] That\\'s Lauren. She\\'s nine.\\r\\n\\r\\n383\\r\\n00:20:40,866 --> 00:20:43,535\\r\\n-Oh, my God. Look at them.\\r\\n-[chuckles]\\r\\n\\r\\n384\\r\\n00:20:43,619 --> 00:20:44,912\\r\\nThey\\'re so cute.\\r\\n\\r\\n385\\r\\n00:20:44,995 --> 00:20:46,288\\r\\nI know.\\r\\n\\r\\n386\\r\\n00:20:46,371 --> 00:20:51,043\\r\\nThey just grow up so slowly.\\r\\n\\r\\n387\\r\\n00:20:53,003 --> 00:20:54,922\\r\\nHas anyone seen Karen?\\r\\n\\r\\n388\\r\\n00:20:55,005 --> 00:20:56,173\\r\\n-Huh?\\r\\n-Karen.\\r\\n\\r\\n389\\r\\n00:20:56,256 --> 00:20:57,090\\r\\nNo.\\r\\n\\r\\n390\\r\\n00:20:57,174 --> 00:20:59,134\\r\\n[phone ringing]\\r\\n\\r\\n391\\r\\n00:21:14,107 --> 00:21:15,150\\r\\nScott.\\r\\n\\r\\n392\\r\\n00:21:26,995 --> 00:21:27,996\\r\\nScott?\\r\\n\\r\\n393\\r\\n00:21:31,708 --> 00:21:32,960\\r\\n[sighs]\\r\\n\\r\\n394\\r\\n00:21:33,544 --> 00:21:34,962\\r\\nScott, are you here?\\r\\n\\r\\n395\\r\\n00:21:37,089 --> 00:21:38,841\\r\\nOh, God, no.\\r\\n\\r\\n396\\r\\n00:21:38,924 --> 00:21:39,842\\r\\nOh, my God.\\r\\n\\r\\n397\\r\\n00:21:39,925 --> 00:21:42,553\\r\\n[stammers, pants]\\r\\n\\r\\n398\\r\\n00:21:44,471 --> 00:21:46,598\\r\\nGod. [breathes heavily]\\r\\n\\r\\n399\\r\\n00:21:46,682 --> 00:21:48,392\\r\\nOh, Jesus Christ.\\r\\n\\r\\n400\\r\\n00:21:48,475 --> 00:21:50,310\\r\\n[Scott] It was in a box in the garage.\\r\\n\\r\\n401\\r\\n00:21:50,394 --> 00:21:52,354\\r\\nSorry, looking everywhere.\\r\\n\\r\\n402\\r\\n00:21:53,272 --> 00:21:54,940\\r\\n-For what?\\r\\n-[sighs]\\r\\n\\r\\n403\\r\\n00:21:58,068 --> 00:22:00,612\\r\\n[gasping]\\r\\n\\r\\n404\\r\\n00:22:04,032 --> 00:22:05,617\\r\\n[gasps] I--\\r\\n\\r\\n405\\r\\n00:22:05,701 --> 00:22:08,453\\r\\n[chuckles] I thought you\\'d left.\\r\\n\\r\\n406\\r\\n00:22:09,371 --> 00:22:10,539\\r\\nNo.\\r\\n\\r\\n407\\r\\n00:22:10,622 --> 00:22:12,791\\r\\nNo. Here I be.\\r\\n\\r\\n408\\r\\n00:22:13,292 --> 00:22:15,669\\r\\n[chuckles] Come here.\\r\\n\\r\\n409\\r\\n00:22:19,715 --> 00:22:20,716\\r\\n[sighs]\\r\\n\\r\\n410\\r\\n00:22:21,300 --> 00:22:22,384\\r\\nEverything okay?\\r\\n\\r\\n411\\r\\n00:22:23,051 --> 00:22:24,178\\r\\nYeah, yeah.\\r\\n\\r\\n412\\r\\n00:22:26,555 --> 00:22:28,682\\r\\nIt\\'s just been really noisy tonight.\\r\\n\\r\\n413\\r\\n00:22:30,893 --> 00:22:32,227\\r\\nThe peace is nice.\\r\\n\\r\\n414\\r\\n00:22:36,398 --> 00:22:37,482\\r\\nListen, I, um...\\r\\n\\r\\n415\\r\\n00:22:39,151 --> 00:22:43,655\\r\\nI wanted to thank you\\r\\nfor putting up with, uh...\\r\\n\\r\\n416\\r\\n00:22:45,199 --> 00:22:46,658\\r\\nYou know, all of this.\\r\\n\\r\\n417\\r\\n00:22:49,328 --> 00:22:50,454\\r\\nWhat do you mean?\\r\\n\\r\\n418\\r\\n00:22:51,455 --> 00:22:54,249\\r\\nWell, I know\\r\\nthat I\\'m not everybody\\'s cup of tea.\\r\\n\\r\\n419\\r\\n00:22:54,333 --> 00:22:55,542\\r\\nDon\\'t say that.\\r\\n\\r\\n420\\r\\n00:22:56,418 --> 00:22:58,545\\r\\nKaz, there were three people\\r\\nat my stag do.\\r\\n\\r\\n421\\r\\n00:22:59,922 --> 00:23:03,133\\r\\nI might not be the most self-aware person\\r\\nin the world, but I know how to count.\\r\\n\\r\\n422\\r\\n00:23:04,885 --> 00:23:05,969\\r\\n[sighs]\\r\\n\\r\\n423\\r\\n00:23:06,053 --> 00:23:07,095\\r\\nAnd it\\'s fine. I get it.\\r\\n\\r\\n424\\r\\n00:23:07,179 --> 00:23:10,432\\r\\n-I mean, I am a joke to most people.\\r\\n-You--\\r\\n\\r\\n425\\r\\n00:23:10,516 --> 00:23:12,684\\r\\nOh, I mean, it\\'s--\\r\\nYou know, I\\'m pretentious.\\r\\n\\r\\n426\\r\\n00:23:12,768 --> 00:23:16,230\\r\\nI use big, fancy words\\r\\nwhen they\\'re not strictly perimetric,\\r\\n\\r\\n427\\r\\n00:23:16,313 --> 00:23:19,149\\r\\nbut I look at you...\\r\\n\\r\\n428\\r\\n00:23:21,568 --> 00:23:23,779\\r\\nAnd I think, \"I can\\'t be that bad, can I?\"\\r\\n\\r\\n429\\r\\n00:23:24,988 --> 00:23:26,031\\r\\nIf you\\'re with me.\\r\\n\\r\\n430\\r\\n00:23:29,868 --> 00:23:31,370\\r\\nI know how lucky I am.\\r\\n\\r\\n431\\r\\n00:23:39,795 --> 00:23:43,048\\r\\nI\\'ve been making\\r\\nsome bad choices recently,\\r\\n\\r\\n432\\r\\n00:23:43,131 --> 00:23:44,716\\r\\nand I really think we need\\r\\nto talk about it.\\r\\n\\r\\n433\\r\\n00:23:44,800 --> 00:23:46,385\\r\\n[stammers] You don\\'t have-- It\\'s--\\r\\n\\r\\n434\\r\\n00:23:47,302 --> 00:23:49,263\\r\\nI think that would be supererogatory.\\r\\n\\r\\n435\\r\\n00:23:57,354 --> 00:23:58,355\\r\\nOh.\\r\\n\\r\\n436\\r\\n00:24:01,149 --> 00:24:02,401\\r\\nWhat does that mean?\\r\\n\\r\\n437\\r\\n00:24:03,694 --> 00:24:05,696\\r\\n-All right?\\r\\n-Yeah, she\\'s home.\\r\\n\\r\\n438\\r\\n00:24:06,905 --> 00:24:09,575\\r\\n-What\\'s she gonna do?\\r\\n-I don\\'t-- I don\\'t know, Jase.\\r\\n\\r\\n439\\r\\n00:24:11,577 --> 00:24:14,413\\r\\nTonight, I was Karen and she was me,\\r\\n\\r\\n440\\r\\n00:24:14,496 --> 00:24:17,207\\r\\nand I\\'m gonna have to start being\\r\\na lot nicer to her,\\r\\n\\r\\n441\\r\\n00:24:17,291 --> 00:24:19,751\\r\\nbecause it is much harder than it looks.\\r\\n\\r\\n442\\r\\n00:24:22,713 --> 00:24:23,755\\r\\nAre we okay?\\r\\n\\r\\n443\\r\\n00:24:24,423 --> 00:24:25,424\\r\\nYeah.\\r\\n\\r\\n444\\r\\n00:24:28,510 --> 00:24:29,511\\r\\nNo.\\r\\n\\r\\n445\\r\\n00:24:31,680 --> 00:24:32,931\\r\\nBut we will be.\\r\\n\\r\\n446\\r\\n00:24:33,765 --> 00:24:34,766\\r\\nWe always are.\\r\\n\\r\\n447\\r\\n00:24:34,850 --> 00:24:36,768\\r\\nYeah. We always are.\\r\\n\\r\\n448\\r\\n00:24:37,394 --> 00:24:38,562\\r\\n[sighs]\\r\\n\\r\\n449\\r\\n00:24:40,647 --> 00:24:42,482\\r\\nWill you lift me up again, please?\\r\\n\\r\\n450\\r\\n00:24:45,944 --> 00:24:46,987\\r\\nGo on then.\\r\\n\\r\\n451\\r\\n00:24:48,572 --> 00:24:50,324\\r\\n-Whoop! [chuckles]\\r\\n-[grunts]\\r\\n\\r\\n452\\r\\n00:24:53,202 --> 00:24:54,953\\r\\n-It\\'s peaceful.\\r\\n-Yeah.\\r\\n\\r\\n453\\r\\n00:24:55,829 --> 00:24:57,581\\r\\n[soothing music playing]\\r\\n\\r\\n454\\r\\n00:24:58,999 --> 00:25:01,084\\r\\nDon\\'t forget you still\\r\\nowe me for graffiti.\\r\\n\\r\\n455\\r\\n00:25:01,168 --> 00:25:03,003\\r\\nWhat? Are you really gonna\\r\\ncharge me for that?\\r\\n\\r\\n456\\r\\n00:25:03,086 --> 00:25:04,713\\r\\nYeah, of course I am.\\r\\n\\r\\n457\\r\\n00:25:17,768 --> 00:25:19,978\\r\\n-Oh.\\r\\n-[cheers]\\r\\n\\r\\n458\\r\\n00:25:32,950 --> 00:25:34,618\\r\\n-Okay. [laughs]\\r\\n-[screams] In the water!\\r\\n\\r\\n459\\r\\n00:25:34,701 --> 00:25:37,454\\r\\n-No! [laughs]\\r\\n-[cheers]\\r\\n\\r\\n460\\r\\n00:25:38,038 --> 00:25:39,540\\r\\n-Can we go home?\\r\\n-Yes, please.\\r\\n\\r\\n461\\r\\n00:25:40,832 --> 00:25:43,168\\r\\n[song continues]\\r\\n\\r\\n462\\r\\n00:26:05,315 --> 00:26:07,526\\r\\nTwenty, 40, 60... [continues indistinctly]\\r\\n\\r\\n463\\r\\n00:26:10,529 --> 00:26:11,738\\r\\nYeah, and the rest.\\r\\n\\r\\n464\\r\\n00:26:12,739 --> 00:26:14,241\\r\\nThank you. There.\\r\\n\\r\\n465\\r\\n00:26:19,204 --> 00:26:20,747\\r\\n[song continues]\\r\\n\\r\\n466\\r\\n00:27:00,120 --> 00:27:01,455\\r\\n[song fades]\\r\\n\\r\\n466\\r\\n00:27:02,305 --> 00:28:02,931\\r\\nWatch any video online with Open-SUBTITLES\\r\\nFree Browser extension: osdb.link/ext\\r\\n'"
      ]
     },
     "execution_count": 145,
     "metadata": {},
     "output_type": "execute_result"
    }
   ],
   "source": [
    "df_total['decoded_content'][21]"
   ]
  },
  {
   "cell_type": "code",
   "execution_count": null,
   "metadata": {},
   "outputs": [],
   "source": [
    "# for i in range(0,1):\n",
    "#     df_loc = \"/root/Enhanced_Search_Engine_For_Audio_Subtitles/research/dataframe_pickle_files/df_\" + str(i) + \".pkl\"\n",
    "#     df = pd.read_pickle(df_loc)\n",
    "#     loader = DataFrameLoader(df, page_content_column='decoded_content')\n",
    "#     data  = loader.load()\n",
    "#     doc_contents = [doc.page_content for doc in data]\n",
    "#     meta_datas = [doc.metadata for doc in data]\n",
    "#     chunks = text_splitter.create_documents(doc_contents, meta_datas)\n",
    "#     print(\"Type of variable:\", type(chunks))\n",
    "#     print()\n",
    "#     print(\"Type of each object inside the list:\", type(chunks[0]))\n",
    "#     print()\n",
    "#     print(\"Total number of documents inside list:\", len(chunks))\n",
    "#     print()\n",
    "#     print(\"* Content of first chunk:\", chunks[0])\n",
    "#     print()\n",
    "#     print(\"* Content of second chunk:\", chunks[1])\n",
    "#     embedded_docs = Parallel(n_jobs=-1)(delayed(embedding_gen)(chunk.page_content) for chunk in chunks)\n",
    "# df.head()"
   ]
  },
  {
   "cell_type": "code",
   "execution_count": 81,
   "metadata": {},
   "outputs": [],
   "source": [
    "query_1 = '''the mysteryof tansen\\'s tanpura begins with...the curse of the rudrabina?\"sarod, sitar, flute,santoor, shehnai...sarangi, rudrabina.\"nawab amanat khanhad gifted each of us a disc.is this a clue to findingtansen\\'s raga sanjivani?your singing and your workhas impressed us, naad.your singing is full of mystery.but it\\'s lifeless.you have to atone for the sinsof your ancestors, naad.will you accept me as your student?of course.do you still have your disc?\"in the heart of rudrapurlies a shiva lakewhen the discs are alignedand the notes are playedat twice the pace of timeraga sanjivani you shall find.\"was salamat unclemadanti\\'s descendant?you\\'re hiding somethingthis time too.mom!can you hear me?mom!tell me, bahadur.were salamat and noor...murdered?no matter what it takes...i will unravel this mystery.support us and become vip member to remove all ads from you...you\\'re noor\\'s father, bahadur?and all these years...you kept it a secret?lolit.you and saaz should leave.dangerous...they are dangerous.- what if something happens to you...- what will happen?what do i have to lose?take saaz and go away from here.bahadur.stay with us for a few days.it\\'s not safe for youto stay alone.you don\\'t have to worryabout me.won\\'t spare them.i won\\'t spare anyone.- bahadur.- lolit...curse of the rudrabinacurse of the rudrabinapart hey, where\\'s everyone?- upstairs.- oh.- all good?- yes.good morning.wow!everyone is here, huh.you?why are you here?to do my duty as a friend.lolit might not consider me his friend...but i consider him a friend.how can i not stand by himin times of need?your skin should be displayedin the museumfor rhinos and chameleons to see.hmm.everyone changes colour,pandit ranjan ghosh.you defamed me.that\\'s how you got the national music awardmeant for me.- now i know...- stop talking nonsense, hemanta.you?- you\\'re a disgrace to anandagarh.- hmm.there\\'s just one problem.you couldn\\'t prove it in court.you needed a better planto frame me.- hemanta.- yes?i\\'m really not in the mood.- please leave.- right.lolit, i know this was a big loss for you.but you can\\'t break down, my friend.hemanta, whatever i might be...i\\'m not a scoundrel like you.hmm.so, i don\\'t need your consolation.leave.you still misunderstand mefor that characterless woman?hey, cut the crap.why aren\\'t you throwing him out, dad?hemanta, go away!just leave.i better not see you here again.my goodness!so, everyone\\'s out to insult me.fine.i\\'ll leave if you want me to.all of you wronged rohini.but all the blame\\'s on me now?good.great!just a minute.nawab amanat khan had given youa discat your naming ceremony.do you have it?yes.why?can i take a look at it?just a look?you can keep it.i don\\'t need it anymore.alap...who do i have but you?how can i get the disc?it\\'s in my bag right now.come with me.he\\'s carrying it with him!well, look at that.you need my help, after all.hmm?come.i always carry this with me.it\\'s a gift from the great guru,after all.here you go.someone who can sellhis lover for money...can never value a precious gift.i don\\'t buy it.if you harm my mother againno one will be able to save youfrom me.hmmph!(inaudible)good morning, alap.hope you recognise me.this is the rudrabhairav.how long will it take?um...i\\'ll do it.i\\'ll fix up a date.don\\'t worry.confirm the show.yes.the job will be done.okay.show? you\\'re managing shows?hey, why are you lying?i\\'ve been noticing you.- i\\'m not...- you haven\\'t even been practising.don\\'t avoid me.why are you lying?wait.turn off the lights.the guards are not there.- come with me.- okay.come along.let\\'s go.have you checked properly?wait.let me go first.- let\\'s go.- come.this way.hurry up.this way.fast.where are you going?don\\'t you dare try this again, rohini.don\\'t forget, your son\\'s lifeis in my hands.take her back.- come on!- come.- come.- let me go.- come on!- moti! moti!hey, let me go!why are you here, gopal?naad has returned to anandagarh.why are you still here?i was on my way.i came here because of the ruckus.leave!and keep a close eye on naad.'''"
   ]
  },
  {
   "cell_type": "code",
   "execution_count": 102,
   "metadata": {},
   "outputs": [],
   "source": [
    "query_2 = \"IN THE NAME OF GOD THE MOST GRECEOUS THE MOST MERCIFUL FROM HOMA THE MESSENGEROBORD TO HERAPPEARS THE EMPEROR BYSENTIA GRICKINGS TO HIM WHO IS THE FOLLOWER OF RIGHTEOUS GUIDANCE I BID YOU TO HEAR THE DIVINE CALL AND THE MESSENGER OF GOD TO THE PEOPLE ACCEPT ISLAM FOR YOUR SALVATION HE SPEAKS OF A NEW PROFET IN ARABEA WAS IT LIKE THIS\""
   ]
  },
  {
   "cell_type": "code",
   "execution_count": 106,
   "metadata": {},
   "outputs": [],
   "source": [
    "query_3 = '''In the name of God, the most gracious, the most Merciful. From Muhammad, the Messenger of God to Heraclius, the emperor of Byzantium. greetings to him who is the follower of righteous guidance. I bid you to hear the divine call. I am the messenger of God to the people; accept Islam for your salvation. He speaks of a new prophet in Arabia. Was it like this when John, the Baptist came to king Herod out of the desert, crying about salvation?'''"
   ]
  },
  {
   "cell_type": "code",
   "execution_count": 127,
   "metadata": {},
   "outputs": [],
   "source": [
    "# query = 'the mysteryof tansen\\'s tanpura begins with...the curse of the rudrabina?\"sarod, sitar, flute,santoor, shehnai...sarangi, rudrabina.\"nawab amanat khanhad gifted each of us a disc.is this a clue to findingtansen\\'s raga sanjivani?your singing and your workhas impressed us, naad.your singing is full of mystery.but it\\'s lifeless.you have to atone for the sinsof your ancestors, naad.will you accept me as your student?of course.do you still have your disc?\"in the heart of rudrapurlies a shiva lakewhen the discs are alignedand the notes are playedat twice the pace of timeraga sanjivani you shall find.\"was salamat unclemadanti\\'s descendant?you\\'re hiding somethingthis time too.mom!can you hear me?mom!tell me, bahadur.were salamat and noor...murdered?no matter what it takes...i will unravel this mystery.support us and become vip member to remove all ads from you...you\\'re noor\\'s father, bahadur?and all these years...you kept it a secret?lolit.you and saaz should leave.dangerous...they are dangerous.- what if something happens to you...- what will happen?what do i have to lose?take saaz and go away from here.bahadur.stay with us for a few days.it\\'s not safe for youto stay alone.you don\\'t have to worryabout me.won\\'t spare them.i won\\'t spare anyone.- bahadur.- lolit...curse of the rudrabinacurse of the rudrabinapart hey, where\\'s everyone?- upstairs.- oh.- all good?- yes.good morning.wow!everyone is here, huh.you?why are you here?to do my duty as a friend.lolit might not consider me his friend...but i consider him a friend.how can i not stand by himin times of need?your skin should be displayedin the museumfor rhinos and chameleons to see.hmm.everyone changes colour,pandit ranjan ghosh.you defamed me.that\\'s how you got the national music awardmeant for me.- now i know...- stop talking nonsense, hemanta.you?- you\\'re a disgrace to anandagarh.- hmm.there\\'s just one problem.you couldn\\'t prove it in court.you needed a better planto frame me.- hemanta.- yes?i\\'m really not in the mood.- please leave.- right.lolit, i know this was a big loss for you.but you can\\'t break down, my friend.hemanta, whatever i might be...i\\'m not a scoundrel like you.hmm.so, i don\\'t need your consolation.leave.you still misunderstand mefor that characterless woman?hey, cut the crap.why aren\\'t you throwing him out, dad?hemanta, go away!just leave.i better not see you here again.my goodness!so, everyone\\'s out to insult me.fine.i\\'ll leave if you want me to.all of you wronged rohini.but all the blame\\'s on me now?good.great!just a minute.nawab amanat khan had given youa discat your naming ceremony.do you have it?yes.why?can i take a look at it?just a look?you can keep it.i don\\'t need it anymore.alap...who do i have but you?how can i get the disc?it\\'s in my bag right now.come with me.he\\'s carrying it with him!well, look at that.you need my help, after all.hmm?come.i always carry this with me.it\\'s a gift from the great guru,after all.here you go.someone who can sellhis lover for money...can never value a precious gift.i don\\'t buy it.if you harm my mother againno one will be able to save youfrom me.hmmph!(inaudible)good morning, alap.hope you recognise me.this is the rudrabhairav.how long will it take?um...i\\'ll do it.i\\'ll fix up a date.don\\'t worry.confirm the show.yes.the job will be done.okay.show? you\\'re managing shows?hey, why are you lying?i\\'ve been noticing you.- i\\'m not...- you haven\\'t even been practising.don\\'t avoid me.why are you lying?wait.turn off the lights.the guards are not there.- come with me.- okay.come along.let\\'s go.have you checked properly?wait.let me go first.- let\\'s go.- come.this way.hurry up.this way.'\n",
    "\n",
    "# # relevant_chunks = db.similarity_search(query=query, k=5)\n",
    "\n",
    "relevant_chunks = collection.query(query_texts=[transcription_cleaned], n_results=10)\n"
   ]
  },
  {
   "cell_type": "code",
   "execution_count": 128,
   "metadata": {},
   "outputs": [
    {
     "data": {
      "text/plain": [
       "[[{'movie_name': 'yumis.cells.s02.e13.episode.2.13.(2022).eng.1cd'},\n",
       "  {'movie_name': 'the.message.(1976).eng.1cd'},\n",
       "  {'movie_name': 'yumis.cells.s02.e14.episode.2.14.(2022).eng.1cd'},\n",
       "  {'movie_name': 'teen.wolf.s02.e10.fury.(2012).eng.1cd'},\n",
       "  {'movie_name': 'the.myth.(2005).eng.1cd'},\n",
       "  {'movie_name': 'broker.(2022).eng.1cd'},\n",
       "  {'movie_name': 'the.noose.(1958).eng.1cd'},\n",
       "  {'movie_name': 'teen.wolf.s02.e11.battlefield.(2012).eng.1cd'},\n",
       "  {'movie_name': 'teen.wolf.s01.e05.the.tell.(2011).eng.1cd'},\n",
       "  {'movie_name': 'fires.s01.e01.episode.1.1.(2021).eng.1cd'}]]"
      ]
     },
     "execution_count": 128,
     "metadata": {},
     "output_type": "execute_result"
    }
   ],
   "source": [
    "relevant_chunks['metadatas']"
   ]
  },
  {
   "cell_type": "code",
   "execution_count": 131,
   "metadata": {},
   "outputs": [
    {
     "data": {
      "text/plain": [
       "[['2', '0', '3', '247', '5', '4', '148', '248', '254', '299']]"
      ]
     },
     "execution_count": 131,
     "metadata": {},
     "output_type": "execute_result"
    }
   ],
   "source": [
    "relevant_chunks['ids']"
   ]
  },
  {
   "cell_type": "code",
   "execution_count": 132,
   "metadata": {},
   "outputs": [
    {
     "data": {
      "text/plain": [
       "[[0.31683897972106934,\n",
       "  0.3520655632019043,\n",
       "  0.3593193292617798,\n",
       "  0.3599395751953125,\n",
       "  0.37373775243759155,\n",
       "  0.380146861076355,\n",
       "  0.3876173496246338,\n",
       "  0.41945916414260864,\n",
       "  0.43118762969970703,\n",
       "  0.43164730072021484]]"
      ]
     },
     "execution_count": 132,
     "metadata": {},
     "output_type": "execute_result"
    }
   ],
   "source": [
    "relevant_chunks['distances']"
   ]
  }
 ],
 "metadata": {
  "kernelspec": {
   "display_name": "subtitleSearch",
   "language": "python",
   "name": "python3"
  },
  "language_info": {
   "codemirror_mode": {
    "name": "ipython",
    "version": 3
   },
   "file_extension": ".py",
   "mimetype": "text/x-python",
   "name": "python",
   "nbconvert_exporter": "python",
   "pygments_lexer": "ipython3",
   "version": "3.10.15"
  }
 },
 "nbformat": 4,
 "nbformat_minor": 2
}
